{
 "cells": [
  {
   "cell_type": "code",
   "execution_count": 120,
   "metadata": {},
   "outputs": [],
   "source": [
    "import os\n",
    "import pandas as pd\n",
    "import tempfile\n",
    "import matplotlib.pyplot as plt\n",
    "import statistics\n",
    "import numpy as np\n",
    "from sklearn.model_selection import train_test_split\n",
    "import pandas as pd\n",
    "import tensorflow as tf\n",
    "from tensorflow.keras.optimizers import Adam, SGD, RMSprop\n",
    "from tensorflow.keras.models import Sequential\n",
    "from tensorflow.keras.layers import Dense, Flatten, Dropout\n",
    "from tensorflow.keras.utils import to_categorical\n",
    "from sklearn.preprocessing import StandardScaler, MinMaxScaler\n",
    "from kerasbeats import prep_time_series, NBeatsModel\n",
    "from sklearn.metrics import classification_report\n",
    "from sklearn.metrics import precision_score, recall_score, f1_score, accuracy_score\n",
    "# from darts.models import NBEATSModel\n",
    "\n",
    "# from darts import TimeSeries, concatenate\n",
    "from tensorflow.keras.models import Sequential\n",
    "from tensorflow.keras.layers import Dense\n",
    "from tensorflow.keras.layers import Flatten\n",
    "from tensorflow.keras.layers import Dropout\n",
    "from tensorflow.keras.layers import LSTM\n",
    "from tensorflow.keras.utils import to_categorical\n",
    "from sklearn.metrics import confusion_matrix\n",
    "from tensorflow.keras.layers import Bidirectional\n",
    "from tensorflow.keras import optimizers\n",
    "from tensorflow.keras.layers import Input, LSTM, Dense, TimeDistributed, Activation, BatchNormalization, Dropout, Bidirectional\n",
    "from tensorflow.keras.layers import Conv1D, MaxPooling1D, MaxPool1D, Flatten, Conv2D, MaxPooling2D\n",
    "# from keras.models import Sequential\n",
    "# from keras.layers import Dense\n",
    "# from keras.layers import Flatten\n",
    "# from keras.layers import Dropout\n",
    "# from keras.layers import LSTM\n",
    "# from keras.utils import to_categorical\n",
    "# from sklearn.metrics import confusion_matrix\n",
    "# from keras.layers import Bidirectional\n",
    "# from keras import optimizers\n",
    "# from keras.layers import Input, LSTM, Dense, TimeDistributed, Activation, BatchNormalization, Dropout, Bidirectional\n",
    "# from keras.layers import Conv1D, MaxPooling1D, MaxPool1D, Flatten, Conv2D\n",
    "# import pickle\n",
    "from sklearn.metrics import fbeta_score\n",
    "import tensorflow_model_optimization as tfmot\n",
    "# import keras\n"
   ]
  },
  {
   "cell_type": "code",
   "execution_count": 121,
   "metadata": {},
   "outputs": [],
   "source": [
    "\n",
    "\n",
    "# directory = './Data/tinyml_contest_data_training'\n",
    "\n",
    "# data = {'Subject Number': [],\n",
    "#         'Label': [],\n",
    "#         'Index': [],\n",
    "#         'Bin'  : []}\n",
    "\n",
    "# df = pd.DataFrame(data)\n",
    "\n",
    "\n",
    "# rows, cols = (30213, 1251)\n",
    "# arr = [[0]*cols]*rows\n",
    "# print('row: ' + str(len(arr)))\n",
    "# print('col: ' + str(len(arr[0])))\n",
    "        \n",
    "        \n",
    "# print(df)\n",
    "# # iterate over files in\n",
    "# # that directory\n",
    "\n",
    "# filecnt = 0\n",
    "\n",
    "# for filename in os.scandir(directory):\n",
    "#     #if filename.is_file():\n",
    "#         #print(filename.path.replace('DeepLearning_for_ImagingFlowCytometry/data/TinyMl/tinyml_contest_data_training', '', 1))\n",
    "        \n",
    "#     filevals = []\n",
    "        \n",
    "#     datav2 = pd.read_csv(filename, sep=\" \", header=None)\n",
    "    \n",
    "#     datav2.columns = [filename]\n",
    "#     #filevals.append(filename)    \n",
    "#     for x in datav2[filename]:\n",
    "#         filevals.append(x)\n",
    "    \n",
    "#     arr[filecnt] = filevals  \n",
    "    \n",
    "    \n",
    "    \n",
    "#     name = filename.path[36:]\n",
    "#         #filenames[name] = {}\n",
    "#     sub = name.split('-')[0]\n",
    "#     lab = name[4:].split('-')[0]\n",
    "#     ind = int(name.split('-')[2][:-4])\n",
    "    \n",
    "#     if lab in [\"VT\", \"VFb\"] :\n",
    "#         bin = 1\n",
    "#     else:\n",
    "#         bin = 0\n",
    "    \n",
    "#     df2 = {'Subject Number': sub, 'Label': lab, 'Index': ind, 'Bin' : bin}\n",
    "    \n",
    "#     df = df.append(df2, ignore_index = True)\n",
    "    \n",
    "    \n",
    "#     #for x in range(len(filevales)):\n",
    "#      #   arr[filecnt][x] = filevals[x]\n",
    "    \n",
    "#     filecnt += 1\n",
    "    \n",
    "    \n",
    "# import numpy\n",
    "\n",
    "# newnumpy = numpy.array(arr)\n",
    "\n",
    "# largedf = pd.DataFrame(newnumpy)\n",
    "\n",
    "\n",
    "# alldf = pd.concat([df, largedf], axis = 1)\n",
    "\n",
    "# alldf = alldf.sort_values(by=['Subject Number', 'Label', 'Index'], ignore_index = True)\n",
    "# alldf = alldf.drop(columns=['Label', 'Index', 'Bin'])\n",
    "# #print(filecnt)\n",
    "\n",
    "# print(len(arr[0]))\n",
    "\n",
    "# #print(alldf.head())\n",
    "\n",
    "# onlylab = df.drop(columns=['Subject Number','Label', 'Index'])\n",
    "\n",
    "# finaldf = pd.concat([alldf, onlylab], axis = 1)\n",
    "\n",
    "# # print(finaldf.head())"
   ]
  },
  {
   "cell_type": "code",
   "execution_count": 122,
   "metadata": {},
   "outputs": [
    {
     "name": "stdout",
     "output_type": "stream",
     "text": [
      " /device:CPU:0 || Unnamed device || CPU || 256.0 MiB\n",
      " /device:XLA_CPU:0 || Unnamed device || XLA_CPU || 16.0 GiB\n",
      " /device:XLA_GPU:0 || Unnamed device || XLA_GPU || 16.0 GiB\n",
      " /device:XLA_GPU:1 || Unnamed device || XLA_GPU || 16.0 GiB\n",
      " /device:XLA_GPU:2 || Unnamed device || XLA_GPU || 16.0 GiB\n",
      " /device:XLA_GPU:3 || Unnamed device || XLA_GPU || 16.0 GiB\n",
      " /device:GPU:0 ||  GeForce GTX 1080 Ti || GPU || 10.1 GiB\n",
      " /device:GPU:1 ||  GeForce GTX 1080 Ti || GPU || 10.1 GiB\n",
      " /device:GPU:2 ||  GeForce GTX 1080 Ti || GPU || 10.1 GiB\n",
      " /device:GPU:3 ||  GeForce GTX 1080 Ti || GPU || 10.1 GiB\n"
     ]
    },
    {
     "name": "stderr",
     "output_type": "stream",
     "text": [
      "2022-10-05 01:19:43.296011: I tensorflow/core/common_runtime/gpu/gpu_device.cc:1561] Found device 0 with properties: \n",
      "pciBusID: 0000:02:00.0 name: GeForce GTX 1080 Ti computeCapability: 6.1\n",
      "coreClock: 1.582GHz coreCount: 28 deviceMemorySize: 10.92GiB deviceMemoryBandwidth: 451.17GiB/s\n",
      "2022-10-05 01:19:43.297237: I tensorflow/core/common_runtime/gpu/gpu_device.cc:1561] Found device 1 with properties: \n",
      "pciBusID: 0000:03:00.0 name: GeForce GTX 1080 Ti computeCapability: 6.1\n",
      "coreClock: 1.582GHz coreCount: 28 deviceMemorySize: 10.92GiB deviceMemoryBandwidth: 451.17GiB/s\n",
      "2022-10-05 01:19:43.298390: I tensorflow/core/common_runtime/gpu/gpu_device.cc:1561] Found device 2 with properties: \n",
      "pciBusID: 0000:81:00.0 name: GeForce GTX 1080 Ti computeCapability: 6.1\n",
      "coreClock: 1.582GHz coreCount: 28 deviceMemorySize: 10.92GiB deviceMemoryBandwidth: 451.17GiB/s\n",
      "2022-10-05 01:19:43.299543: I tensorflow/core/common_runtime/gpu/gpu_device.cc:1561] Found device 3 with properties: \n",
      "pciBusID: 0000:82:00.0 name: GeForce GTX 1080 Ti computeCapability: 6.1\n",
      "coreClock: 1.582GHz coreCount: 28 deviceMemorySize: 10.92GiB deviceMemoryBandwidth: 451.17GiB/s\n",
      "2022-10-05 01:19:43.299674: I tensorflow/stream_executor/platform/default/dso_loader.cc:44] Successfully opened dynamic library libcudart.so.10.1\n",
      "2022-10-05 01:19:43.299721: I tensorflow/stream_executor/platform/default/dso_loader.cc:44] Successfully opened dynamic library libcublas.so.10\n",
      "2022-10-05 01:19:43.299764: I tensorflow/stream_executor/platform/default/dso_loader.cc:44] Successfully opened dynamic library libcufft.so.10\n",
      "2022-10-05 01:19:43.299806: I tensorflow/stream_executor/platform/default/dso_loader.cc:44] Successfully opened dynamic library libcurand.so.10\n",
      "2022-10-05 01:19:43.299846: I tensorflow/stream_executor/platform/default/dso_loader.cc:44] Successfully opened dynamic library libcusolver.so.10\n",
      "2022-10-05 01:19:43.299887: I tensorflow/stream_executor/platform/default/dso_loader.cc:44] Successfully opened dynamic library libcusparse.so.10\n",
      "2022-10-05 01:19:43.299927: I tensorflow/stream_executor/platform/default/dso_loader.cc:44] Successfully opened dynamic library libcudnn.so.7\n",
      "2022-10-05 01:19:43.305153: I tensorflow/core/common_runtime/gpu/gpu_device.cc:1703] Adding visible gpu devices: 0, 1, 2, 3\n",
      "2022-10-05 01:19:43.305272: I tensorflow/core/common_runtime/gpu/gpu_device.cc:1102] Device interconnect StreamExecutor with strength 1 edge matrix:\n",
      "2022-10-05 01:19:43.305286: I tensorflow/core/common_runtime/gpu/gpu_device.cc:1108]      0 1 2 3 \n",
      "2022-10-05 01:19:43.305293: I tensorflow/core/common_runtime/gpu/gpu_device.cc:1121] 0:   N Y N N \n",
      "2022-10-05 01:19:43.305299: I tensorflow/core/common_runtime/gpu/gpu_device.cc:1121] 1:   Y N N N \n",
      "2022-10-05 01:19:43.305305: I tensorflow/core/common_runtime/gpu/gpu_device.cc:1121] 2:   N N N Y \n",
      "2022-10-05 01:19:43.305311: I tensorflow/core/common_runtime/gpu/gpu_device.cc:1121] 3:   N N Y N \n",
      "2022-10-05 01:19:43.308639: I tensorflow/core/common_runtime/gpu/gpu_device.cc:1247] Created TensorFlow device (/device:GPU:0 with 10377 MB memory) -> physical GPU (device: 0, name: GeForce GTX 1080 Ti, pci bus id: 0000:02:00.0, compute capability: 6.1)\n",
      "2022-10-05 01:19:43.309480: I tensorflow/core/common_runtime/gpu/gpu_device.cc:1247] Created TensorFlow device (/device:GPU:1 with 10378 MB memory) -> physical GPU (device: 1, name: GeForce GTX 1080 Ti, pci bus id: 0000:03:00.0, compute capability: 6.1)\n",
      "2022-10-05 01:19:43.310002: I tensorflow/core/common_runtime/gpu/gpu_device.cc:1247] Created TensorFlow device (/device:GPU:2 with 10378 MB memory) -> physical GPU (device: 2, name: GeForce GTX 1080 Ti, pci bus id: 0000:81:00.0, compute capability: 6.1)\n",
      "2022-10-05 01:19:43.310658: I tensorflow/core/common_runtime/gpu/gpu_device.cc:1247] Created TensorFlow device (/device:GPU:3 with 10378 MB memory) -> physical GPU (device: 3, name: GeForce GTX 1080 Ti, pci bus id: 0000:82:00.0, compute capability: 6.1)\n"
     ]
    }
   ],
   "source": [
    "from tensorflow.python.client import device_lib\n",
    "devices = device_lib.list_local_devices()\n",
    "\n",
    "def sizeof_fmt(num, suffix='B'):\n",
    "    for unit in ['','Ki','Mi','Gi','Ti','Pi','Ei','Zi']:\n",
    "        if abs(num) < 1024.0:\n",
    "            return \"%3.1f %s%s\" % (num, unit, suffix)\n",
    "        num /= 1024.0\n",
    "    return \"%.1f%s%s\" % (num, 'Yi', suffix)\n",
    "\n",
    "for d in devices:\n",
    "    t = d.device_type\n",
    "    name = d.physical_device_desc\n",
    "    l = [item.split(':',1) for item in name.split(\", \")]\n",
    "    name_attr = dict([x for x in l if len(x)==2])\n",
    "    dev = name_attr.get('name', 'Unnamed device')\n",
    "    print(f\" {d.name} || {dev} || {t} || {sizeof_fmt(d.memory_limit)}\")"
   ]
  },
  {
   "cell_type": "code",
   "execution_count": 123,
   "metadata": {},
   "outputs": [],
   "source": [
    "finaldf = pd.read_csv('dataloaded.csv')"
   ]
  },
  {
   "cell_type": "code",
   "execution_count": 124,
   "metadata": {},
   "outputs": [
    {
     "data": {
      "text/html": [
       "<div>\n",
       "<style scoped>\n",
       "    .dataframe tbody tr th:only-of-type {\n",
       "        vertical-align: middle;\n",
       "    }\n",
       "\n",
       "    .dataframe tbody tr th {\n",
       "        vertical-align: top;\n",
       "    }\n",
       "\n",
       "    .dataframe thead th {\n",
       "        text-align: right;\n",
       "    }\n",
       "</style>\n",
       "<table border=\"1\" class=\"dataframe\">\n",
       "  <thead>\n",
       "    <tr style=\"text-align: right;\">\n",
       "      <th></th>\n",
       "      <th>Subject Number</th>\n",
       "      <th>0</th>\n",
       "      <th>1</th>\n",
       "      <th>2</th>\n",
       "      <th>3</th>\n",
       "      <th>4</th>\n",
       "      <th>5</th>\n",
       "      <th>6</th>\n",
       "      <th>7</th>\n",
       "      <th>8</th>\n",
       "      <th>...</th>\n",
       "      <th>1241</th>\n",
       "      <th>1242</th>\n",
       "      <th>1243</th>\n",
       "      <th>1244</th>\n",
       "      <th>1245</th>\n",
       "      <th>1246</th>\n",
       "      <th>1247</th>\n",
       "      <th>1248</th>\n",
       "      <th>1249</th>\n",
       "      <th>Bin</th>\n",
       "    </tr>\n",
       "  </thead>\n",
       "  <tbody>\n",
       "    <tr>\n",
       "      <th>0</th>\n",
       "      <td>S01</td>\n",
       "      <td>-0.001718</td>\n",
       "      <td>-0.095806</td>\n",
       "      <td>-0.164705</td>\n",
       "      <td>-0.189470</td>\n",
       "      <td>-0.105115</td>\n",
       "      <td>-0.007060</td>\n",
       "      <td>0.106121</td>\n",
       "      <td>0.127848</td>\n",
       "      <td>0.111724</td>\n",
       "      <td>...</td>\n",
       "      <td>0.030358</td>\n",
       "      <td>0.023003</td>\n",
       "      <td>-0.007709</td>\n",
       "      <td>-0.003488</td>\n",
       "      <td>0.014278</td>\n",
       "      <td>-0.017681</td>\n",
       "      <td>-0.020547</td>\n",
       "      <td>-0.001652</td>\n",
       "      <td>-0.030727</td>\n",
       "      <td>0.0</td>\n",
       "    </tr>\n",
       "    <tr>\n",
       "      <th>1</th>\n",
       "      <td>S01</td>\n",
       "      <td>0.016251</td>\n",
       "      <td>-0.008247</td>\n",
       "      <td>0.005012</td>\n",
       "      <td>-0.007177</td>\n",
       "      <td>-0.000700</td>\n",
       "      <td>-0.018108</td>\n",
       "      <td>0.017456</td>\n",
       "      <td>-0.013712</td>\n",
       "      <td>0.010719</td>\n",
       "      <td>...</td>\n",
       "      <td>-0.018446</td>\n",
       "      <td>0.001842</td>\n",
       "      <td>0.005302</td>\n",
       "      <td>0.011047</td>\n",
       "      <td>0.017912</td>\n",
       "      <td>0.021195</td>\n",
       "      <td>-0.001553</td>\n",
       "      <td>0.033582</td>\n",
       "      <td>0.024117</td>\n",
       "      <td>0.0</td>\n",
       "    </tr>\n",
       "    <tr>\n",
       "      <th>2</th>\n",
       "      <td>S01</td>\n",
       "      <td>-0.012153</td>\n",
       "      <td>-0.019460</td>\n",
       "      <td>0.010308</td>\n",
       "      <td>-0.011775</td>\n",
       "      <td>0.009485</td>\n",
       "      <td>0.017778</td>\n",
       "      <td>-0.014232</td>\n",
       "      <td>0.006212</td>\n",
       "      <td>0.010179</td>\n",
       "      <td>...</td>\n",
       "      <td>-0.002355</td>\n",
       "      <td>-0.001435</td>\n",
       "      <td>-0.008413</td>\n",
       "      <td>-0.011103</td>\n",
       "      <td>-0.013496</td>\n",
       "      <td>-0.003475</td>\n",
       "      <td>-0.006173</td>\n",
       "      <td>0.002482</td>\n",
       "      <td>-0.004514</td>\n",
       "      <td>0.0</td>\n",
       "    </tr>\n",
       "    <tr>\n",
       "      <th>3</th>\n",
       "      <td>S01</td>\n",
       "      <td>0.003189</td>\n",
       "      <td>0.009441</td>\n",
       "      <td>0.013109</td>\n",
       "      <td>0.004647</td>\n",
       "      <td>-0.006620</td>\n",
       "      <td>-0.004719</td>\n",
       "      <td>0.002988</td>\n",
       "      <td>-0.023382</td>\n",
       "      <td>0.007880</td>\n",
       "      <td>...</td>\n",
       "      <td>-0.002689</td>\n",
       "      <td>-0.004957</td>\n",
       "      <td>0.009094</td>\n",
       "      <td>0.013103</td>\n",
       "      <td>-0.012610</td>\n",
       "      <td>-0.020514</td>\n",
       "      <td>0.006492</td>\n",
       "      <td>-0.006451</td>\n",
       "      <td>-0.009719</td>\n",
       "      <td>0.0</td>\n",
       "    </tr>\n",
       "    <tr>\n",
       "      <th>4</th>\n",
       "      <td>S01</td>\n",
       "      <td>0.012738</td>\n",
       "      <td>0.012978</td>\n",
       "      <td>-0.013933</td>\n",
       "      <td>0.013002</td>\n",
       "      <td>-0.011752</td>\n",
       "      <td>0.007639</td>\n",
       "      <td>-0.013597</td>\n",
       "      <td>-0.000866</td>\n",
       "      <td>0.000694</td>\n",
       "      <td>...</td>\n",
       "      <td>0.013919</td>\n",
       "      <td>-0.007044</td>\n",
       "      <td>0.031403</td>\n",
       "      <td>0.012673</td>\n",
       "      <td>-0.003761</td>\n",
       "      <td>-0.013153</td>\n",
       "      <td>-0.012249</td>\n",
       "      <td>-0.015965</td>\n",
       "      <td>-0.004866</td>\n",
       "      <td>0.0</td>\n",
       "    </tr>\n",
       "    <tr>\n",
       "      <th>...</th>\n",
       "      <td>...</td>\n",
       "      <td>...</td>\n",
       "      <td>...</td>\n",
       "      <td>...</td>\n",
       "      <td>...</td>\n",
       "      <td>...</td>\n",
       "      <td>...</td>\n",
       "      <td>...</td>\n",
       "      <td>...</td>\n",
       "      <td>...</td>\n",
       "      <td>...</td>\n",
       "      <td>...</td>\n",
       "      <td>...</td>\n",
       "      <td>...</td>\n",
       "      <td>...</td>\n",
       "      <td>...</td>\n",
       "      <td>...</td>\n",
       "      <td>...</td>\n",
       "      <td>...</td>\n",
       "      <td>...</td>\n",
       "      <td>...</td>\n",
       "    </tr>\n",
       "    <tr>\n",
       "      <th>30208</th>\n",
       "      <td>S95</td>\n",
       "      <td>-0.332482</td>\n",
       "      <td>-0.340718</td>\n",
       "      <td>-0.122615</td>\n",
       "      <td>0.085202</td>\n",
       "      <td>0.471829</td>\n",
       "      <td>0.630832</td>\n",
       "      <td>0.878892</td>\n",
       "      <td>0.443409</td>\n",
       "      <td>0.016916</td>\n",
       "      <td>...</td>\n",
       "      <td>-0.286388</td>\n",
       "      <td>0.065137</td>\n",
       "      <td>-0.055429</td>\n",
       "      <td>0.236196</td>\n",
       "      <td>0.063671</td>\n",
       "      <td>0.186460</td>\n",
       "      <td>0.218980</td>\n",
       "      <td>0.200417</td>\n",
       "      <td>0.070140</td>\n",
       "      <td>1.0</td>\n",
       "    </tr>\n",
       "    <tr>\n",
       "      <th>30209</th>\n",
       "      <td>S95</td>\n",
       "      <td>-0.209928</td>\n",
       "      <td>-0.204724</td>\n",
       "      <td>0.033302</td>\n",
       "      <td>-0.076489</td>\n",
       "      <td>0.087503</td>\n",
       "      <td>0.130825</td>\n",
       "      <td>-0.061206</td>\n",
       "      <td>0.190358</td>\n",
       "      <td>0.185017</td>\n",
       "      <td>...</td>\n",
       "      <td>0.884048</td>\n",
       "      <td>0.793466</td>\n",
       "      <td>0.572090</td>\n",
       "      <td>0.089591</td>\n",
       "      <td>-0.089960</td>\n",
       "      <td>-0.028005</td>\n",
       "      <td>-0.161846</td>\n",
       "      <td>0.027143</td>\n",
       "      <td>-0.189498</td>\n",
       "      <td>1.0</td>\n",
       "    </tr>\n",
       "    <tr>\n",
       "      <th>30210</th>\n",
       "      <td>S95</td>\n",
       "      <td>-0.100085</td>\n",
       "      <td>-0.513255</td>\n",
       "      <td>-0.519358</td>\n",
       "      <td>-0.172858</td>\n",
       "      <td>0.384442</td>\n",
       "      <td>0.373873</td>\n",
       "      <td>0.129929</td>\n",
       "      <td>0.052760</td>\n",
       "      <td>-0.153613</td>\n",
       "      <td>...</td>\n",
       "      <td>0.057048</td>\n",
       "      <td>0.086446</td>\n",
       "      <td>0.377366</td>\n",
       "      <td>0.204054</td>\n",
       "      <td>0.256200</td>\n",
       "      <td>0.083140</td>\n",
       "      <td>0.221371</td>\n",
       "      <td>0.191867</td>\n",
       "      <td>-0.575213</td>\n",
       "      <td>1.0</td>\n",
       "    </tr>\n",
       "    <tr>\n",
       "      <th>30211</th>\n",
       "      <td>S95</td>\n",
       "      <td>0.131366</td>\n",
       "      <td>0.106964</td>\n",
       "      <td>0.050252</td>\n",
       "      <td>0.196197</td>\n",
       "      <td>0.027283</td>\n",
       "      <td>0.046262</td>\n",
       "      <td>0.035980</td>\n",
       "      <td>0.093962</td>\n",
       "      <td>0.019785</td>\n",
       "      <td>...</td>\n",
       "      <td>0.168492</td>\n",
       "      <td>-0.126853</td>\n",
       "      <td>-0.022228</td>\n",
       "      <td>0.005178</td>\n",
       "      <td>-0.120576</td>\n",
       "      <td>-0.155777</td>\n",
       "      <td>-0.108943</td>\n",
       "      <td>-0.158428</td>\n",
       "      <td>0.006180</td>\n",
       "      <td>1.0</td>\n",
       "    </tr>\n",
       "    <tr>\n",
       "      <th>30212</th>\n",
       "      <td>S95</td>\n",
       "      <td>0.205708</td>\n",
       "      <td>0.209226</td>\n",
       "      <td>-0.096537</td>\n",
       "      <td>-0.125522</td>\n",
       "      <td>-0.269852</td>\n",
       "      <td>-0.334346</td>\n",
       "      <td>-0.414996</td>\n",
       "      <td>-0.073428</td>\n",
       "      <td>0.111627</td>\n",
       "      <td>...</td>\n",
       "      <td>-0.218360</td>\n",
       "      <td>0.073458</td>\n",
       "      <td>-0.160720</td>\n",
       "      <td>0.088019</td>\n",
       "      <td>-0.029808</td>\n",
       "      <td>-0.082308</td>\n",
       "      <td>-0.119268</td>\n",
       "      <td>0.129305</td>\n",
       "      <td>-0.064128</td>\n",
       "      <td>1.0</td>\n",
       "    </tr>\n",
       "  </tbody>\n",
       "</table>\n",
       "<p>30213 rows × 1252 columns</p>\n",
       "</div>"
      ],
      "text/plain": [
       "      Subject Number         0         1         2         3         4  \\\n",
       "0                S01 -0.001718 -0.095806 -0.164705 -0.189470 -0.105115   \n",
       "1                S01  0.016251 -0.008247  0.005012 -0.007177 -0.000700   \n",
       "2                S01 -0.012153 -0.019460  0.010308 -0.011775  0.009485   \n",
       "3                S01  0.003189  0.009441  0.013109  0.004647 -0.006620   \n",
       "4                S01  0.012738  0.012978 -0.013933  0.013002 -0.011752   \n",
       "...              ...       ...       ...       ...       ...       ...   \n",
       "30208            S95 -0.332482 -0.340718 -0.122615  0.085202  0.471829   \n",
       "30209            S95 -0.209928 -0.204724  0.033302 -0.076489  0.087503   \n",
       "30210            S95 -0.100085 -0.513255 -0.519358 -0.172858  0.384442   \n",
       "30211            S95  0.131366  0.106964  0.050252  0.196197  0.027283   \n",
       "30212            S95  0.205708  0.209226 -0.096537 -0.125522 -0.269852   \n",
       "\n",
       "              5         6         7         8  ...      1241      1242  \\\n",
       "0     -0.007060  0.106121  0.127848  0.111724  ...  0.030358  0.023003   \n",
       "1     -0.018108  0.017456 -0.013712  0.010719  ... -0.018446  0.001842   \n",
       "2      0.017778 -0.014232  0.006212  0.010179  ... -0.002355 -0.001435   \n",
       "3     -0.004719  0.002988 -0.023382  0.007880  ... -0.002689 -0.004957   \n",
       "4      0.007639 -0.013597 -0.000866  0.000694  ...  0.013919 -0.007044   \n",
       "...         ...       ...       ...       ...  ...       ...       ...   \n",
       "30208  0.630832  0.878892  0.443409  0.016916  ... -0.286388  0.065137   \n",
       "30209  0.130825 -0.061206  0.190358  0.185017  ...  0.884048  0.793466   \n",
       "30210  0.373873  0.129929  0.052760 -0.153613  ...  0.057048  0.086446   \n",
       "30211  0.046262  0.035980  0.093962  0.019785  ...  0.168492 -0.126853   \n",
       "30212 -0.334346 -0.414996 -0.073428  0.111627  ... -0.218360  0.073458   \n",
       "\n",
       "           1243      1244      1245      1246      1247      1248      1249  \\\n",
       "0     -0.007709 -0.003488  0.014278 -0.017681 -0.020547 -0.001652 -0.030727   \n",
       "1      0.005302  0.011047  0.017912  0.021195 -0.001553  0.033582  0.024117   \n",
       "2     -0.008413 -0.011103 -0.013496 -0.003475 -0.006173  0.002482 -0.004514   \n",
       "3      0.009094  0.013103 -0.012610 -0.020514  0.006492 -0.006451 -0.009719   \n",
       "4      0.031403  0.012673 -0.003761 -0.013153 -0.012249 -0.015965 -0.004866   \n",
       "...         ...       ...       ...       ...       ...       ...       ...   \n",
       "30208 -0.055429  0.236196  0.063671  0.186460  0.218980  0.200417  0.070140   \n",
       "30209  0.572090  0.089591 -0.089960 -0.028005 -0.161846  0.027143 -0.189498   \n",
       "30210  0.377366  0.204054  0.256200  0.083140  0.221371  0.191867 -0.575213   \n",
       "30211 -0.022228  0.005178 -0.120576 -0.155777 -0.108943 -0.158428  0.006180   \n",
       "30212 -0.160720  0.088019 -0.029808 -0.082308 -0.119268  0.129305 -0.064128   \n",
       "\n",
       "       Bin  \n",
       "0      0.0  \n",
       "1      0.0  \n",
       "2      0.0  \n",
       "3      0.0  \n",
       "4      0.0  \n",
       "...    ...  \n",
       "30208  1.0  \n",
       "30209  1.0  \n",
       "30210  1.0  \n",
       "30211  1.0  \n",
       "30212  1.0  \n",
       "\n",
       "[30213 rows x 1252 columns]"
      ]
     },
     "execution_count": 124,
     "metadata": {},
     "output_type": "execute_result"
    }
   ],
   "source": [
    "finaldf"
   ]
  },
  {
   "cell_type": "code",
   "execution_count": 125,
   "metadata": {},
   "outputs": [
    {
     "name": "stdout",
     "output_type": "stream",
     "text": [
      "INFO:tensorflow:Using MirroredStrategy with devices ('/job:localhost/replica:0/task:0/device:GPU:0', '/job:localhost/replica:0/task:0/device:GPU:1', '/job:localhost/replica:0/task:0/device:GPU:2', '/job:localhost/replica:0/task:0/device:GPU:3')\n"
     ]
    },
    {
     "name": "stderr",
     "output_type": "stream",
     "text": [
      "INFO:tensorflow:Using MirroredStrategy with devices ('/job:localhost/replica:0/task:0/device:GPU:0', '/job:localhost/replica:0/task:0/device:GPU:1', '/job:localhost/replica:0/task:0/device:GPU:2', '/job:localhost/replica:0/task:0/device:GPU:3')\n"
     ]
    },
    {
     "name": "stdout",
     "output_type": "stream",
     "text": [
      "Number of devices: 4\n"
     ]
    }
   ],
   "source": [
    "\n",
    "BATCH_SIZE = 32\n",
    "GPUS = [\"GPU:0\",\"GPU:1\", \"GPU:2\",\"GPU:3\"]\n",
    "\n",
    "\n",
    "strategy = tf.distribute.MirroredStrategy( GPUS )\n",
    "print('Number of devices: %d' % strategy.num_replicas_in_sync) \n",
    "\n",
    "batch_size = BATCH_SIZE * strategy.num_replicas_in_sync\n"
   ]
  },
  {
   "cell_type": "code",
   "execution_count": 126,
   "metadata": {},
   "outputs": [
    {
     "data": {
      "text/plain": [
       "0.0    16253\n",
       "1.0    13960\n",
       "Name: Bin, dtype: int64"
      ]
     },
     "execution_count": 126,
     "metadata": {},
     "output_type": "execute_result"
    }
   ],
   "source": [
    "finaldf.Bin.value_counts()"
   ]
  },
  {
   "cell_type": "code",
   "execution_count": 127,
   "metadata": {},
   "outputs": [],
   "source": [
    "finaldf_new  = finaldf.drop(columns=['Subject Number'], axis =1)"
   ]
  },
  {
   "cell_type": "code",
   "execution_count": 128,
   "metadata": {},
   "outputs": [
    {
     "data": {
      "text/html": [
       "<div>\n",
       "<style scoped>\n",
       "    .dataframe tbody tr th:only-of-type {\n",
       "        vertical-align: middle;\n",
       "    }\n",
       "\n",
       "    .dataframe tbody tr th {\n",
       "        vertical-align: top;\n",
       "    }\n",
       "\n",
       "    .dataframe thead th {\n",
       "        text-align: right;\n",
       "    }\n",
       "</style>\n",
       "<table border=\"1\" class=\"dataframe\">\n",
       "  <thead>\n",
       "    <tr style=\"text-align: right;\">\n",
       "      <th></th>\n",
       "      <th>0</th>\n",
       "      <th>1</th>\n",
       "      <th>2</th>\n",
       "      <th>3</th>\n",
       "      <th>4</th>\n",
       "      <th>5</th>\n",
       "      <th>6</th>\n",
       "      <th>7</th>\n",
       "      <th>8</th>\n",
       "      <th>9</th>\n",
       "      <th>...</th>\n",
       "      <th>1241</th>\n",
       "      <th>1242</th>\n",
       "      <th>1243</th>\n",
       "      <th>1244</th>\n",
       "      <th>1245</th>\n",
       "      <th>1246</th>\n",
       "      <th>1247</th>\n",
       "      <th>1248</th>\n",
       "      <th>1249</th>\n",
       "      <th>Bin</th>\n",
       "    </tr>\n",
       "  </thead>\n",
       "  <tbody>\n",
       "    <tr>\n",
       "      <th>0</th>\n",
       "      <td>-0.001718</td>\n",
       "      <td>-0.095806</td>\n",
       "      <td>-0.164705</td>\n",
       "      <td>-0.189470</td>\n",
       "      <td>-0.105115</td>\n",
       "      <td>-0.007060</td>\n",
       "      <td>0.106121</td>\n",
       "      <td>0.127848</td>\n",
       "      <td>0.111724</td>\n",
       "      <td>0.061645</td>\n",
       "      <td>...</td>\n",
       "      <td>0.030358</td>\n",
       "      <td>0.023003</td>\n",
       "      <td>-0.007709</td>\n",
       "      <td>-0.003488</td>\n",
       "      <td>0.014278</td>\n",
       "      <td>-0.017681</td>\n",
       "      <td>-0.020547</td>\n",
       "      <td>-0.001652</td>\n",
       "      <td>-0.030727</td>\n",
       "      <td>0.0</td>\n",
       "    </tr>\n",
       "    <tr>\n",
       "      <th>1</th>\n",
       "      <td>0.016251</td>\n",
       "      <td>-0.008247</td>\n",
       "      <td>0.005012</td>\n",
       "      <td>-0.007177</td>\n",
       "      <td>-0.000700</td>\n",
       "      <td>-0.018108</td>\n",
       "      <td>0.017456</td>\n",
       "      <td>-0.013712</td>\n",
       "      <td>0.010719</td>\n",
       "      <td>0.010638</td>\n",
       "      <td>...</td>\n",
       "      <td>-0.018446</td>\n",
       "      <td>0.001842</td>\n",
       "      <td>0.005302</td>\n",
       "      <td>0.011047</td>\n",
       "      <td>0.017912</td>\n",
       "      <td>0.021195</td>\n",
       "      <td>-0.001553</td>\n",
       "      <td>0.033582</td>\n",
       "      <td>0.024117</td>\n",
       "      <td>0.0</td>\n",
       "    </tr>\n",
       "    <tr>\n",
       "      <th>2</th>\n",
       "      <td>-0.012153</td>\n",
       "      <td>-0.019460</td>\n",
       "      <td>0.010308</td>\n",
       "      <td>-0.011775</td>\n",
       "      <td>0.009485</td>\n",
       "      <td>0.017778</td>\n",
       "      <td>-0.014232</td>\n",
       "      <td>0.006212</td>\n",
       "      <td>0.010179</td>\n",
       "      <td>0.000313</td>\n",
       "      <td>...</td>\n",
       "      <td>-0.002355</td>\n",
       "      <td>-0.001435</td>\n",
       "      <td>-0.008413</td>\n",
       "      <td>-0.011103</td>\n",
       "      <td>-0.013496</td>\n",
       "      <td>-0.003475</td>\n",
       "      <td>-0.006173</td>\n",
       "      <td>0.002482</td>\n",
       "      <td>-0.004514</td>\n",
       "      <td>0.0</td>\n",
       "    </tr>\n",
       "    <tr>\n",
       "      <th>3</th>\n",
       "      <td>0.003189</td>\n",
       "      <td>0.009441</td>\n",
       "      <td>0.013109</td>\n",
       "      <td>0.004647</td>\n",
       "      <td>-0.006620</td>\n",
       "      <td>-0.004719</td>\n",
       "      <td>0.002988</td>\n",
       "      <td>-0.023382</td>\n",
       "      <td>0.007880</td>\n",
       "      <td>0.019491</td>\n",
       "      <td>...</td>\n",
       "      <td>-0.002689</td>\n",
       "      <td>-0.004957</td>\n",
       "      <td>0.009094</td>\n",
       "      <td>0.013103</td>\n",
       "      <td>-0.012610</td>\n",
       "      <td>-0.020514</td>\n",
       "      <td>0.006492</td>\n",
       "      <td>-0.006451</td>\n",
       "      <td>-0.009719</td>\n",
       "      <td>0.0</td>\n",
       "    </tr>\n",
       "    <tr>\n",
       "      <th>4</th>\n",
       "      <td>0.012738</td>\n",
       "      <td>0.012978</td>\n",
       "      <td>-0.013933</td>\n",
       "      <td>0.013002</td>\n",
       "      <td>-0.011752</td>\n",
       "      <td>0.007639</td>\n",
       "      <td>-0.013597</td>\n",
       "      <td>-0.000866</td>\n",
       "      <td>0.000694</td>\n",
       "      <td>0.000275</td>\n",
       "      <td>...</td>\n",
       "      <td>0.013919</td>\n",
       "      <td>-0.007044</td>\n",
       "      <td>0.031403</td>\n",
       "      <td>0.012673</td>\n",
       "      <td>-0.003761</td>\n",
       "      <td>-0.013153</td>\n",
       "      <td>-0.012249</td>\n",
       "      <td>-0.015965</td>\n",
       "      <td>-0.004866</td>\n",
       "      <td>0.0</td>\n",
       "    </tr>\n",
       "    <tr>\n",
       "      <th>...</th>\n",
       "      <td>...</td>\n",
       "      <td>...</td>\n",
       "      <td>...</td>\n",
       "      <td>...</td>\n",
       "      <td>...</td>\n",
       "      <td>...</td>\n",
       "      <td>...</td>\n",
       "      <td>...</td>\n",
       "      <td>...</td>\n",
       "      <td>...</td>\n",
       "      <td>...</td>\n",
       "      <td>...</td>\n",
       "      <td>...</td>\n",
       "      <td>...</td>\n",
       "      <td>...</td>\n",
       "      <td>...</td>\n",
       "      <td>...</td>\n",
       "      <td>...</td>\n",
       "      <td>...</td>\n",
       "      <td>...</td>\n",
       "      <td>...</td>\n",
       "    </tr>\n",
       "    <tr>\n",
       "      <th>30208</th>\n",
       "      <td>-0.332482</td>\n",
       "      <td>-0.340718</td>\n",
       "      <td>-0.122615</td>\n",
       "      <td>0.085202</td>\n",
       "      <td>0.471829</td>\n",
       "      <td>0.630832</td>\n",
       "      <td>0.878892</td>\n",
       "      <td>0.443409</td>\n",
       "      <td>0.016916</td>\n",
       "      <td>-0.467942</td>\n",
       "      <td>...</td>\n",
       "      <td>-0.286388</td>\n",
       "      <td>0.065137</td>\n",
       "      <td>-0.055429</td>\n",
       "      <td>0.236196</td>\n",
       "      <td>0.063671</td>\n",
       "      <td>0.186460</td>\n",
       "      <td>0.218980</td>\n",
       "      <td>0.200417</td>\n",
       "      <td>0.070140</td>\n",
       "      <td>1.0</td>\n",
       "    </tr>\n",
       "    <tr>\n",
       "      <th>30209</th>\n",
       "      <td>-0.209928</td>\n",
       "      <td>-0.204724</td>\n",
       "      <td>0.033302</td>\n",
       "      <td>-0.076489</td>\n",
       "      <td>0.087503</td>\n",
       "      <td>0.130825</td>\n",
       "      <td>-0.061206</td>\n",
       "      <td>0.190358</td>\n",
       "      <td>0.185017</td>\n",
       "      <td>0.133373</td>\n",
       "      <td>...</td>\n",
       "      <td>0.884048</td>\n",
       "      <td>0.793466</td>\n",
       "      <td>0.572090</td>\n",
       "      <td>0.089591</td>\n",
       "      <td>-0.089960</td>\n",
       "      <td>-0.028005</td>\n",
       "      <td>-0.161846</td>\n",
       "      <td>0.027143</td>\n",
       "      <td>-0.189498</td>\n",
       "      <td>1.0</td>\n",
       "    </tr>\n",
       "    <tr>\n",
       "      <th>30210</th>\n",
       "      <td>-0.100085</td>\n",
       "      <td>-0.513255</td>\n",
       "      <td>-0.519358</td>\n",
       "      <td>-0.172858</td>\n",
       "      <td>0.384442</td>\n",
       "      <td>0.373873</td>\n",
       "      <td>0.129929</td>\n",
       "      <td>0.052760</td>\n",
       "      <td>-0.153613</td>\n",
       "      <td>0.025636</td>\n",
       "      <td>...</td>\n",
       "      <td>0.057048</td>\n",
       "      <td>0.086446</td>\n",
       "      <td>0.377366</td>\n",
       "      <td>0.204054</td>\n",
       "      <td>0.256200</td>\n",
       "      <td>0.083140</td>\n",
       "      <td>0.221371</td>\n",
       "      <td>0.191867</td>\n",
       "      <td>-0.575213</td>\n",
       "      <td>1.0</td>\n",
       "    </tr>\n",
       "    <tr>\n",
       "      <th>30211</th>\n",
       "      <td>0.131366</td>\n",
       "      <td>0.106964</td>\n",
       "      <td>0.050252</td>\n",
       "      <td>0.196197</td>\n",
       "      <td>0.027283</td>\n",
       "      <td>0.046262</td>\n",
       "      <td>0.035980</td>\n",
       "      <td>0.093962</td>\n",
       "      <td>0.019785</td>\n",
       "      <td>0.028760</td>\n",
       "      <td>...</td>\n",
       "      <td>0.168492</td>\n",
       "      <td>-0.126853</td>\n",
       "      <td>-0.022228</td>\n",
       "      <td>0.005178</td>\n",
       "      <td>-0.120576</td>\n",
       "      <td>-0.155777</td>\n",
       "      <td>-0.108943</td>\n",
       "      <td>-0.158428</td>\n",
       "      <td>0.006180</td>\n",
       "      <td>1.0</td>\n",
       "    </tr>\n",
       "    <tr>\n",
       "      <th>30212</th>\n",
       "      <td>0.205708</td>\n",
       "      <td>0.209226</td>\n",
       "      <td>-0.096537</td>\n",
       "      <td>-0.125522</td>\n",
       "      <td>-0.269852</td>\n",
       "      <td>-0.334346</td>\n",
       "      <td>-0.414996</td>\n",
       "      <td>-0.073428</td>\n",
       "      <td>0.111627</td>\n",
       "      <td>0.309735</td>\n",
       "      <td>...</td>\n",
       "      <td>-0.218360</td>\n",
       "      <td>0.073458</td>\n",
       "      <td>-0.160720</td>\n",
       "      <td>0.088019</td>\n",
       "      <td>-0.029808</td>\n",
       "      <td>-0.082308</td>\n",
       "      <td>-0.119268</td>\n",
       "      <td>0.129305</td>\n",
       "      <td>-0.064128</td>\n",
       "      <td>1.0</td>\n",
       "    </tr>\n",
       "  </tbody>\n",
       "</table>\n",
       "<p>30213 rows × 1251 columns</p>\n",
       "</div>"
      ],
      "text/plain": [
       "              0         1         2         3         4         5         6  \\\n",
       "0     -0.001718 -0.095806 -0.164705 -0.189470 -0.105115 -0.007060  0.106121   \n",
       "1      0.016251 -0.008247  0.005012 -0.007177 -0.000700 -0.018108  0.017456   \n",
       "2     -0.012153 -0.019460  0.010308 -0.011775  0.009485  0.017778 -0.014232   \n",
       "3      0.003189  0.009441  0.013109  0.004647 -0.006620 -0.004719  0.002988   \n",
       "4      0.012738  0.012978 -0.013933  0.013002 -0.011752  0.007639 -0.013597   \n",
       "...         ...       ...       ...       ...       ...       ...       ...   \n",
       "30208 -0.332482 -0.340718 -0.122615  0.085202  0.471829  0.630832  0.878892   \n",
       "30209 -0.209928 -0.204724  0.033302 -0.076489  0.087503  0.130825 -0.061206   \n",
       "30210 -0.100085 -0.513255 -0.519358 -0.172858  0.384442  0.373873  0.129929   \n",
       "30211  0.131366  0.106964  0.050252  0.196197  0.027283  0.046262  0.035980   \n",
       "30212  0.205708  0.209226 -0.096537 -0.125522 -0.269852 -0.334346 -0.414996   \n",
       "\n",
       "              7         8         9  ...      1241      1242      1243  \\\n",
       "0      0.127848  0.111724  0.061645  ...  0.030358  0.023003 -0.007709   \n",
       "1     -0.013712  0.010719  0.010638  ... -0.018446  0.001842  0.005302   \n",
       "2      0.006212  0.010179  0.000313  ... -0.002355 -0.001435 -0.008413   \n",
       "3     -0.023382  0.007880  0.019491  ... -0.002689 -0.004957  0.009094   \n",
       "4     -0.000866  0.000694  0.000275  ...  0.013919 -0.007044  0.031403   \n",
       "...         ...       ...       ...  ...       ...       ...       ...   \n",
       "30208  0.443409  0.016916 -0.467942  ... -0.286388  0.065137 -0.055429   \n",
       "30209  0.190358  0.185017  0.133373  ...  0.884048  0.793466  0.572090   \n",
       "30210  0.052760 -0.153613  0.025636  ...  0.057048  0.086446  0.377366   \n",
       "30211  0.093962  0.019785  0.028760  ...  0.168492 -0.126853 -0.022228   \n",
       "30212 -0.073428  0.111627  0.309735  ... -0.218360  0.073458 -0.160720   \n",
       "\n",
       "           1244      1245      1246      1247      1248      1249  Bin  \n",
       "0     -0.003488  0.014278 -0.017681 -0.020547 -0.001652 -0.030727  0.0  \n",
       "1      0.011047  0.017912  0.021195 -0.001553  0.033582  0.024117  0.0  \n",
       "2     -0.011103 -0.013496 -0.003475 -0.006173  0.002482 -0.004514  0.0  \n",
       "3      0.013103 -0.012610 -0.020514  0.006492 -0.006451 -0.009719  0.0  \n",
       "4      0.012673 -0.003761 -0.013153 -0.012249 -0.015965 -0.004866  0.0  \n",
       "...         ...       ...       ...       ...       ...       ...  ...  \n",
       "30208  0.236196  0.063671  0.186460  0.218980  0.200417  0.070140  1.0  \n",
       "30209  0.089591 -0.089960 -0.028005 -0.161846  0.027143 -0.189498  1.0  \n",
       "30210  0.204054  0.256200  0.083140  0.221371  0.191867 -0.575213  1.0  \n",
       "30211  0.005178 -0.120576 -0.155777 -0.108943 -0.158428  0.006180  1.0  \n",
       "30212  0.088019 -0.029808 -0.082308 -0.119268  0.129305 -0.064128  1.0  \n",
       "\n",
       "[30213 rows x 1251 columns]"
      ]
     },
     "execution_count": 128,
     "metadata": {},
     "output_type": "execute_result"
    }
   ],
   "source": [
    "finaldf_new"
   ]
  },
  {
   "cell_type": "code",
   "execution_count": 129,
   "metadata": {},
   "outputs": [],
   "source": [
    "# finaldf_new.drop(columns=finaldf.columns[0], axis=1, inplace=True)"
   ]
  },
  {
   "cell_type": "code",
   "execution_count": 130,
   "metadata": {},
   "outputs": [],
   "source": [
    "# finaldf_new"
   ]
  },
  {
   "cell_type": "code",
   "execution_count": 131,
   "metadata": {},
   "outputs": [
    {
     "data": {
      "text/html": [
       "<div>\n",
       "<style scoped>\n",
       "    .dataframe tbody tr th:only-of-type {\n",
       "        vertical-align: middle;\n",
       "    }\n",
       "\n",
       "    .dataframe tbody tr th {\n",
       "        vertical-align: top;\n",
       "    }\n",
       "\n",
       "    .dataframe thead th {\n",
       "        text-align: right;\n",
       "    }\n",
       "</style>\n",
       "<table border=\"1\" class=\"dataframe\">\n",
       "  <thead>\n",
       "    <tr style=\"text-align: right;\">\n",
       "      <th></th>\n",
       "      <th>0</th>\n",
       "      <th>1</th>\n",
       "      <th>2</th>\n",
       "      <th>3</th>\n",
       "      <th>4</th>\n",
       "      <th>5</th>\n",
       "      <th>6</th>\n",
       "      <th>7</th>\n",
       "      <th>8</th>\n",
       "      <th>9</th>\n",
       "      <th>...</th>\n",
       "      <th>1241</th>\n",
       "      <th>1242</th>\n",
       "      <th>1243</th>\n",
       "      <th>1244</th>\n",
       "      <th>1245</th>\n",
       "      <th>1246</th>\n",
       "      <th>1247</th>\n",
       "      <th>1248</th>\n",
       "      <th>1249</th>\n",
       "      <th>Bin</th>\n",
       "    </tr>\n",
       "  </thead>\n",
       "  <tbody>\n",
       "    <tr>\n",
       "      <th>26550</th>\n",
       "      <td>-0.049597</td>\n",
       "      <td>0.088178</td>\n",
       "      <td>0.049893</td>\n",
       "      <td>0.205729</td>\n",
       "      <td>0.169830</td>\n",
       "      <td>0.127879</td>\n",
       "      <td>-0.011196</td>\n",
       "      <td>-0.150814</td>\n",
       "      <td>-0.021235</td>\n",
       "      <td>-0.082136</td>\n",
       "      <td>...</td>\n",
       "      <td>-0.518090</td>\n",
       "      <td>-0.281975</td>\n",
       "      <td>-0.369579</td>\n",
       "      <td>-0.234193</td>\n",
       "      <td>-0.027395</td>\n",
       "      <td>0.045427</td>\n",
       "      <td>0.009423</td>\n",
       "      <td>0.252902</td>\n",
       "      <td>0.276412</td>\n",
       "      <td>1.0</td>\n",
       "    </tr>\n",
       "    <tr>\n",
       "      <th>10626</th>\n",
       "      <td>0.015317</td>\n",
       "      <td>0.019049</td>\n",
       "      <td>-0.013178</td>\n",
       "      <td>-0.011859</td>\n",
       "      <td>0.001878</td>\n",
       "      <td>0.001854</td>\n",
       "      <td>0.006976</td>\n",
       "      <td>-0.007244</td>\n",
       "      <td>-0.012151</td>\n",
       "      <td>-0.004783</td>\n",
       "      <td>...</td>\n",
       "      <td>0.004740</td>\n",
       "      <td>-0.006361</td>\n",
       "      <td>0.012527</td>\n",
       "      <td>0.021302</td>\n",
       "      <td>-0.014129</td>\n",
       "      <td>-0.011860</td>\n",
       "      <td>-0.009129</td>\n",
       "      <td>0.000928</td>\n",
       "      <td>0.022446</td>\n",
       "      <td>0.0</td>\n",
       "    </tr>\n",
       "    <tr>\n",
       "      <th>918</th>\n",
       "      <td>0.069906</td>\n",
       "      <td>0.001842</td>\n",
       "      <td>0.001821</td>\n",
       "      <td>0.046337</td>\n",
       "      <td>-0.069642</td>\n",
       "      <td>-0.035936</td>\n",
       "      <td>-0.075132</td>\n",
       "      <td>-0.022700</td>\n",
       "      <td>-0.065040</td>\n",
       "      <td>-0.090904</td>\n",
       "      <td>...</td>\n",
       "      <td>-0.034172</td>\n",
       "      <td>0.016380</td>\n",
       "      <td>0.050401</td>\n",
       "      <td>-0.039538</td>\n",
       "      <td>0.048488</td>\n",
       "      <td>-0.009303</td>\n",
       "      <td>-0.001823</td>\n",
       "      <td>-0.053426</td>\n",
       "      <td>-0.009273</td>\n",
       "      <td>0.0</td>\n",
       "    </tr>\n",
       "    <tr>\n",
       "      <th>936</th>\n",
       "      <td>0.032794</td>\n",
       "      <td>0.016205</td>\n",
       "      <td>-0.040452</td>\n",
       "      <td>-0.021639</td>\n",
       "      <td>0.025697</td>\n",
       "      <td>0.061529</td>\n",
       "      <td>0.070869</td>\n",
       "      <td>-0.080447</td>\n",
       "      <td>0.017260</td>\n",
       "      <td>-0.002036</td>\n",
       "      <td>...</td>\n",
       "      <td>0.023979</td>\n",
       "      <td>0.018226</td>\n",
       "      <td>0.024009</td>\n",
       "      <td>-0.004098</td>\n",
       "      <td>0.066466</td>\n",
       "      <td>-0.036463</td>\n",
       "      <td>-0.097612</td>\n",
       "      <td>0.041293</td>\n",
       "      <td>-0.019717</td>\n",
       "      <td>0.0</td>\n",
       "    </tr>\n",
       "    <tr>\n",
       "      <th>19823</th>\n",
       "      <td>0.053036</td>\n",
       "      <td>-0.003026</td>\n",
       "      <td>0.003333</td>\n",
       "      <td>0.007222</td>\n",
       "      <td>-0.066557</td>\n",
       "      <td>0.060273</td>\n",
       "      <td>0.061204</td>\n",
       "      <td>-0.001411</td>\n",
       "      <td>-0.048757</td>\n",
       "      <td>0.030638</td>\n",
       "      <td>...</td>\n",
       "      <td>-0.005230</td>\n",
       "      <td>-0.051545</td>\n",
       "      <td>0.036089</td>\n",
       "      <td>-0.063048</td>\n",
       "      <td>0.013845</td>\n",
       "      <td>0.041983</td>\n",
       "      <td>0.086108</td>\n",
       "      <td>-0.038835</td>\n",
       "      <td>0.078036</td>\n",
       "      <td>0.0</td>\n",
       "    </tr>\n",
       "    <tr>\n",
       "      <th>...</th>\n",
       "      <td>...</td>\n",
       "      <td>...</td>\n",
       "      <td>...</td>\n",
       "      <td>...</td>\n",
       "      <td>...</td>\n",
       "      <td>...</td>\n",
       "      <td>...</td>\n",
       "      <td>...</td>\n",
       "      <td>...</td>\n",
       "      <td>...</td>\n",
       "      <td>...</td>\n",
       "      <td>...</td>\n",
       "      <td>...</td>\n",
       "      <td>...</td>\n",
       "      <td>...</td>\n",
       "      <td>...</td>\n",
       "      <td>...</td>\n",
       "      <td>...</td>\n",
       "      <td>...</td>\n",
       "      <td>...</td>\n",
       "      <td>...</td>\n",
       "    </tr>\n",
       "    <tr>\n",
       "      <th>9471</th>\n",
       "      <td>-0.022839</td>\n",
       "      <td>0.078566</td>\n",
       "      <td>0.042846</td>\n",
       "      <td>0.077579</td>\n",
       "      <td>0.146550</td>\n",
       "      <td>0.093407</td>\n",
       "      <td>0.051523</td>\n",
       "      <td>-0.012925</td>\n",
       "      <td>0.009944</td>\n",
       "      <td>0.020469</td>\n",
       "      <td>...</td>\n",
       "      <td>-0.116460</td>\n",
       "      <td>0.008033</td>\n",
       "      <td>-0.052274</td>\n",
       "      <td>0.032513</td>\n",
       "      <td>0.087628</td>\n",
       "      <td>0.122839</td>\n",
       "      <td>0.078319</td>\n",
       "      <td>0.119856</td>\n",
       "      <td>0.168392</td>\n",
       "      <td>0.0</td>\n",
       "    </tr>\n",
       "    <tr>\n",
       "      <th>20305</th>\n",
       "      <td>-0.023270</td>\n",
       "      <td>0.063335</td>\n",
       "      <td>-0.058871</td>\n",
       "      <td>0.033884</td>\n",
       "      <td>-0.014279</td>\n",
       "      <td>0.031518</td>\n",
       "      <td>-0.045016</td>\n",
       "      <td>-0.029214</td>\n",
       "      <td>-0.010250</td>\n",
       "      <td>0.023075</td>\n",
       "      <td>...</td>\n",
       "      <td>-0.047777</td>\n",
       "      <td>-0.037244</td>\n",
       "      <td>-0.014752</td>\n",
       "      <td>0.037522</td>\n",
       "      <td>0.030576</td>\n",
       "      <td>-0.010653</td>\n",
       "      <td>0.043200</td>\n",
       "      <td>0.002813</td>\n",
       "      <td>-0.016830</td>\n",
       "      <td>0.0</td>\n",
       "    </tr>\n",
       "    <tr>\n",
       "      <th>10044</th>\n",
       "      <td>0.006957</td>\n",
       "      <td>0.025420</td>\n",
       "      <td>0.016457</td>\n",
       "      <td>0.029728</td>\n",
       "      <td>0.004763</td>\n",
       "      <td>-0.004699</td>\n",
       "      <td>0.012927</td>\n",
       "      <td>0.016898</td>\n",
       "      <td>-0.021339</td>\n",
       "      <td>0.029310</td>\n",
       "      <td>...</td>\n",
       "      <td>-0.014069</td>\n",
       "      <td>0.013130</td>\n",
       "      <td>-0.000337</td>\n",
       "      <td>-0.012520</td>\n",
       "      <td>0.004679</td>\n",
       "      <td>0.042817</td>\n",
       "      <td>0.001694</td>\n",
       "      <td>0.039117</td>\n",
       "      <td>0.022760</td>\n",
       "      <td>0.0</td>\n",
       "    </tr>\n",
       "    <tr>\n",
       "      <th>12384</th>\n",
       "      <td>0.089430</td>\n",
       "      <td>0.093786</td>\n",
       "      <td>0.043512</td>\n",
       "      <td>0.007107</td>\n",
       "      <td>-0.010954</td>\n",
       "      <td>-0.036403</td>\n",
       "      <td>-0.029401</td>\n",
       "      <td>-0.033764</td>\n",
       "      <td>-0.030841</td>\n",
       "      <td>-0.064240</td>\n",
       "      <td>...</td>\n",
       "      <td>-0.080091</td>\n",
       "      <td>-0.046039</td>\n",
       "      <td>-0.071557</td>\n",
       "      <td>-0.015626</td>\n",
       "      <td>0.000532</td>\n",
       "      <td>0.062330</td>\n",
       "      <td>0.015866</td>\n",
       "      <td>-0.009975</td>\n",
       "      <td>-0.025286</td>\n",
       "      <td>1.0</td>\n",
       "    </tr>\n",
       "    <tr>\n",
       "      <th>13965</th>\n",
       "      <td>0.017739</td>\n",
       "      <td>0.003353</td>\n",
       "      <td>-0.006033</td>\n",
       "      <td>-0.020507</td>\n",
       "      <td>-0.003545</td>\n",
       "      <td>0.028344</td>\n",
       "      <td>-0.017539</td>\n",
       "      <td>0.033658</td>\n",
       "      <td>0.010706</td>\n",
       "      <td>-0.033977</td>\n",
       "      <td>...</td>\n",
       "      <td>0.037204</td>\n",
       "      <td>0.039354</td>\n",
       "      <td>0.028899</td>\n",
       "      <td>-0.021899</td>\n",
       "      <td>0.030888</td>\n",
       "      <td>0.003050</td>\n",
       "      <td>0.035854</td>\n",
       "      <td>-0.008927</td>\n",
       "      <td>-0.025850</td>\n",
       "      <td>0.0</td>\n",
       "    </tr>\n",
       "  </tbody>\n",
       "</table>\n",
       "<p>30213 rows × 1251 columns</p>\n",
       "</div>"
      ],
      "text/plain": [
       "              0         1         2         3         4         5         6  \\\n",
       "26550 -0.049597  0.088178  0.049893  0.205729  0.169830  0.127879 -0.011196   \n",
       "10626  0.015317  0.019049 -0.013178 -0.011859  0.001878  0.001854  0.006976   \n",
       "918    0.069906  0.001842  0.001821  0.046337 -0.069642 -0.035936 -0.075132   \n",
       "936    0.032794  0.016205 -0.040452 -0.021639  0.025697  0.061529  0.070869   \n",
       "19823  0.053036 -0.003026  0.003333  0.007222 -0.066557  0.060273  0.061204   \n",
       "...         ...       ...       ...       ...       ...       ...       ...   \n",
       "9471  -0.022839  0.078566  0.042846  0.077579  0.146550  0.093407  0.051523   \n",
       "20305 -0.023270  0.063335 -0.058871  0.033884 -0.014279  0.031518 -0.045016   \n",
       "10044  0.006957  0.025420  0.016457  0.029728  0.004763 -0.004699  0.012927   \n",
       "12384  0.089430  0.093786  0.043512  0.007107 -0.010954 -0.036403 -0.029401   \n",
       "13965  0.017739  0.003353 -0.006033 -0.020507 -0.003545  0.028344 -0.017539   \n",
       "\n",
       "              7         8         9  ...      1241      1242      1243  \\\n",
       "26550 -0.150814 -0.021235 -0.082136  ... -0.518090 -0.281975 -0.369579   \n",
       "10626 -0.007244 -0.012151 -0.004783  ...  0.004740 -0.006361  0.012527   \n",
       "918   -0.022700 -0.065040 -0.090904  ... -0.034172  0.016380  0.050401   \n",
       "936   -0.080447  0.017260 -0.002036  ...  0.023979  0.018226  0.024009   \n",
       "19823 -0.001411 -0.048757  0.030638  ... -0.005230 -0.051545  0.036089   \n",
       "...         ...       ...       ...  ...       ...       ...       ...   \n",
       "9471  -0.012925  0.009944  0.020469  ... -0.116460  0.008033 -0.052274   \n",
       "20305 -0.029214 -0.010250  0.023075  ... -0.047777 -0.037244 -0.014752   \n",
       "10044  0.016898 -0.021339  0.029310  ... -0.014069  0.013130 -0.000337   \n",
       "12384 -0.033764 -0.030841 -0.064240  ... -0.080091 -0.046039 -0.071557   \n",
       "13965  0.033658  0.010706 -0.033977  ...  0.037204  0.039354  0.028899   \n",
       "\n",
       "           1244      1245      1246      1247      1248      1249  Bin  \n",
       "26550 -0.234193 -0.027395  0.045427  0.009423  0.252902  0.276412  1.0  \n",
       "10626  0.021302 -0.014129 -0.011860 -0.009129  0.000928  0.022446  0.0  \n",
       "918   -0.039538  0.048488 -0.009303 -0.001823 -0.053426 -0.009273  0.0  \n",
       "936   -0.004098  0.066466 -0.036463 -0.097612  0.041293 -0.019717  0.0  \n",
       "19823 -0.063048  0.013845  0.041983  0.086108 -0.038835  0.078036  0.0  \n",
       "...         ...       ...       ...       ...       ...       ...  ...  \n",
       "9471   0.032513  0.087628  0.122839  0.078319  0.119856  0.168392  0.0  \n",
       "20305  0.037522  0.030576 -0.010653  0.043200  0.002813 -0.016830  0.0  \n",
       "10044 -0.012520  0.004679  0.042817  0.001694  0.039117  0.022760  0.0  \n",
       "12384 -0.015626  0.000532  0.062330  0.015866 -0.009975 -0.025286  1.0  \n",
       "13965 -0.021899  0.030888  0.003050  0.035854 -0.008927 -0.025850  0.0  \n",
       "\n",
       "[30213 rows x 1251 columns]"
      ]
     },
     "execution_count": 131,
     "metadata": {},
     "output_type": "execute_result"
    }
   ],
   "source": [
    "finaldf_new.sample(frac=1)"
   ]
  },
  {
   "cell_type": "code",
   "execution_count": 132,
   "metadata": {},
   "outputs": [],
   "source": [
    "X = finaldf_new.iloc[:,:-1].values"
   ]
  },
  {
   "cell_type": "code",
   "execution_count": 133,
   "metadata": {},
   "outputs": [],
   "source": [
    "y = finaldf_new.iloc[:,1250].values"
   ]
  },
  {
   "cell_type": "code",
   "execution_count": 134,
   "metadata": {},
   "outputs": [
    {
     "data": {
      "text/plain": [
       "array([0., 0., 0., ..., 1., 1., 1.])"
      ]
     },
     "execution_count": 134,
     "metadata": {},
     "output_type": "execute_result"
    }
   ],
   "source": [
    "y"
   ]
  },
  {
   "cell_type": "code",
   "execution_count": 135,
   "metadata": {},
   "outputs": [],
   "source": [
    "# X_train_n, X_rem, y_train, y_rem,= train_test_split(X, y, train_size = 0.8, random_state = 0)\n",
    "# X_train, X_rem, y_train, y_rem,= train_test_split(X, y, train_size = 0.8, random_state = 0)\n",
    "X_train_n, X_test_n, y_train, y_test = train_test_split(X, y, train_size = 0.8, random_state = 0)"
   ]
  },
  {
   "cell_type": "code",
   "execution_count": 136,
   "metadata": {},
   "outputs": [],
   "source": [
    "# X_valid_n, X_test_n, y_valid, y_test = train_test_split(X_rem,y_rem, test_size=0.5, random_state = 0)\n",
    "# X_valid, X_test, y_valid, y_test = train_test_split(X_rem,y_rem, test_size=0.5, random_state = 0)"
   ]
  },
  {
   "cell_type": "code",
   "execution_count": 137,
   "metadata": {},
   "outputs": [
    {
     "name": "stdout",
     "output_type": "stream",
     "text": [
      "(24170, 1250)\n",
      "(24170,)\n",
      "(6043, 1250)\n",
      "(6043,)\n"
     ]
    },
    {
     "data": {
      "text/plain": [
       "(None, None)"
      ]
     },
     "execution_count": 137,
     "metadata": {},
     "output_type": "execute_result"
    }
   ],
   "source": [
    "print(X_train_n.shape), print(y_train.shape)\n",
    "# print(X_valid.shape), print(y_valid.shape)\n",
    "print(X_test_n.shape), print(y_test.shape)"
   ]
  },
  {
   "cell_type": "code",
   "execution_count": 138,
   "metadata": {},
   "outputs": [
    {
     "data": {
      "text/plain": [
       "array([1., 1., 1., ..., 1., 1., 1.])"
      ]
     },
     "execution_count": 138,
     "metadata": {},
     "output_type": "execute_result"
    }
   ],
   "source": [
    "y_test"
   ]
  },
  {
   "cell_type": "code",
   "execution_count": 139,
   "metadata": {},
   "outputs": [],
   "source": [
    "# scaler = StandardScaler()\n",
    "# X_train_n = scaler.fit_transform(X_train)\n",
    "# X_test_n = scaler.transform(X_test)\n",
    "# # X_valid_n = scaler.transform(X_valid)"
   ]
  },
  {
   "cell_type": "code",
   "execution_count": 140,
   "metadata": {},
   "outputs": [],
   "source": [
    "X_train_cnn = np.reshape(X_train_n, (X_train_n.shape[0], X_train_n.shape[1],1))\n",
    "X_test_cnn = np.reshape(X_test_n, (X_test_n.shape[0], X_test_n.shape[1],1))\n",
    "# X_valid_cnn = np.reshape(X_valid_n, (X_valid_n.shape[0], X_valid_n.shape[1],1))"
   ]
  },
  {
   "cell_type": "code",
   "execution_count": 141,
   "metadata": {},
   "outputs": [
    {
     "data": {
      "text/plain": [
       "((24170, 1250, 1), (6043, 1250, 1))"
      ]
     },
     "execution_count": 141,
     "metadata": {},
     "output_type": "execute_result"
    }
   ],
   "source": [
    "# X_train_cnn.shape, X_test_cnn.shape, X_valid_cnn.shape \n",
    "X_train_cnn.shape, X_test_cnn.shape"
   ]
  },
  {
   "cell_type": "code",
   "execution_count": 142,
   "metadata": {},
   "outputs": [],
   "source": [
    "# n_timesteps, n_features = X_train_cnn.shape[1], X_train_cnn.shape[2]"
   ]
  },
  {
   "cell_type": "code",
   "execution_count": 143,
   "metadata": {},
   "outputs": [],
   "source": [
    "# n_features"
   ]
  },
  {
   "cell_type": "code",
   "execution_count": 144,
   "metadata": {},
   "outputs": [],
   "source": [
    "# n_timesteps"
   ]
  },
  {
   "cell_type": "code",
   "execution_count": 145,
   "metadata": {},
   "outputs": [],
   "source": [
    "checkpoint_path = \"./checkpoint_path/training_1/cp.ckpt\"\n",
    "checkpoint_dir = os.path.dirname(checkpoint_path)"
   ]
  },
  {
   "cell_type": "code",
   "execution_count": 146,
   "metadata": {},
   "outputs": [],
   "source": [
    "# Create a callback that saves the model's weights\n",
    "cp_callback = tf.keras.callbacks.ModelCheckpoint(filepath=checkpoint_path,\n",
    "                                                 save_weights_only=True,\n",
    "                                                 verbose=1)"
   ]
  },
  {
   "cell_type": "code",
   "execution_count": 147,
   "metadata": {},
   "outputs": [
    {
     "name": "stdout",
     "output_type": "stream",
     "text": [
      "WARNING:tensorflow:`period` argument is deprecated. Please use `save_freq` to specify the frequency in number of batches seen.\n"
     ]
    },
    {
     "name": "stderr",
     "output_type": "stream",
     "text": [
      "WARNING:tensorflow:`period` argument is deprecated. Please use `save_freq` to specify the frequency in number of batches seen.\n"
     ]
    }
   ],
   "source": [
    "checkpoint = tf.keras.callbacks.ModelCheckpoint('./checkpoint_path/training_1/model{epoch:08d}.h5',save_freq='epoch', period=10) "
   ]
  },
  {
   "cell_type": "code",
   "execution_count": 148,
   "metadata": {},
   "outputs": [],
   "source": [
    "# input_shape = np.shape(X_train_cnn)\n",
    "# input_shape "
   ]
  },
  {
   "cell_type": "code",
   "execution_count": 149,
   "metadata": {},
   "outputs": [],
   "source": [
    "# input_shape=(X_train_n.shape[-1],)\n",
    "# input_shape"
   ]
  },
  {
   "cell_type": "code",
   "execution_count": 256,
   "metadata": {},
   "outputs": [],
   "source": [
    "# model = Sequential()\n",
    "# model.add(Conv1D(filters=16, kernel_size=3, activation='relu',input_shape = (1250,1)))\n",
    "# model.add(Conv1D(filters=16, kernel_size=4, activation='relu',input_shape = (1250,1)))\n",
    "# model.add(Conv1D(filters=16, kernel_size=5, activation='relu',input_shape = (1250,1)))\n",
    "# model.add(Dropout(0.25))\n",
    "# model.add(Flatten())\n",
    "# model.add(Dense(1, activation='sigmoid'))\n",
    "\n",
    "#########Best################\n",
    "\n",
    "# model = Sequential()\n",
    "# model.add(Conv1D(filters=16, kernel_size=5,strides=5, activation='relu',input_shape = (1250,1)))\n",
    "# model.add(Conv1D(filters=8, kernel_size=3,strides=3, activation='relu',input_shape = (1250,1)))\n",
    "# model.add(Conv1D(filters=4, kernel_size=5,strides=2, activation='relu',input_shape = (1250,1)))\n",
    "# model.add(Dropout(0.25))\n",
    "# model.add(Flatten())\n",
    "# model.add(Dense(1, activation='sigmoid'))\n",
    "\n",
    "model = Sequential()\n",
    "model.add(Conv1D(filters=16, kernel_size=5,strides=5, activation='relu',input_shape = (1250,1)))\n",
    "model.add(Conv1D(filters=8, kernel_size=3,strides=3, activation='relu',input_shape = (1250,1)))\n",
    "model.add(Conv1D(filters=4, kernel_size=2,strides=2, activation='relu',input_shape = (1250,1)))\n",
    "model.add(Dropout(0.25))\n",
    "model.add(Flatten())\n",
    "model.add(Dense(1, activation='sigmoid'))\n",
    "\n",
    "\n",
    "# import time\n",
    "# start = time.time()\n",
    "# with strategy.scope():\n",
    "#     model = Sequential()\n",
    "#     # adding the first convolutionial layer with 24 filters and 2 by 1 kernal size, using the rectifier as the activation function\n",
    "#     model.add(Conv2D(24, (16,1),input_shape=(24170, 1250, 1),activation='relu'))\n",
    "#     # adding a maxpooling layer\n",
    "#     model.add(MaxPooling2D(pool_size=(2,1),strides=(2,1),padding='valid'))\n",
    "#     # flattening the output in order to apply the fully connected layer\n",
    "#     model.add(Flatten())\n",
    "#     # adding first fully connected layer with 12 units\n",
    "#     model.add(Dense(12, activation='relu')) \n",
    "#     # adding the dropout layer to avoid overfitting\n",
    "#     model.add(Dropout(0.3))\n",
    "#     # adding softmax layer for the classification\n",
    "#     model.add(Dense(1, activation='sigmoid'))\n",
    "#     # Compiling the model to generate a model\n",
    "\n",
    "#     adam = optimizers.Adam(lr = 0.0001, decay=1e-6)\n",
    "\n",
    "#     model.compile(loss='binary_crossentropy', optimizer='adam', metrics=['accuracy'])\n",
    "\n",
    "# model.fit(X_train_cnn, y_train, epochs=20, batch_size=32, verbose=1)\n",
    "# elapsed = time.time()-start\n",
    "# print (f'Training time: {hms_string(elapsed)}')\n"
   ]
  },
  {
   "cell_type": "code",
   "execution_count": 257,
   "metadata": {},
   "outputs": [],
   "source": [
    "# model = Sequential()\n",
    "# model.add(Conv2D(8, (3, 3), activation='relu', input_shape=(1250,1)))\n",
    "# # model.add(layers.MaxPooling2D((2, 2)))\n",
    "# model.add(Flatten())\n",
    "# model.add(Dense(len(np.unique(y_train))))"
   ]
  },
  {
   "cell_type": "code",
   "execution_count": 258,
   "metadata": {},
   "outputs": [],
   "source": [
    "# model = Sequential()\n",
    "# model.add(Conv1D(filters=128, kernel_size=5, activation='relu',input_shape = (1250,1)))\n",
    "# model.add(MaxPooling1D(pool_size=2))\n",
    "# # model.add(LSTM(32))\n",
    "# model.add(Dropout(0.25))\n",
    "# model.add(Dense(1, activation='sigmoid'))"
   ]
  },
  {
   "cell_type": "code",
   "execution_count": 259,
   "metadata": {},
   "outputs": [
    {
     "name": "stdout",
     "output_type": "stream",
     "text": [
      "Model: \"sequential_11\"\n",
      "_________________________________________________________________\n",
      "Layer (type)                 Output Shape              Param #   \n",
      "=================================================================\n",
      "conv1d_11 (Conv1D)           (None, 250, 16)           96        \n",
      "_________________________________________________________________\n",
      "conv1d_12 (Conv1D)           (None, 83, 8)             392       \n",
      "_________________________________________________________________\n",
      "conv1d_13 (Conv1D)           (None, 41, 4)             68        \n",
      "_________________________________________________________________\n",
      "dropout_8 (Dropout)          (None, 41, 4)             0         \n",
      "_________________________________________________________________\n",
      "flatten_11 (Flatten)         (None, 164)               0         \n",
      "_________________________________________________________________\n",
      "dense_11 (Dense)             (None, 1)                 165       \n",
      "=================================================================\n",
      "Total params: 721\n",
      "Trainable params: 721\n",
      "Non-trainable params: 0\n",
      "_________________________________________________________________\n"
     ]
    }
   ],
   "source": [
    "model.summary()"
   ]
  },
  {
   "cell_type": "code",
   "execution_count": 231,
   "metadata": {},
   "outputs": [],
   "source": [
    "# adam = optimizers.SGD(lr=0.001,decay=1e-6, momentum=0.9, nesterov=True) \n",
    "# adam = optimizers.Adam(lr = 0.0001, decay=1e-6)\n",
    "\n",
    "model.compile(loss='binary_crossentropy', optimizer='adam', metrics=['accuracy'])\n"
   ]
  },
  {
   "cell_type": "code",
   "execution_count": 232,
   "metadata": {},
   "outputs": [
    {
     "name": "stdout",
     "output_type": "stream",
     "text": [
      "Epoch 1/20\n",
      "756/756 [==============================] - 3s 4ms/step - loss: 0.6141 - accuracy: 0.6738\n",
      "Epoch 2/20\n",
      "756/756 [==============================] - 3s 4ms/step - loss: 0.5629 - accuracy: 0.7432\n",
      "Epoch 3/20\n",
      "756/756 [==============================] - 3s 4ms/step - loss: 0.5166 - accuracy: 0.7883\n",
      "Epoch 4/20\n",
      "756/756 [==============================] - 3s 4ms/step - loss: 0.4685 - accuracy: 0.8133\n",
      "Epoch 5/20\n",
      "756/756 [==============================] - 3s 4ms/step - loss: 0.4380 - accuracy: 0.8257\n",
      "Epoch 6/20\n",
      "756/756 [==============================] - 3s 4ms/step - loss: 0.4113 - accuracy: 0.8359\n",
      "Epoch 7/20\n",
      "756/756 [==============================] - 3s 4ms/step - loss: 0.3912 - accuracy: 0.8443\n",
      "Epoch 8/20\n",
      "756/756 [==============================] - 3s 4ms/step - loss: 0.3743 - accuracy: 0.8473\n",
      "Epoch 9/20\n",
      "756/756 [==============================] - 3s 4ms/step - loss: 0.3584 - accuracy: 0.8530\n",
      "Epoch 10/20\n",
      "756/756 [==============================] - 3s 4ms/step - loss: 0.3446 - accuracy: 0.8595\n",
      "Epoch 11/20\n",
      "756/756 [==============================] - 3s 4ms/step - loss: 0.3361 - accuracy: 0.8627\n",
      "Epoch 12/20\n",
      "756/756 [==============================] - 3s 4ms/step - loss: 0.3238 - accuracy: 0.8715\n",
      "Epoch 13/20\n",
      "756/756 [==============================] - 3s 4ms/step - loss: 0.3119 - accuracy: 0.8731\n",
      "Epoch 14/20\n",
      "756/756 [==============================] - 3s 4ms/step - loss: 0.3127 - accuracy: 0.8713\n",
      "Epoch 15/20\n",
      "756/756 [==============================] - 3s 4ms/step - loss: 0.3027 - accuracy: 0.8792\n",
      "Epoch 16/20\n",
      "756/756 [==============================] - 3s 4ms/step - loss: 0.2975 - accuracy: 0.8789\n",
      "Epoch 17/20\n",
      "756/756 [==============================] - 3s 4ms/step - loss: 0.2935 - accuracy: 0.8793\n",
      "Epoch 18/20\n",
      "756/756 [==============================] - 3s 4ms/step - loss: 0.2868 - accuracy: 0.8837\n",
      "Epoch 19/20\n",
      "756/756 [==============================] - 3s 4ms/step - loss: 0.2867 - accuracy: 0.8835\n",
      "Epoch 20/20\n",
      "756/756 [==============================] - 3s 4ms/step - loss: 0.2812 - accuracy: 0.8880\n"
     ]
    },
    {
     "data": {
      "text/plain": [
       "<tensorflow.python.keras.callbacks.History at 0x7f8a8c76ef40>"
      ]
     },
     "execution_count": 232,
     "metadata": {},
     "output_type": "execute_result"
    }
   ],
   "source": [
    "# model.fit(X_train_cnn, y_train, validation_data = (X_valid_cnn, y_valid),epochs=epochs, batch_size=batch_size, verbose=verbose)\n",
    "model.fit(X_train_cnn, y_train, epochs=20, batch_size=32, verbose=1)"
   ]
  },
  {
   "cell_type": "code",
   "execution_count": 233,
   "metadata": {},
   "outputs": [],
   "source": [
    "\n",
    "# tf.saved_model.save(model, \"/data/space1/BooleanLab/TinyML/saved-model_5\" )\n"
   ]
  },
  {
   "cell_type": "code",
   "execution_count": 234,
   "metadata": {},
   "outputs": [],
   "source": [
    "# pickle.dump(model, open('./checkpoint_path/training_1/best_model_2.pkl', 'wb'))"
   ]
  },
  {
   "cell_type": "code",
   "execution_count": 235,
   "metadata": {},
   "outputs": [],
   "source": [
    "# model.save(\"./checkpoint_path/training_1/best_model_2.h5\")"
   ]
  },
  {
   "cell_type": "code",
   "execution_count": 236,
   "metadata": {},
   "outputs": [],
   "source": [
    "\n",
    "y_pred = model.predict(X_test_cnn)"
   ]
  },
  {
   "cell_type": "code",
   "execution_count": 237,
   "metadata": {},
   "outputs": [
    {
     "data": {
      "text/plain": [
       "array([[0.9834984 ],\n",
       "       [0.33614033],\n",
       "       [0.9756118 ],\n",
       "       ...,\n",
       "       [0.99999547],\n",
       "       [0.99708444],\n",
       "       [0.4839402 ]], dtype=float32)"
      ]
     },
     "execution_count": 237,
     "metadata": {},
     "output_type": "execute_result"
    }
   ],
   "source": [
    "y_pred"
   ]
  },
  {
   "cell_type": "code",
   "execution_count": 238,
   "metadata": {},
   "outputs": [],
   "source": [
    "y_pred_class = model.predict_classes(X_test_cnn)"
   ]
  },
  {
   "cell_type": "code",
   "execution_count": 239,
   "metadata": {},
   "outputs": [
    {
     "data": {
      "text/plain": [
       "array([[1],\n",
       "       [0],\n",
       "       [1],\n",
       "       ...,\n",
       "       [1],\n",
       "       [1],\n",
       "       [0]], dtype=int32)"
      ]
     },
     "execution_count": 239,
     "metadata": {},
     "output_type": "execute_result"
    }
   ],
   "source": [
    "y_pred_class"
   ]
  },
  {
   "cell_type": "code",
   "execution_count": 240,
   "metadata": {},
   "outputs": [],
   "source": [
    "conf_matrix = confusion_matrix(y_true=y_test, y_pred=y_pred_class)"
   ]
  },
  {
   "cell_type": "code",
   "execution_count": 241,
   "metadata": {},
   "outputs": [
    {
     "data": {
      "image/png": "[encoded data removed]",
      "text/plain": [
       "<Figure size 360x360 with 1 Axes>"
      ]
     },
     "metadata": {
      "needs_background": "light"
     },
     "output_type": "display_data"
    }
   ],
   "source": [
    "fig, ax = plt.subplots(figsize=(5, 5))\n",
    "ax.matshow(conf_matrix, cmap=plt.cm.Oranges, alpha=0.3)\n",
    "for i in range(conf_matrix.shape[0]):\n",
    "    for j in range(conf_matrix.shape[1]):\n",
    "        ax.text(x=j, y=i,s=conf_matrix[i, j], va='center', ha='center', size='xx-large')\n",
    " \n",
    "plt.xlabel('Predictions', fontsize=18)\n",
    "plt.ylabel('Actuals', fontsize=18)\n",
    "plt.title('Confusion Matrix', fontsize=18)\n",
    "plt.show()"
   ]
  },
  {
   "cell_type": "code",
   "execution_count": 242,
   "metadata": {},
   "outputs": [
    {
     "data": {
      "text/plain": [
       "0.9262264846919955"
      ]
     },
     "execution_count": 242,
     "metadata": {},
     "output_type": "execute_result"
    }
   ],
   "source": [
    "p = precision_score(y_test, y_pred_class)\n",
    "p"
   ]
  },
  {
   "cell_type": "code",
   "execution_count": 243,
   "metadata": {},
   "outputs": [
    {
     "name": "stdout",
     "output_type": "stream",
     "text": [
      "Precision: 0.926\n"
     ]
    }
   ],
   "source": [
    "\t\n",
    "print('Precision: %.3f' % precision_score(y_test, y_pred_class))"
   ]
  },
  {
   "cell_type": "code",
   "execution_count": null,
   "metadata": {},
   "outputs": [],
   "source": []
  },
  {
   "cell_type": "code",
   "execution_count": 244,
   "metadata": {},
   "outputs": [
    {
     "name": "stdout",
     "output_type": "stream",
     "text": [
      "Recall: 0.875\n"
     ]
    }
   ],
   "source": [
    "\t\n",
    "print('Recall: %.3f' % recall_score(y_test, y_pred_class))"
   ]
  },
  {
   "cell_type": "code",
   "execution_count": 245,
   "metadata": {},
   "outputs": [
    {
     "data": {
      "text/plain": [
       "0.8752178459393517"
      ]
     },
     "execution_count": 245,
     "metadata": {},
     "output_type": "execute_result"
    }
   ],
   "source": [
    "r = recall_score(y_test, y_pred_class)\n",
    "r"
   ]
  },
  {
   "cell_type": "code",
   "execution_count": 246,
   "metadata": {},
   "outputs": [
    {
     "name": "stdout",
     "output_type": "stream",
     "text": [
      "Accuracy: 0.908\n"
     ]
    }
   ],
   "source": [
    "print('Accuracy: %.3f' % accuracy_score(y_test, y_pred_class))"
   ]
  },
  {
   "cell_type": "code",
   "execution_count": 247,
   "metadata": {},
   "outputs": [
    {
     "name": "stdout",
     "output_type": "stream",
     "text": [
      "F1 Score: 0.900\n"
     ]
    }
   ],
   "source": [
    "\t\n",
    "print('F1 Score: %.3f' % f1_score(y_test, y_pred_class))"
   ]
  },
  {
   "cell_type": "code",
   "execution_count": 248,
   "metadata": {},
   "outputs": [
    {
     "data": {
      "text/plain": [
       "array([[2974,  200],\n",
       "       [ 358, 2511]])"
      ]
     },
     "execution_count": 248,
     "metadata": {},
     "output_type": "execute_result"
    }
   ],
   "source": [
    "from sklearn.metrics import confusion_matrix\n",
    "confusion_matrix(y_test,y_pred_class)"
   ]
  },
  {
   "cell_type": "code",
   "execution_count": 249,
   "metadata": {},
   "outputs": [
    {
     "data": {
      "text/plain": [
       "0.9076617574052623"
      ]
     },
     "execution_count": 249,
     "metadata": {},
     "output_type": "execute_result"
    }
   ],
   "source": [
    "from sklearn.metrics import accuracy_score\n",
    "accuracy_score(y_test,y_pred_class)"
   ]
  },
  {
   "cell_type": "code",
   "execution_count": 250,
   "metadata": {},
   "outputs": [
    {
     "name": "stdout",
     "output_type": "stream",
     "text": [
      "              precision    recall  f1-score   support\n",
      "\n",
      "         0.0       0.89      0.94      0.91      3174\n",
      "         1.0       0.93      0.88      0.90      2869\n",
      "\n",
      "    accuracy                           0.91      6043\n",
      "   macro avg       0.91      0.91      0.91      6043\n",
      "weighted avg       0.91      0.91      0.91      6043\n",
      "\n"
     ]
    }
   ],
   "source": [
    "from sklearn.metrics import classification_report\n",
    "print(classification_report(y_test,y_pred_class))"
   ]
  },
  {
   "cell_type": "code",
   "execution_count": 251,
   "metadata": {},
   "outputs": [
    {
     "data": {
      "text/plain": [
       "array([0.92775143, 0.88496511])"
      ]
     },
     "execution_count": 251,
     "metadata": {},
     "output_type": "execute_result"
    }
   ],
   "source": [
    "fbeta_score(y_test, y_pred_class, average=None, beta=2)"
   ]
  },
  {
   "cell_type": "code",
   "execution_count": 252,
   "metadata": {},
   "outputs": [],
   "source": [
    "beta = 2"
   ]
  },
  {
   "cell_type": "code",
   "execution_count": 253,
   "metadata": {},
   "outputs": [],
   "source": [
    "f_beta = (1+beta**2) * (p * r) / ((beta**2)*p + r)"
   ]
  },
  {
   "cell_type": "code",
   "execution_count": 254,
   "metadata": {},
   "outputs": [
    {
     "data": {
      "text/plain": [
       "0.8849651089025163"
      ]
     },
     "execution_count": 254,
     "metadata": {},
     "output_type": "execute_result"
    }
   ],
   "source": [
    "f_beta"
   ]
  },
  {
   "cell_type": "code",
   "execution_count": 197,
   "metadata": {},
   "outputs": [],
   "source": [
    "prune_low_magnitude = tfmot.sparsity.keras.prune_low_magnitude"
   ]
  },
  {
   "cell_type": "code",
   "execution_count": 198,
   "metadata": {},
   "outputs": [],
   "source": [
    "# X_train_cnn.shape[0]"
   ]
  },
  {
   "cell_type": "code",
   "execution_count": 92,
   "metadata": {},
   "outputs": [],
   "source": [
    "num_train_data = X_train_cnn.shape[0] \n",
    "end_step = np.ceil(num_train_data / 32).astype(np.int32) * 50"
   ]
  },
  {
   "cell_type": "code",
   "execution_count": 93,
   "metadata": {},
   "outputs": [],
   "source": [
    "pruning_params = {\n",
    "      'pruning_schedule': tfmot.sparsity.keras.PolynomialDecay(initial_sparsity=0.50,\n",
    "                                                               final_sparsity=0.80,\n",
    "                                                               begin_step=0,\n",
    "                                                               end_step=end_step)\n",
    "}"
   ]
  },
  {
   "cell_type": "code",
   "execution_count": 94,
   "metadata": {},
   "outputs": [
    {
     "name": "stdout",
     "output_type": "stream",
     "text": [
      "WARNING:tensorflow:From /home/gputest/.conda/envs/tf_amitash/lib/python3.8/site-packages/tensorflow_model_optimization/python/core/sparsity/keras/pruning_wrapper.py:201: Layer.add_variable (from tensorflow.python.keras.engine.base_layer) is deprecated and will be removed in a future version.\n",
      "Instructions for updating:\n",
      "Please use `layer.add_weight` method instead.\n"
     ]
    }
   ],
   "source": [
    "model_for_pruning = prune_low_magnitude(model, **pruning_params)"
   ]
  },
  {
   "cell_type": "code",
   "execution_count": 199,
   "metadata": {},
   "outputs": [
    {
     "name": "stdout",
     "output_type": "stream",
     "text": [
      "Model: \"sequential_3\"\n",
      "_________________________________________________________________\n",
      "Layer (type)                 Output Shape              Param #   \n",
      "=================================================================\n",
      "prune_low_magnitude_conv1d ( (None, 1235, 24)          794       \n",
      "_________________________________________________________________\n",
      "prune_low_magnitude_dropout  (None, 1235, 24)          1         \n",
      "_________________________________________________________________\n",
      "prune_low_magnitude_flatten_ (None, 29640)             1         \n",
      "_________________________________________________________________\n",
      "prune_low_magnitude_dense_3  (None, 1)                 59283     \n",
      "=================================================================\n",
      "Total params: 60,079\n",
      "Trainable params: 30,049\n",
      "Non-trainable params: 30,030\n",
      "_________________________________________________________________\n"
     ]
    }
   ],
   "source": [
    "\n",
    "model_for_pruning.compile(optimizer='adam',\n",
    "              loss=tf.keras.losses.BinaryCrossentropy(from_logits=True),\n",
    "              metrics=['accuracy'])\n",
    "\n",
    "model_for_pruning.summary()"
   ]
  },
  {
   "cell_type": "code",
   "execution_count": 200,
   "metadata": {},
   "outputs": [
    {
     "name": "stderr",
     "output_type": "stream",
     "text": [
      "2022-10-05 01:25:39.822603: I tensorflow/core/profiler/lib/profiler_session.cc:159] Profiler session started.\n",
      "2022-10-05 01:25:39.822834: E tensorflow/core/profiler/internal/gpu/cupti_tracer.cc:1408] function cupti_interface_->Subscribe( &subscriber_, (CUpti_CallbackFunc)ApiCallback, this)failed with error CUPTI_ERROR_NOT_INITIALIZED\n",
      "2022-10-05 01:25:39.824704: E tensorflow/core/profiler/internal/gpu/cupti_tracer.cc:1447] function cupti_interface_->ActivityRegisterCallbacks( AllocCuptiActivityBuffer, FreeCuptiActivityBuffer)failed with error CUPTI_ERROR_NOT_INITIALIZED\n",
      "2022-10-05 01:25:39.824778: E tensorflow/core/profiler/internal/gpu/cupti_tracer.cc:1430] function cupti_interface_->EnableCallback( 0 , subscriber_, CUPTI_CB_DOMAIN_DRIVER_API, cbid)failed with error CUPTI_ERROR_INVALID_PARAMETER\n"
     ]
    },
    {
     "name": "stdout",
     "output_type": "stream",
     "text": [
      "Epoch 1/20\n",
      " 26/756 [>.............................] - ETA: 5s - loss: 0.5582 - accuracy: 0.8702"
     ]
    },
    {
     "name": "stderr",
     "output_type": "stream",
     "text": [
      "2022-10-05 01:25:40.897850: I tensorflow/core/profiler/lib/profiler_session.cc:159] Profiler session started.\n",
      "2022-10-05 01:25:40.897933: E tensorflow/core/profiler/internal/gpu/cupti_tracer.cc:1408] function cupti_interface_->Subscribe( &subscriber_, (CUpti_CallbackFunc)ApiCallback, this)failed with error CUPTI_ERROR_NOT_INITIALIZED\n",
      "2022-10-05 01:25:40.898084: E tensorflow/core/profiler/internal/gpu/cupti_tracer.cc:1447] function cupti_interface_->ActivityRegisterCallbacks( AllocCuptiActivityBuffer, FreeCuptiActivityBuffer)failed with error CUPTI_ERROR_NOT_INITIALIZED\n",
      "2022-10-05 01:25:40.904820: E tensorflow/core/profiler/internal/gpu/cupti_tracer.cc:1430] function cupti_interface_->EnableCallback( 0 , subscriber_, CUPTI_CB_DOMAIN_DRIVER_API, cbid)failed with error CUPTI_ERROR_INVALID_PARAMETER\n",
      "2022-10-05 01:25:40.905106: I tensorflow/core/profiler/internal/gpu/device_tracer.cc:216]  GpuTracer has collected 0 callback api events and 0 activity events.\n",
      "2022-10-05 01:25:40.907813: I tensorflow/core/profiler/rpc/client/save_profile.cc:168] Creating directory: /tmp/tmpld9ifchq/train/plugins/profile/2022_10_05_01_25_40\n",
      "2022-10-05 01:25:40.908402: I tensorflow/core/profiler/rpc/client/save_profile.cc:174] Dumped gzipped tool data for trace.json.gz to /tmp/tmpld9ifchq/train/plugins/profile/2022_10_05_01_25_40/gene-gpu.trace.json.gz\n",
      "2022-10-05 01:25:40.908790: I tensorflow/core/profiler/utils/event_span.cc:288] Generation of step-events took 0 ms\n",
      "\n",
      "2022-10-05 01:25:40.909127: I tensorflow/python/profiler/internal/profiler_wrapper.cc:87] Creating directory: /tmp/tmpld9ifchq/train/plugins/profile/2022_10_05_01_25_40Dumped tool data for overview_page.pb to /tmp/tmpld9ifchq/train/plugins/profile/2022_10_05_01_25_40/gene-gpu.overview_page.pb\n",
      "Dumped tool data for input_pipeline.pb to /tmp/tmpld9ifchq/train/plugins/profile/2022_10_05_01_25_40/gene-gpu.input_pipeline.pb\n",
      "Dumped tool data for tensorflow_stats.pb to /tmp/tmpld9ifchq/train/plugins/profile/2022_10_05_01_25_40/gene-gpu.tensorflow_stats.pb\n",
      "Dumped tool data for kernel_stats.pb to /tmp/tmpld9ifchq/train/plugins/profile/2022_10_05_01_25_40/gene-gpu.kernel_stats.pb\n",
      "\n"
     ]
    },
    {
     "name": "stdout",
     "output_type": "stream",
     "text": [
      "756/756 [==============================] - 4s 5ms/step - loss: 0.5746 - accuracy: 0.8820\n",
      "Epoch 2/20\n",
      "756/756 [==============================] - 4s 5ms/step - loss: 0.5734 - accuracy: 0.8852\n",
      "Epoch 3/20\n",
      "756/756 [==============================] - 4s 5ms/step - loss: 0.5747 - accuracy: 0.8827\n",
      "Epoch 4/20\n",
      "756/756 [==============================] - 4s 5ms/step - loss: 0.5744 - accuracy: 0.8843\n",
      "Epoch 5/20\n",
      "756/756 [==============================] - 4s 5ms/step - loss: 0.5740 - accuracy: 0.8845\n",
      "Epoch 6/20\n",
      "756/756 [==============================] - 4s 5ms/step - loss: 0.5739 - accuracy: 0.8833\n",
      "Epoch 7/20\n",
      "756/756 [==============================] - 4s 5ms/step - loss: 0.5758 - accuracy: 0.8788\n",
      "Epoch 8/20\n",
      "756/756 [==============================] - 4s 5ms/step - loss: 0.5748 - accuracy: 0.8809\n",
      "Epoch 9/20\n",
      "756/756 [==============================] - 4s 5ms/step - loss: 0.5750 - accuracy: 0.8813\n",
      "Epoch 10/20\n",
      "756/756 [==============================] - 4s 5ms/step - loss: 0.5759 - accuracy: 0.8773\n",
      "Epoch 11/20\n",
      "756/756 [==============================] - 4s 5ms/step - loss: 0.5755 - accuracy: 0.8788\n",
      "Epoch 12/20\n",
      "756/756 [==============================] - 4s 5ms/step - loss: 0.5743 - accuracy: 0.8827\n",
      "Epoch 13/20\n",
      "756/756 [==============================] - 4s 5ms/step - loss: 0.5745 - accuracy: 0.8815\n",
      "Epoch 14/20\n",
      "756/756 [==============================] - 4s 5ms/step - loss: 0.5733 - accuracy: 0.8849\n",
      "Epoch 15/20\n",
      "756/756 [==============================] - 4s 5ms/step - loss: 0.5740 - accuracy: 0.8839\n",
      "Epoch 16/20\n",
      "756/756 [==============================] - 4s 5ms/step - loss: 0.5738 - accuracy: 0.8833\n",
      "Epoch 17/20\n",
      "756/756 [==============================] - 4s 5ms/step - loss: 0.5746 - accuracy: 0.8806\n",
      "Epoch 18/20\n",
      "756/756 [==============================] - 4s 5ms/step - loss: 0.5742 - accuracy: 0.8817\n",
      "Epoch 19/20\n",
      "756/756 [==============================] - 4s 5ms/step - loss: 0.5745 - accuracy: 0.8804\n",
      "Epoch 20/20\n",
      "756/756 [==============================] - 4s 5ms/step - loss: 0.5742 - accuracy: 0.8810\n"
     ]
    },
    {
     "data": {
      "text/plain": [
       "<tensorflow.python.keras.callbacks.History at 0x7f8a8cba6c70>"
      ]
     },
     "execution_count": 200,
     "metadata": {},
     "output_type": "execute_result"
    }
   ],
   "source": [
    "logdir = tempfile.mkdtemp()\n",
    "\n",
    "callbacks = [\n",
    "  tfmot.sparsity.keras.UpdatePruningStep(),\n",
    "  tfmot.sparsity.keras.PruningSummaries(log_dir=logdir),\n",
    "]\n",
    "\n",
    "model_for_pruning.fit(X_train_cnn, y_train, epochs=20, batch_size=32, verbose=1, callbacks=callbacks)\n",
    "\n"
   ]
  },
  {
   "cell_type": "code",
   "execution_count": 201,
   "metadata": {},
   "outputs": [],
   "source": [
    "y_pred = model_for_pruning.predict(X_test_cnn)"
   ]
  },
  {
   "cell_type": "code",
   "execution_count": 202,
   "metadata": {},
   "outputs": [
    {
     "data": {
      "text/plain": [
       "array([[0.02805084],\n",
       "       [0.86258537],\n",
       "       [0.9990305 ],\n",
       "       ...,\n",
       "       [1.        ],\n",
       "       [0.99999964],\n",
       "       [0.20160383]], dtype=float32)"
      ]
     },
     "execution_count": 202,
     "metadata": {},
     "output_type": "execute_result"
    }
   ],
   "source": [
    "y_pred"
   ]
  },
  {
   "cell_type": "code",
   "execution_count": 203,
   "metadata": {},
   "outputs": [],
   "source": [
    "y_pred_class = model_for_pruning.predict_classes(X_test_cnn)"
   ]
  },
  {
   "cell_type": "code",
   "execution_count": 204,
   "metadata": {},
   "outputs": [
    {
     "data": {
      "text/plain": [
       "array([[0],\n",
       "       [1],\n",
       "       [1],\n",
       "       ...,\n",
       "       [1],\n",
       "       [1],\n",
       "       [0]], dtype=int32)"
      ]
     },
     "execution_count": 204,
     "metadata": {},
     "output_type": "execute_result"
    }
   ],
   "source": [
    "y_pred_class"
   ]
  },
  {
   "cell_type": "code",
   "execution_count": 205,
   "metadata": {},
   "outputs": [],
   "source": [
    "conf_matrix = confusion_matrix(y_true=y_test, y_pred=y_pred_class)"
   ]
  },
  {
   "cell_type": "code",
   "execution_count": 206,
   "metadata": {},
   "outputs": [
    {
     "data": {
      "image/png": "[encoded data removed]",
      "text/plain": [
       "<Figure size 360x360 with 1 Axes>"
      ]
     },
     "metadata": {
      "needs_background": "light"
     },
     "output_type": "display_data"
    }
   ],
   "source": [
    "fig, ax = plt.subplots(figsize=(5, 5))\n",
    "ax.matshow(conf_matrix, cmap=plt.cm.Oranges, alpha=0.3)\n",
    "for i in range(conf_matrix.shape[0]):\n",
    "    for j in range(conf_matrix.shape[1]):\n",
    "        ax.text(x=j, y=i,s=conf_matrix[i, j], va='center', ha='center', size='xx-large')\n",
    " \n",
    "plt.xlabel('Predictions', fontsize=18)\n",
    "plt.ylabel('Actuals', fontsize=18)\n",
    "plt.title('Confusion Matrix', fontsize=18)\n",
    "plt.show()"
   ]
  },
  {
   "cell_type": "code",
   "execution_count": 207,
   "metadata": {},
   "outputs": [
    {
     "data": {
      "text/plain": [
       "0.9276990718124084"
      ]
     },
     "execution_count": 207,
     "metadata": {},
     "output_type": "execute_result"
    }
   ],
   "source": [
    "p = precision_score(y_test, y_pred_class)\n",
    "p"
   ]
  },
  {
   "cell_type": "code",
   "execution_count": 208,
   "metadata": {},
   "outputs": [
    {
     "name": "stdout",
     "output_type": "stream",
     "text": [
      "Precision: 0.928\n"
     ]
    }
   ],
   "source": [
    "\t\n",
    "print('Precision: %.3f' % precision_score(y_test, y_pred_class))"
   ]
  },
  {
   "cell_type": "code",
   "execution_count": 209,
   "metadata": {},
   "outputs": [
    {
     "name": "stdout",
     "output_type": "stream",
     "text": [
      "Recall: 0.662\n"
     ]
    }
   ],
   "source": [
    "print('Recall: %.3f' % recall_score(y_test, y_pred_class))"
   ]
  },
  {
   "cell_type": "code",
   "execution_count": 210,
   "metadata": {},
   "outputs": [
    {
     "data": {
      "text/plain": [
       "0.6619031021261763"
      ]
     },
     "execution_count": 210,
     "metadata": {},
     "output_type": "execute_result"
    }
   ],
   "source": [
    "r = recall_score(y_test, y_pred_class)\n",
    "r"
   ]
  },
  {
   "cell_type": "code",
   "execution_count": 211,
   "metadata": {},
   "outputs": [
    {
     "name": "stdout",
     "output_type": "stream",
     "text": [
      "Accuracy: 0.815\n"
     ]
    }
   ],
   "source": [
    "print('Accuracy: %.3f' % accuracy_score(y_test, y_pred_class))"
   ]
  },
  {
   "cell_type": "code",
   "execution_count": 212,
   "metadata": {},
   "outputs": [
    {
     "name": "stdout",
     "output_type": "stream",
     "text": [
      "F1 Score: 0.773\n"
     ]
    }
   ],
   "source": [
    "print('F1 Score: %.3f' % f1_score(y_test, y_pred_class))"
   ]
  },
  {
   "cell_type": "code",
   "execution_count": 213,
   "metadata": {},
   "outputs": [
    {
     "data": {
      "text/plain": [
       "array([[3026,  148],\n",
       "       [ 970, 1899]])"
      ]
     },
     "execution_count": 213,
     "metadata": {},
     "output_type": "execute_result"
    }
   ],
   "source": [
    "from sklearn.metrics import confusion_matrix\n",
    "confusion_matrix(y_test,y_pred_class)"
   ]
  },
  {
   "cell_type": "code",
   "execution_count": 214,
   "metadata": {},
   "outputs": [
    {
     "data": {
      "text/plain": [
       "0.8149925533675327"
      ]
     },
     "execution_count": 214,
     "metadata": {},
     "output_type": "execute_result"
    }
   ],
   "source": [
    "from sklearn.metrics import accuracy_score\n",
    "accuracy_score(y_test,y_pred_class)"
   ]
  },
  {
   "cell_type": "code",
   "execution_count": 215,
   "metadata": {},
   "outputs": [
    {
     "name": "stdout",
     "output_type": "stream",
     "text": [
      "              precision    recall  f1-score   support\n",
      "\n",
      "         0.0       0.76      0.95      0.84      3174\n",
      "         1.0       0.93      0.66      0.77      2869\n",
      "\n",
      "    accuracy                           0.81      6043\n",
      "   macro avg       0.84      0.81      0.81      6043\n",
      "weighted avg       0.84      0.81      0.81      6043\n",
      "\n"
     ]
    }
   ],
   "source": [
    "from sklearn.metrics import classification_report\n",
    "print(classification_report(y_test,y_pred_class))"
   ]
  },
  {
   "cell_type": "code",
   "execution_count": 216,
   "metadata": {},
   "outputs": [
    {
     "data": {
      "text/plain": [
       "array([0.90642224, 0.7021371 ])"
      ]
     },
     "execution_count": 216,
     "metadata": {},
     "output_type": "execute_result"
    }
   ],
   "source": [
    "fbeta_score(y_test, y_pred_class, average=None, beta=2)"
   ]
  },
  {
   "cell_type": "code",
   "execution_count": 217,
   "metadata": {},
   "outputs": [],
   "source": [
    "# tf.saved_model.save(model_for_pruning, \"/data/space1/BooleanLab/TinyML/saved-model_prune\" )"
   ]
  },
  {
   "cell_type": "code",
   "execution_count": 223,
   "metadata": {},
   "outputs": [
    {
     "name": "stdout",
     "output_type": "stream",
     "text": [
      "INFO:tensorflow:Assets written to: /data/space1/BooleanLab/TinyML/test_prune/assets\n"
     ]
    },
    {
     "name": "stderr",
     "output_type": "stream",
     "text": [
      "INFO:tensorflow:Assets written to: /data/space1/BooleanLab/TinyML/test_prune/assets\n"
     ]
    }
   ],
   "source": [
    "model_for_export = tfmot.sparsity.keras.strip_pruning(model)\n",
    "\n",
    "# _, pruned_keras_file = tempfile.mkstemp('.h5')\n",
    "# _, pruned_keras_file = \"/data/space1/BooleanLab/TinyML/test_prune.h5\"\n",
    "# tf.keras.models.save_model(model_for_export, pruned_keras_file, include_optimizer=False)\n",
    "tf.keras.models.save_model(model_for_export, \"/data/space1/BooleanLab/TinyML/test_prune\", include_optimizer=False)\n",
    "# print('Saved pruned Keras model to:', pruned_keras_file)"
   ]
  },
  {
   "cell_type": "code",
   "execution_count": 219,
   "metadata": {},
   "outputs": [
    {
     "name": "stderr",
     "output_type": "stream",
     "text": [
      "2022-10-05 01:27:44.676404: I tensorflow/core/grappler/devices.cc:55] Number of eligible GPUs (core count >= 8, compute capability >= 0.0): 4\n",
      "2022-10-05 01:27:44.676628: I tensorflow/core/grappler/clusters/single_machine.cc:356] Starting new session\n",
      "2022-10-05 01:27:44.677787: I tensorflow/core/common_runtime/gpu/gpu_device.cc:1561] Found device 0 with properties: \n",
      "pciBusID: 0000:02:00.0 name: GeForce GTX 1080 Ti computeCapability: 6.1\n",
      "coreClock: 1.582GHz coreCount: 28 deviceMemorySize: 10.92GiB deviceMemoryBandwidth: 451.17GiB/s\n",
      "2022-10-05 01:27:44.678353: I tensorflow/core/common_runtime/gpu/gpu_device.cc:1561] Found device 1 with properties: \n",
      "pciBusID: 0000:03:00.0 name: GeForce GTX 1080 Ti computeCapability: 6.1\n",
      "coreClock: 1.582GHz coreCount: 28 deviceMemorySize: 10.92GiB deviceMemoryBandwidth: 451.17GiB/s\n",
      "2022-10-05 01:27:44.678909: I tensorflow/core/common_runtime/gpu/gpu_device.cc:1561] Found device 2 with properties: \n",
      "pciBusID: 0000:81:00.0 name: GeForce GTX 1080 Ti computeCapability: 6.1\n",
      "coreClock: 1.582GHz coreCount: 28 deviceMemorySize: 10.92GiB deviceMemoryBandwidth: 451.17GiB/s\n",
      "2022-10-05 01:27:44.679450: I tensorflow/core/common_runtime/gpu/gpu_device.cc:1561] Found device 3 with properties: \n",
      "pciBusID: 0000:82:00.0 name: GeForce GTX 1080 Ti computeCapability: 6.1\n",
      "coreClock: 1.582GHz coreCount: 28 deviceMemorySize: 10.92GiB deviceMemoryBandwidth: 451.17GiB/s\n",
      "2022-10-05 01:27:44.679561: I tensorflow/stream_executor/platform/default/dso_loader.cc:44] Successfully opened dynamic library libcudart.so.10.1\n",
      "2022-10-05 01:27:44.679596: I tensorflow/stream_executor/platform/default/dso_loader.cc:44] Successfully opened dynamic library libcublas.so.10\n",
      "2022-10-05 01:27:44.679629: I tensorflow/stream_executor/platform/default/dso_loader.cc:44] Successfully opened dynamic library libcufft.so.10\n",
      "2022-10-05 01:27:44.679654: I tensorflow/stream_executor/platform/default/dso_loader.cc:44] Successfully opened dynamic library libcurand.so.10\n",
      "2022-10-05 01:27:44.679681: I tensorflow/stream_executor/platform/default/dso_loader.cc:44] Successfully opened dynamic library libcusolver.so.10\n",
      "2022-10-05 01:27:44.679704: I tensorflow/stream_executor/platform/default/dso_loader.cc:44] Successfully opened dynamic library libcusparse.so.10\n",
      "2022-10-05 01:27:44.679732: I tensorflow/stream_executor/platform/default/dso_loader.cc:44] Successfully opened dynamic library libcudnn.so.7\n",
      "2022-10-05 01:27:44.683751: I tensorflow/core/common_runtime/gpu/gpu_device.cc:1703] Adding visible gpu devices: 0, 1, 2, 3\n",
      "2022-10-05 01:27:44.683837: I tensorflow/core/common_runtime/gpu/gpu_device.cc:1102] Device interconnect StreamExecutor with strength 1 edge matrix:\n",
      "2022-10-05 01:27:44.683844: I tensorflow/core/common_runtime/gpu/gpu_device.cc:1108]      0 1 2 3 \n",
      "2022-10-05 01:27:44.683849: I tensorflow/core/common_runtime/gpu/gpu_device.cc:1121] 0:   N Y N N \n",
      "2022-10-05 01:27:44.683852: I tensorflow/core/common_runtime/gpu/gpu_device.cc:1121] 1:   Y N N N \n",
      "2022-10-05 01:27:44.683856: I tensorflow/core/common_runtime/gpu/gpu_device.cc:1121] 2:   N N N Y \n",
      "2022-10-05 01:27:44.683859: I tensorflow/core/common_runtime/gpu/gpu_device.cc:1121] 3:   N N Y N \n",
      "2022-10-05 01:27:44.686447: I tensorflow/core/common_runtime/gpu/gpu_device.cc:1247] Created TensorFlow device (/job:localhost/replica:0/task:0/device:GPU:0 with 10377 MB memory) -> physical GPU (device: 0, name: GeForce GTX 1080 Ti, pci bus id: 0000:02:00.0, compute capability: 6.1)\n",
      "2022-10-05 01:27:44.687021: I tensorflow/core/common_runtime/gpu/gpu_device.cc:1247] Created TensorFlow device (/job:localhost/replica:0/task:0/device:GPU:1 with 10378 MB memory) -> physical GPU (device: 1, name: GeForce GTX 1080 Ti, pci bus id: 0000:03:00.0, compute capability: 6.1)\n",
      "2022-10-05 01:27:44.687585: I tensorflow/core/common_runtime/gpu/gpu_device.cc:1247] Created TensorFlow device (/job:localhost/replica:0/task:0/device:GPU:2 with 10378 MB memory) -> physical GPU (device: 2, name: GeForce GTX 1080 Ti, pci bus id: 0000:81:00.0, compute capability: 6.1)\n",
      "2022-10-05 01:27:44.688142: I tensorflow/core/common_runtime/gpu/gpu_device.cc:1247] Created TensorFlow device (/job:localhost/replica:0/task:0/device:GPU:3 with 10378 MB memory) -> physical GPU (device: 3, name: GeForce GTX 1080 Ti, pci bus id: 0000:82:00.0, compute capability: 6.1)\n",
      "2022-10-05 01:27:44.691567: I tensorflow/core/grappler/optimizers/meta_optimizer.cc:797] Optimization results for grappler item: graph_to_optimize\n",
      "2022-10-05 01:27:44.691583: I tensorflow/core/grappler/optimizers/meta_optimizer.cc:799]   function_optimizer: function_optimizer did nothing. time = 0.003ms.\n",
      "2022-10-05 01:27:44.691588: I tensorflow/core/grappler/optimizers/meta_optimizer.cc:799]   function_optimizer: function_optimizer did nothing. time = 0ms.\n",
      "2022-10-05 01:27:44.717544: I tensorflow/core/grappler/devices.cc:55] Number of eligible GPUs (core count >= 8, compute capability >= 0.0): 4\n",
      "2022-10-05 01:27:44.717625: I tensorflow/core/grappler/clusters/single_machine.cc:356] Starting new session\n",
      "2022-10-05 01:27:44.718522: I tensorflow/core/common_runtime/gpu/gpu_device.cc:1561] Found device 0 with properties: \n",
      "pciBusID: 0000:02:00.0 name: GeForce GTX 1080 Ti computeCapability: 6.1\n",
      "coreClock: 1.582GHz coreCount: 28 deviceMemorySize: 10.92GiB deviceMemoryBandwidth: 451.17GiB/s\n",
      "2022-10-05 01:27:44.719068: I tensorflow/core/common_runtime/gpu/gpu_device.cc:1561] Found device 1 with properties: \n",
      "pciBusID: 0000:03:00.0 name: GeForce GTX 1080 Ti computeCapability: 6.1\n",
      "coreClock: 1.582GHz coreCount: 28 deviceMemorySize: 10.92GiB deviceMemoryBandwidth: 451.17GiB/s\n",
      "2022-10-05 01:27:44.719603: I tensorflow/core/common_runtime/gpu/gpu_device.cc:1561] Found device 2 with properties: \n",
      "pciBusID: 0000:81:00.0 name: GeForce GTX 1080 Ti computeCapability: 6.1\n",
      "coreClock: 1.582GHz coreCount: 28 deviceMemorySize: 10.92GiB deviceMemoryBandwidth: 451.17GiB/s\n",
      "2022-10-05 01:27:44.720133: I tensorflow/core/common_runtime/gpu/gpu_device.cc:1561] Found device 3 with properties: \n",
      "pciBusID: 0000:82:00.0 name: GeForce GTX 1080 Ti computeCapability: 6.1\n",
      "coreClock: 1.582GHz coreCount: 28 deviceMemorySize: 10.92GiB deviceMemoryBandwidth: 451.17GiB/s\n",
      "2022-10-05 01:27:44.720186: I tensorflow/stream_executor/platform/default/dso_loader.cc:44] Successfully opened dynamic library libcudart.so.10.1\n",
      "2022-10-05 01:27:44.720205: I tensorflow/stream_executor/platform/default/dso_loader.cc:44] Successfully opened dynamic library libcublas.so.10\n",
      "2022-10-05 01:27:44.720221: I tensorflow/stream_executor/platform/default/dso_loader.cc:44] Successfully opened dynamic library libcufft.so.10\n",
      "2022-10-05 01:27:44.720236: I tensorflow/stream_executor/platform/default/dso_loader.cc:44] Successfully opened dynamic library libcurand.so.10\n",
      "2022-10-05 01:27:44.720251: I tensorflow/stream_executor/platform/default/dso_loader.cc:44] Successfully opened dynamic library libcusolver.so.10\n",
      "2022-10-05 01:27:44.720267: I tensorflow/stream_executor/platform/default/dso_loader.cc:44] Successfully opened dynamic library libcusparse.so.10\n",
      "2022-10-05 01:27:44.720283: I tensorflow/stream_executor/platform/default/dso_loader.cc:44] Successfully opened dynamic library libcudnn.so.7\n",
      "2022-10-05 01:27:44.724205: I tensorflow/core/common_runtime/gpu/gpu_device.cc:1703] Adding visible gpu devices: 0, 1, 2, 3\n",
      "2022-10-05 01:27:44.724249: I tensorflow/core/common_runtime/gpu/gpu_device.cc:1102] Device interconnect StreamExecutor with strength 1 edge matrix:\n",
      "2022-10-05 01:27:44.724255: I tensorflow/core/common_runtime/gpu/gpu_device.cc:1108]      0 1 2 3 \n",
      "2022-10-05 01:27:44.724260: I tensorflow/core/common_runtime/gpu/gpu_device.cc:1121] 0:   N Y N N \n",
      "2022-10-05 01:27:44.724263: I tensorflow/core/common_runtime/gpu/gpu_device.cc:1121] 1:   Y N N N \n",
      "2022-10-05 01:27:44.724266: I tensorflow/core/common_runtime/gpu/gpu_device.cc:1121] 2:   N N N Y \n",
      "2022-10-05 01:27:44.724270: I tensorflow/core/common_runtime/gpu/gpu_device.cc:1121] 3:   N N Y N \n",
      "2022-10-05 01:27:44.726752: I tensorflow/core/common_runtime/gpu/gpu_device.cc:1247] Created TensorFlow device (/job:localhost/replica:0/task:0/device:GPU:0 with 10377 MB memory) -> physical GPU (device: 0, name: GeForce GTX 1080 Ti, pci bus id: 0000:02:00.0, compute capability: 6.1)\n",
      "2022-10-05 01:27:44.727305: I tensorflow/core/common_runtime/gpu/gpu_device.cc:1247] Created TensorFlow device (/job:localhost/replica:0/task:0/device:GPU:1 with 10378 MB memory) -> physical GPU (device: 1, name: GeForce GTX 1080 Ti, pci bus id: 0000:03:00.0, compute capability: 6.1)\n",
      "2022-10-05 01:27:44.727847: I tensorflow/core/common_runtime/gpu/gpu_device.cc:1247] Created TensorFlow device (/job:localhost/replica:0/task:0/device:GPU:2 with 10378 MB memory) -> physical GPU (device: 2, name: GeForce GTX 1080 Ti, pci bus id: 0000:81:00.0, compute capability: 6.1)\n",
      "2022-10-05 01:27:44.728390: I tensorflow/core/common_runtime/gpu/gpu_device.cc:1247] Created TensorFlow device (/job:localhost/replica:0/task:0/device:GPU:3 with 10378 MB memory) -> physical GPU (device: 3, name: GeForce GTX 1080 Ti, pci bus id: 0000:82:00.0, compute capability: 6.1)\n",
      "2022-10-05 01:27:44.733497: I tensorflow/core/grappler/optimizers/meta_optimizer.cc:797] Optimization results for grappler item: graph_to_optimize\n",
      "2022-10-05 01:27:44.733511: I tensorflow/core/grappler/optimizers/meta_optimizer.cc:799]   constant_folding: Graph size after: 18 nodes (-6), 17 edges (-6), time = 1.464ms.\n",
      "2022-10-05 01:27:44.733515: I tensorflow/core/grappler/optimizers/meta_optimizer.cc:799]   constant_folding: Graph size after: 18 nodes (0), 17 edges (0), time = 0.357ms.\n"
     ]
    },
    {
     "name": "stdout",
     "output_type": "stream",
     "text": [
      "Saved pruned TFLite model to: /tmp/tmpk_glji1z.tflite\n"
     ]
    }
   ],
   "source": [
    "converter = tf.lite.TFLiteConverter.from_keras_model(model)\n",
    "pruned_tflite_model = converter.convert()\n",
    "\n",
    "_, pruned_tflite_file = tempfile.mkstemp('.tflite')\n",
    "\n",
    "with open(pruned_tflite_file, 'wb') as f:\n",
    "  f.write(pruned_tflite_model)\n",
    "\n",
    "print('Saved pruned TFLite model to:', pruned_tflite_file)"
   ]
  },
  {
   "cell_type": "code",
   "execution_count": 220,
   "metadata": {},
   "outputs": [],
   "source": [
    "def get_gzipped_model_size(file):\n",
    "  # Returns size of gzipped model, in bytes.\n",
    "  import os\n",
    "  import zipfile\n",
    "\n",
    "  _, zipped_file = tempfile.mkstemp('.zip')\n",
    "  with zipfile.ZipFile(zipped_file, 'w', compression=zipfile.ZIP_DEFLATED) as f:\n",
    "    f.write(file)\n",
    "\n",
    "  return os.path.getsize(zipped_file)"
   ]
  },
  {
   "cell_type": "code",
   "execution_count": 221,
   "metadata": {},
   "outputs": [
    {
     "name": "stdout",
     "output_type": "stream",
     "text": [
      "Size of gzipped pruned TFlite model: 37196.00 bytes\n"
     ]
    }
   ],
   "source": [
    "# print(\"Size of gzipped baseline Keras model: %.2f bytes\" % (get_gzipped_model_size(keras_file)))\n",
    "# print(\"Size of gzipped pruned Keras model: %.2f bytes\" % (get_gzipped_model_size(pruned_keras_file)))\n",
    "print(\"Size of gzipped pruned TFlite model: %.2f bytes\" % (get_gzipped_model_size(pruned_tflite_file)))"
   ]
  },
  {
   "cell_type": "code",
   "execution_count": 260,
   "metadata": {},
   "outputs": [
    {
     "name": "stderr",
     "output_type": "stream",
     "text": [
      "2022-10-05 02:55:47.191756: I tensorflow/core/grappler/devices.cc:55] Number of eligible GPUs (core count >= 8, compute capability >= 0.0): 4\n",
      "2022-10-05 02:55:47.191948: I tensorflow/core/grappler/clusters/single_machine.cc:356] Starting new session\n",
      "2022-10-05 02:55:47.193152: I tensorflow/core/common_runtime/gpu/gpu_device.cc:1561] Found device 0 with properties: \n",
      "pciBusID: 0000:02:00.0 name: GeForce GTX 1080 Ti computeCapability: 6.1\n",
      "coreClock: 1.582GHz coreCount: 28 deviceMemorySize: 10.92GiB deviceMemoryBandwidth: 451.17GiB/s\n",
      "2022-10-05 02:55:47.193764: I tensorflow/core/common_runtime/gpu/gpu_device.cc:1561] Found device 1 with properties: \n",
      "pciBusID: 0000:03:00.0 name: GeForce GTX 1080 Ti computeCapability: 6.1\n",
      "coreClock: 1.582GHz coreCount: 28 deviceMemorySize: 10.92GiB deviceMemoryBandwidth: 451.17GiB/s\n",
      "2022-10-05 02:55:47.194369: I tensorflow/core/common_runtime/gpu/gpu_device.cc:1561] Found device 2 with properties: \n",
      "pciBusID: 0000:81:00.0 name: GeForce GTX 1080 Ti computeCapability: 6.1\n",
      "coreClock: 1.582GHz coreCount: 28 deviceMemorySize: 10.92GiB deviceMemoryBandwidth: 451.17GiB/s\n",
      "2022-10-05 02:55:47.194973: I tensorflow/core/common_runtime/gpu/gpu_device.cc:1561] Found device 3 with properties: \n",
      "pciBusID: 0000:82:00.0 name: GeForce GTX 1080 Ti computeCapability: 6.1\n",
      "coreClock: 1.582GHz coreCount: 28 deviceMemorySize: 10.92GiB deviceMemoryBandwidth: 451.17GiB/s\n",
      "2022-10-05 02:55:47.195060: I tensorflow/stream_executor/platform/default/dso_loader.cc:44] Successfully opened dynamic library libcudart.so.10.1\n",
      "2022-10-05 02:55:47.195087: I tensorflow/stream_executor/platform/default/dso_loader.cc:44] Successfully opened dynamic library libcublas.so.10\n",
      "2022-10-05 02:55:47.195116: I tensorflow/stream_executor/platform/default/dso_loader.cc:44] Successfully opened dynamic library libcufft.so.10\n",
      "2022-10-05 02:55:47.195140: I tensorflow/stream_executor/platform/default/dso_loader.cc:44] Successfully opened dynamic library libcurand.so.10\n",
      "2022-10-05 02:55:47.195164: I tensorflow/stream_executor/platform/default/dso_loader.cc:44] Successfully opened dynamic library libcusolver.so.10\n",
      "2022-10-05 02:55:47.195189: I tensorflow/stream_executor/platform/default/dso_loader.cc:44] Successfully opened dynamic library libcusparse.so.10\n",
      "2022-10-05 02:55:47.195214: I tensorflow/stream_executor/platform/default/dso_loader.cc:44] Successfully opened dynamic library libcudnn.so.7\n",
      "2022-10-05 02:55:47.199484: I tensorflow/core/common_runtime/gpu/gpu_device.cc:1703] Adding visible gpu devices: 0, 1, 2, 3\n",
      "2022-10-05 02:55:47.199573: I tensorflow/core/common_runtime/gpu/gpu_device.cc:1102] Device interconnect StreamExecutor with strength 1 edge matrix:\n",
      "2022-10-05 02:55:47.199580: I tensorflow/core/common_runtime/gpu/gpu_device.cc:1108]      0 1 2 3 \n",
      "2022-10-05 02:55:47.199585: I tensorflow/core/common_runtime/gpu/gpu_device.cc:1121] 0:   N Y N N \n",
      "2022-10-05 02:55:47.199589: I tensorflow/core/common_runtime/gpu/gpu_device.cc:1121] 1:   Y N N N \n",
      "2022-10-05 02:55:47.199592: I tensorflow/core/common_runtime/gpu/gpu_device.cc:1121] 2:   N N N Y \n",
      "2022-10-05 02:55:47.199595: I tensorflow/core/common_runtime/gpu/gpu_device.cc:1121] 3:   N N Y N \n",
      "2022-10-05 02:55:47.202542: I tensorflow/core/common_runtime/gpu/gpu_device.cc:1247] Created TensorFlow device (/job:localhost/replica:0/task:0/device:GPU:0 with 10377 MB memory) -> physical GPU (device: 0, name: GeForce GTX 1080 Ti, pci bus id: 0000:02:00.0, compute capability: 6.1)\n",
      "2022-10-05 02:55:47.203163: I tensorflow/core/common_runtime/gpu/gpu_device.cc:1247] Created TensorFlow device (/job:localhost/replica:0/task:0/device:GPU:1 with 10378 MB memory) -> physical GPU (device: 1, name: GeForce GTX 1080 Ti, pci bus id: 0000:03:00.0, compute capability: 6.1)\n",
      "2022-10-05 02:55:47.203772: I tensorflow/core/common_runtime/gpu/gpu_device.cc:1247] Created TensorFlow device (/job:localhost/replica:0/task:0/device:GPU:2 with 10378 MB memory) -> physical GPU (device: 2, name: GeForce GTX 1080 Ti, pci bus id: 0000:81:00.0, compute capability: 6.1)\n",
      "2022-10-05 02:55:47.204365: I tensorflow/core/common_runtime/gpu/gpu_device.cc:1247] Created TensorFlow device (/job:localhost/replica:0/task:0/device:GPU:3 with 10378 MB memory) -> physical GPU (device: 3, name: GeForce GTX 1080 Ti, pci bus id: 0000:82:00.0, compute capability: 6.1)\n",
      "2022-10-05 02:55:47.207996: I tensorflow/core/grappler/optimizers/meta_optimizer.cc:797] Optimization results for grappler item: graph_to_optimize\n",
      "2022-10-05 02:55:47.208011: I tensorflow/core/grappler/optimizers/meta_optimizer.cc:799]   function_optimizer: function_optimizer did nothing. time = 0.002ms.\n",
      "2022-10-05 02:55:47.208015: I tensorflow/core/grappler/optimizers/meta_optimizer.cc:799]   function_optimizer: function_optimizer did nothing. time = 0ms.\n",
      "2022-10-05 02:55:47.276487: I tensorflow/core/grappler/devices.cc:55] Number of eligible GPUs (core count >= 8, compute capability >= 0.0): 4\n",
      "2022-10-05 02:55:47.276561: I tensorflow/core/grappler/clusters/single_machine.cc:356] Starting new session\n",
      "2022-10-05 02:55:47.277496: I tensorflow/core/common_runtime/gpu/gpu_device.cc:1561] Found device 0 with properties: \n",
      "pciBusID: 0000:02:00.0 name: GeForce GTX 1080 Ti computeCapability: 6.1\n",
      "coreClock: 1.582GHz coreCount: 28 deviceMemorySize: 10.92GiB deviceMemoryBandwidth: 451.17GiB/s\n",
      "2022-10-05 02:55:47.278041: I tensorflow/core/common_runtime/gpu/gpu_device.cc:1561] Found device 1 with properties: \n",
      "pciBusID: 0000:03:00.0 name: GeForce GTX 1080 Ti computeCapability: 6.1\n",
      "coreClock: 1.582GHz coreCount: 28 deviceMemorySize: 10.92GiB deviceMemoryBandwidth: 451.17GiB/s\n",
      "2022-10-05 02:55:47.278575: I tensorflow/core/common_runtime/gpu/gpu_device.cc:1561] Found device 2 with properties: \n",
      "pciBusID: 0000:81:00.0 name: GeForce GTX 1080 Ti computeCapability: 6.1\n",
      "coreClock: 1.582GHz coreCount: 28 deviceMemorySize: 10.92GiB deviceMemoryBandwidth: 451.17GiB/s\n",
      "2022-10-05 02:55:47.279111: I tensorflow/core/common_runtime/gpu/gpu_device.cc:1561] Found device 3 with properties: \n",
      "pciBusID: 0000:82:00.0 name: GeForce GTX 1080 Ti computeCapability: 6.1\n",
      "coreClock: 1.582GHz coreCount: 28 deviceMemorySize: 10.92GiB deviceMemoryBandwidth: 451.17GiB/s\n",
      "2022-10-05 02:55:47.279158: I tensorflow/stream_executor/platform/default/dso_loader.cc:44] Successfully opened dynamic library libcudart.so.10.1\n",
      "2022-10-05 02:55:47.279176: I tensorflow/stream_executor/platform/default/dso_loader.cc:44] Successfully opened dynamic library libcublas.so.10\n",
      "2022-10-05 02:55:47.279191: I tensorflow/stream_executor/platform/default/dso_loader.cc:44] Successfully opened dynamic library libcufft.so.10\n",
      "2022-10-05 02:55:47.279206: I tensorflow/stream_executor/platform/default/dso_loader.cc:44] Successfully opened dynamic library libcurand.so.10\n",
      "2022-10-05 02:55:47.279221: I tensorflow/stream_executor/platform/default/dso_loader.cc:44] Successfully opened dynamic library libcusolver.so.10\n",
      "2022-10-05 02:55:47.279236: I tensorflow/stream_executor/platform/default/dso_loader.cc:44] Successfully opened dynamic library libcusparse.so.10\n",
      "2022-10-05 02:55:47.279252: I tensorflow/stream_executor/platform/default/dso_loader.cc:44] Successfully opened dynamic library libcudnn.so.7\n",
      "2022-10-05 02:55:47.283224: I tensorflow/core/common_runtime/gpu/gpu_device.cc:1703] Adding visible gpu devices: 0, 1, 2, 3\n",
      "2022-10-05 02:55:47.283266: I tensorflow/core/common_runtime/gpu/gpu_device.cc:1102] Device interconnect StreamExecutor with strength 1 edge matrix:\n",
      "2022-10-05 02:55:47.283272: I tensorflow/core/common_runtime/gpu/gpu_device.cc:1108]      0 1 2 3 \n",
      "2022-10-05 02:55:47.283276: I tensorflow/core/common_runtime/gpu/gpu_device.cc:1121] 0:   N Y N N \n",
      "2022-10-05 02:55:47.283279: I tensorflow/core/common_runtime/gpu/gpu_device.cc:1121] 1:   Y N N N \n",
      "2022-10-05 02:55:47.283283: I tensorflow/core/common_runtime/gpu/gpu_device.cc:1121] 2:   N N N Y \n",
      "2022-10-05 02:55:47.283286: I tensorflow/core/common_runtime/gpu/gpu_device.cc:1121] 3:   N N Y N \n",
      "2022-10-05 02:55:47.286855: I tensorflow/core/common_runtime/gpu/gpu_device.cc:1247] Created TensorFlow device (/job:localhost/replica:0/task:0/device:GPU:0 with 10377 MB memory) -> physical GPU (device: 0, name: GeForce GTX 1080 Ti, pci bus id: 0000:02:00.0, compute capability: 6.1)\n",
      "2022-10-05 02:55:47.287409: I tensorflow/core/common_runtime/gpu/gpu_device.cc:1247] Created TensorFlow device (/job:localhost/replica:0/task:0/device:GPU:1 with 10378 MB memory) -> physical GPU (device: 1, name: GeForce GTX 1080 Ti, pci bus id: 0000:03:00.0, compute capability: 6.1)\n",
      "2022-10-05 02:55:47.287951: I tensorflow/core/common_runtime/gpu/gpu_device.cc:1247] Created TensorFlow device (/job:localhost/replica:0/task:0/device:GPU:2 with 10378 MB memory) -> physical GPU (device: 2, name: GeForce GTX 1080 Ti, pci bus id: 0000:81:00.0, compute capability: 6.1)\n",
      "2022-10-05 02:55:47.288498: I tensorflow/core/common_runtime/gpu/gpu_device.cc:1247] Created TensorFlow device (/job:localhost/replica:0/task:0/device:GPU:3 with 10378 MB memory) -> physical GPU (device: 3, name: GeForce GTX 1080 Ti, pci bus id: 0000:82:00.0, compute capability: 6.1)\n",
      "2022-10-05 02:55:47.293819: I tensorflow/core/grappler/optimizers/meta_optimizer.cc:797] Optimization results for grappler item: graph_to_optimize\n",
      "2022-10-05 02:55:47.293833: I tensorflow/core/grappler/optimizers/meta_optimizer.cc:799]   constant_folding: Graph size after: 34 nodes (-14), 33 edges (-14), time = 1.573ms.\n",
      "2022-10-05 02:55:47.293837: I tensorflow/core/grappler/optimizers/meta_optimizer.cc:799]   constant_folding: Graph size after: 34 nodes (0), 33 edges (0), time = 0.466ms.\n"
     ]
    }
   ],
   "source": [
    "converter = tf.lite.TFLiteConverter.from_keras_model(model)\n",
    "converter.optimizations = [tf.lite.Optimize.OPTIMIZE_FOR_SIZE]\n",
    "quantized_and_pruned_tflite_model = converter.convert()\n",
    "\n",
    "# _, quantized_and_pruned_tflite_file = tempfile.mkstemp('.tflite')\n",
    "\n",
    "with open(\"/data/space1/BooleanLab/TinyML/final2.tflite\", 'wb') as f:\n",
    "  f.write(quantized_and_pruned_tflite_model)\n",
    "\n",
    "# print('Saved quantized and pruned TFLite model to:', quantized_and_pruned_tflite_file)\n",
    "\n",
    "# # print(\"Size of gzipped baseline Keras model: %.2f bytes\" % (get_gzipped_model_size(keras_file)))\n",
    "# print(\"Size of gzipped pruned and quantized TFlite model: %.2f bytes\" % (get_gzipped_model_size(quantized_and_pruned_tflite_file)))"
   ]
  },
  {
   "cell_type": "code",
   "execution_count": null,
   "metadata": {},
   "outputs": [],
   "source": []
  }
 ],
 "metadata": {
  "kernelspec": {
   "display_name": "Python 3.8.13 ('tf_amitash')",
   "language": "python",
   "name": "python3"
  },
  "language_info": {
   "codemirror_mode": {
    "name": "ipython",
    "version": 3
   },
   "file_extension": ".py",
   "mimetype": "text/x-python",
   "name": "python",
   "nbconvert_exporter": "python",
   "pygments_lexer": "ipython3",
   "version": "3.8.13"
  },
  "orig_nbformat": 4,
  "vscode": {
   "interpreter": {
    "hash": "bd416bf6c5a6ea162befb13fc556bf41f1790754173e04a5a57317908e94683e"
   }
  }
 },
 "nbformat": 4,
 "nbformat_minor": 2
}
