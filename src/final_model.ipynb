{
 "cells": [
  {
   "cell_type": "code",
   "execution_count": 1,
   "metadata": {},
   "outputs": [],
   "source": [
    "import os\n",
    "import pandas as pd\n",
    "import tempfile\n",
    "import matplotlib.pyplot as plt\n",
    "import statistics\n",
    "import numpy as np\n",
    "from sklearn.model_selection import train_test_split\n",
    "import pandas as pd\n",
    "import tensorflow as tf\n",
    "from tensorflow.keras.optimizers import Adam, SGD, RMSprop\n",
    "from tensorflow.keras.models import Sequential\n",
    "from tensorflow.keras.layers import Dense, Flatten, Dropout\n",
    "from tensorflow.keras.utils import to_categorical\n",
    "from sklearn.preprocessing import StandardScaler, MinMaxScaler\n",
    "from kerasbeats import prep_time_series, NBeatsModel\n",
    "from sklearn.metrics import classification_report\n",
    "from sklearn.metrics import precision_score, recall_score, f1_score, accuracy_score\n",
    "# from darts.models import NBEATSModel\n",
    "\n",
    "# from darts import TimeSeries, concatenate\n",
    "from tensorflow.keras.models import Sequential\n",
    "from tensorflow.keras.layers import Dense\n",
    "from tensorflow.keras.layers import Flatten\n",
    "from tensorflow.keras.layers import Dropout\n",
    "from tensorflow.keras.layers import LSTM\n",
    "from tensorflow.keras.utils import to_categorical\n",
    "from sklearn.metrics import confusion_matrix\n",
    "from tensorflow.keras.layers import Bidirectional\n",
    "from tensorflow.keras import optimizers\n",
    "from tensorflow.keras.layers import Input, LSTM, Dense, TimeDistributed, Activation, BatchNormalization, Dropout, Bidirectional\n",
    "from tensorflow.keras.layers import Conv1D, MaxPooling1D, MaxPool1D, Flatten, Conv2D, MaxPooling2D\n",
    "# from keras.models import Sequential\n",
    "# from keras.layers import Dense\n",
    "# from keras.layers import Flatten\n",
    "# from keras.layers import Dropout\n",
    "# from keras.layers import LSTM\n",
    "# from keras.utils import to_categorical\n",
    "# from sklearn.metrics import confusion_matrix\n",
    "# from keras.layers import Bidirectional\n",
    "# from keras import optimizers\n",
    "# from keras.layers import Input, LSTM, Dense, TimeDistributed, Activation, BatchNormalization, Dropout, Bidirectional\n",
    "# from keras.layers import Conv1D, MaxPooling1D, MaxPool1D, Flatten, Conv2D\n",
    "# import pickle\n",
    "from sklearn.metrics import fbeta_score\n",
    "import tensorflow_model_optimization as tfmot\n",
    "# import keras\n"
   ]
  },
  {
   "cell_type": "code",
   "execution_count": 2,
   "metadata": {},
   "outputs": [],
   "source": [
    "\n",
    "\n",
    "# directory = './Data/tinyml_contest_data_training'\n",
    "\n",
    "# data = {'Subject Number': [],\n",
    "#         'Label': [],\n",
    "#         'Index': [],\n",
    "#         'Bin'  : []}\n",
    "\n",
    "# df = pd.DataFrame(data)\n",
    "\n",
    "\n",
    "# rows, cols = (30213, 1251)\n",
    "# arr = [[0]*cols]*rows\n",
    "# print('row: ' + str(len(arr)))\n",
    "# print('col: ' + str(len(arr[0])))\n",
    "        \n",
    "        \n",
    "# print(df)\n",
    "# # iterate over files in\n",
    "# # that directory\n",
    "\n",
    "# filecnt = 0\n",
    "\n",
    "# for filename in os.scandir(directory):\n",
    "#     #if filename.is_file():\n",
    "#         #print(filename.path.replace('DeepLearning_for_ImagingFlowCytometry/data/TinyMl/tinyml_contest_data_training', '', 1))\n",
    "        \n",
    "#     filevals = []\n",
    "        \n",
    "#     datav2 = pd.read_csv(filename, sep=\" \", header=None)\n",
    "    \n",
    "#     datav2.columns = [filename]\n",
    "#     #filevals.append(filename)    \n",
    "#     for x in datav2[filename]:\n",
    "#         filevals.append(x)\n",
    "    \n",
    "#     arr[filecnt] = filevals  \n",
    "    \n",
    "    \n",
    "    \n",
    "#     name = filename.path[36:]\n",
    "#         #filenames[name] = {}\n",
    "#     sub = name.split('-')[0]\n",
    "#     lab = name[4:].split('-')[0]\n",
    "#     ind = int(name.split('-')[2][:-4])\n",
    "    \n",
    "#     if lab in [\"VT\", \"VFb\"] :\n",
    "#         bin = 1\n",
    "#     else:\n",
    "#         bin = 0\n",
    "    \n",
    "#     df2 = {'Subject Number': sub, 'Label': lab, 'Index': ind, 'Bin' : bin}\n",
    "    \n",
    "#     df = df.append(df2, ignore_index = True)\n",
    "    \n",
    "    \n",
    "#     #for x in range(len(filevales)):\n",
    "#      #   arr[filecnt][x] = filevals[x]\n",
    "    \n",
    "#     filecnt += 1\n",
    "    \n",
    "    \n",
    "# import numpy\n",
    "\n",
    "# newnumpy = numpy.array(arr)\n",
    "\n",
    "# largedf = pd.DataFrame(newnumpy)\n",
    "\n",
    "\n",
    "# alldf = pd.concat([df, largedf], axis = 1)\n",
    "\n",
    "# alldf = alldf.sort_values(by=['Subject Number', 'Label', 'Index'], ignore_index = True)\n",
    "# alldf = alldf.drop(columns=['Label', 'Index', 'Bin'])\n",
    "# #print(filecnt)\n",
    "\n",
    "# print(len(arr[0]))\n",
    "\n",
    "# #print(alldf.head())\n",
    "\n",
    "# onlylab = df.drop(columns=['Subject Number','Label', 'Index'])\n",
    "\n",
    "# finaldf = pd.concat([alldf, onlylab], axis = 1)\n",
    "\n",
    "# # print(finaldf.head())"
   ]
  },
  {
   "cell_type": "code",
   "execution_count": 3,
   "metadata": {},
   "outputs": [
    {
     "name": "stdout",
     "output_type": "stream",
     "text": [
      " /device:CPU:0 || Unnamed device || CPU || 256.0 MiB\n",
      " /device:XLA_CPU:0 || Unnamed device || XLA_CPU || 16.0 GiB\n",
      " /device:XLA_GPU:0 || Unnamed device || XLA_GPU || 16.0 GiB\n",
      " /device:XLA_GPU:1 || Unnamed device || XLA_GPU || 16.0 GiB\n",
      " /device:XLA_GPU:2 || Unnamed device || XLA_GPU || 16.0 GiB\n",
      " /device:XLA_GPU:3 || Unnamed device || XLA_GPU || 16.0 GiB\n",
      " /device:GPU:0 ||  GeForce GTX 1080 Ti || GPU || 10.1 GiB\n",
      " /device:GPU:1 ||  GeForce GTX 1080 Ti || GPU || 10.1 GiB\n",
      " /device:GPU:2 ||  GeForce GTX 1080 Ti || GPU || 10.1 GiB\n",
      " /device:GPU:3 ||  GeForce GTX 1080 Ti || GPU || 10.1 GiB\n"
     ]
    },
    {
     "name": "stderr",
     "output_type": "stream",
     "text": [
      "2022-10-05 12:57:05.552747: I tensorflow/core/platform/cpu_feature_guard.cc:143] Your CPU supports instructions that this TensorFlow binary was not compiled to use: SSE4.1 SSE4.2 AVX AVX2 FMA\n",
      "2022-10-05 12:57:05.589483: I tensorflow/core/platform/profile_utils/cpu_utils.cc:102] CPU Frequency: 3499710000 Hz\n",
      "2022-10-05 12:57:05.590735: I tensorflow/compiler/xla/service/service.cc:168] XLA service 0x55e184792330 initialized for platform Host (this does not guarantee that XLA will be used). Devices:\n",
      "2022-10-05 12:57:05.590785: I tensorflow/compiler/xla/service/service.cc:176]   StreamExecutor device (0): Host, Default Version\n",
      "2022-10-05 12:57:05.595434: I tensorflow/stream_executor/platform/default/dso_loader.cc:44] Successfully opened dynamic library libcuda.so.1\n",
      "2022-10-05 12:57:07.644708: I tensorflow/compiler/xla/service/service.cc:168] XLA service 0x55e184719190 initialized for platform CUDA (this does not guarantee that XLA will be used). Devices:\n",
      "2022-10-05 12:57:07.644753: I tensorflow/compiler/xla/service/service.cc:176]   StreamExecutor device (0): GeForce GTX 1080 Ti, Compute Capability 6.1\n",
      "2022-10-05 12:57:07.644764: I tensorflow/compiler/xla/service/service.cc:176]   StreamExecutor device (1): GeForce GTX 1080 Ti, Compute Capability 6.1\n",
      "2022-10-05 12:57:07.644773: I tensorflow/compiler/xla/service/service.cc:176]   StreamExecutor device (2): GeForce GTX 1080 Ti, Compute Capability 6.1\n",
      "2022-10-05 12:57:07.644782: I tensorflow/compiler/xla/service/service.cc:176]   StreamExecutor device (3): GeForce GTX 1080 Ti, Compute Capability 6.1\n",
      "2022-10-05 12:57:07.651524: I tensorflow/core/common_runtime/gpu/gpu_device.cc:1561] Found device 0 with properties: \n",
      "pciBusID: 0000:02:00.0 name: GeForce GTX 1080 Ti computeCapability: 6.1\n",
      "coreClock: 1.582GHz coreCount: 28 deviceMemorySize: 10.92GiB deviceMemoryBandwidth: 451.17GiB/s\n",
      "2022-10-05 12:57:07.652802: I tensorflow/core/common_runtime/gpu/gpu_device.cc:1561] Found device 1 with properties: \n",
      "pciBusID: 0000:03:00.0 name: GeForce GTX 1080 Ti computeCapability: 6.1\n",
      "coreClock: 1.582GHz coreCount: 28 deviceMemorySize: 10.92GiB deviceMemoryBandwidth: 451.17GiB/s\n",
      "2022-10-05 12:57:07.654083: I tensorflow/core/common_runtime/gpu/gpu_device.cc:1561] Found device 2 with properties: \n",
      "pciBusID: 0000:81:00.0 name: GeForce GTX 1080 Ti computeCapability: 6.1\n",
      "coreClock: 1.582GHz coreCount: 28 deviceMemorySize: 10.92GiB deviceMemoryBandwidth: 451.17GiB/s\n",
      "2022-10-05 12:57:07.655342: I tensorflow/core/common_runtime/gpu/gpu_device.cc:1561] Found device 3 with properties: \n",
      "pciBusID: 0000:82:00.0 name: GeForce GTX 1080 Ti computeCapability: 6.1\n",
      "coreClock: 1.582GHz coreCount: 28 deviceMemorySize: 10.92GiB deviceMemoryBandwidth: 451.17GiB/s\n",
      "2022-10-05 12:57:07.656471: I tensorflow/stream_executor/platform/default/dso_loader.cc:44] Successfully opened dynamic library libcudart.so.10.1\n",
      "2022-10-05 12:57:07.660807: I tensorflow/stream_executor/platform/default/dso_loader.cc:44] Successfully opened dynamic library libcublas.so.10\n",
      "2022-10-05 12:57:07.663590: I tensorflow/stream_executor/platform/default/dso_loader.cc:44] Successfully opened dynamic library libcufft.so.10\n",
      "2022-10-05 12:57:07.665670: I tensorflow/stream_executor/platform/default/dso_loader.cc:44] Successfully opened dynamic library libcurand.so.10\n",
      "2022-10-05 12:57:07.669872: I tensorflow/stream_executor/platform/default/dso_loader.cc:44] Successfully opened dynamic library libcusolver.so.10\n",
      "2022-10-05 12:57:07.671367: I tensorflow/stream_executor/platform/default/dso_loader.cc:44] Successfully opened dynamic library libcusparse.so.10\n",
      "2022-10-05 12:57:07.678840: I tensorflow/stream_executor/platform/default/dso_loader.cc:44] Successfully opened dynamic library libcudnn.so.7\n",
      "2022-10-05 12:57:07.702991: I tensorflow/core/common_runtime/gpu/gpu_device.cc:1703] Adding visible gpu devices: 0, 1, 2, 3\n",
      "2022-10-05 12:57:07.703056: I tensorflow/stream_executor/platform/default/dso_loader.cc:44] Successfully opened dynamic library libcudart.so.10.1\n",
      "2022-10-05 12:57:07.715147: I tensorflow/core/common_runtime/gpu/gpu_device.cc:1102] Device interconnect StreamExecutor with strength 1 edge matrix:\n",
      "2022-10-05 12:57:07.715167: I tensorflow/core/common_runtime/gpu/gpu_device.cc:1108]      0 1 2 3 \n",
      "2022-10-05 12:57:07.715174: I tensorflow/core/common_runtime/gpu/gpu_device.cc:1121] 0:   N Y N N \n",
      "2022-10-05 12:57:07.715180: I tensorflow/core/common_runtime/gpu/gpu_device.cc:1121] 1:   Y N N N \n",
      "2022-10-05 12:57:07.715184: I tensorflow/core/common_runtime/gpu/gpu_device.cc:1121] 2:   N N N Y \n",
      "2022-10-05 12:57:07.715188: I tensorflow/core/common_runtime/gpu/gpu_device.cc:1121] 3:   N N Y N \n",
      "2022-10-05 12:57:07.719936: I tensorflow/core/common_runtime/gpu/gpu_device.cc:1247] Created TensorFlow device (/device:GPU:0 with 10377 MB memory) -> physical GPU (device: 0, name: GeForce GTX 1080 Ti, pci bus id: 0000:02:00.0, compute capability: 6.1)\n",
      "2022-10-05 12:57:07.721586: I tensorflow/core/common_runtime/gpu/gpu_device.cc:1247] Created TensorFlow device (/device:GPU:1 with 10378 MB memory) -> physical GPU (device: 1, name: GeForce GTX 1080 Ti, pci bus id: 0000:03:00.0, compute capability: 6.1)\n",
      "2022-10-05 12:57:07.723171: I tensorflow/core/common_runtime/gpu/gpu_device.cc:1247] Created TensorFlow device (/device:GPU:2 with 10378 MB memory) -> physical GPU (device: 2, name: GeForce GTX 1080 Ti, pci bus id: 0000:81:00.0, compute capability: 6.1)\n",
      "2022-10-05 12:57:07.724679: I tensorflow/core/common_runtime/gpu/gpu_device.cc:1247] Created TensorFlow device (/device:GPU:3 with 10378 MB memory) -> physical GPU (device: 3, name: GeForce GTX 1080 Ti, pci bus id: 0000:82:00.0, compute capability: 6.1)\n"
     ]
    }
   ],
   "source": [
    "from tensorflow.python.client import device_lib\n",
    "devices = device_lib.list_local_devices()\n",
    "\n",
    "def sizeof_fmt(num, suffix='B'):\n",
    "    for unit in ['','Ki','Mi','Gi','Ti','Pi','Ei','Zi']:\n",
    "        if abs(num) < 1024.0:\n",
    "            return \"%3.1f %s%s\" % (num, unit, suffix)\n",
    "        num /= 1024.0\n",
    "    return \"%.1f%s%s\" % (num, 'Yi', suffix)\n",
    "\n",
    "for d in devices:\n",
    "    t = d.device_type\n",
    "    name = d.physical_device_desc\n",
    "    l = [item.split(':',1) for item in name.split(\", \")]\n",
    "    name_attr = dict([x for x in l if len(x)==2])\n",
    "    dev = name_attr.get('name', 'Unnamed device')\n",
    "    print(f\" {d.name} || {dev} || {t} || {sizeof_fmt(d.memory_limit)}\")"
   ]
  },
  {
   "cell_type": "code",
   "execution_count": 4,
   "metadata": {},
   "outputs": [],
   "source": [
    "finaldf = pd.read_csv('dataloaded.csv')"
   ]
  },
  {
   "cell_type": "code",
   "execution_count": 5,
   "metadata": {},
   "outputs": [
    {
     "data": {
      "text/html": [
       "<div>\n",
       "<style scoped>\n",
       "    .dataframe tbody tr th:only-of-type {\n",
       "        vertical-align: middle;\n",
       "    }\n",
       "\n",
       "    .dataframe tbody tr th {\n",
       "        vertical-align: top;\n",
       "    }\n",
       "\n",
       "    .dataframe thead th {\n",
       "        text-align: right;\n",
       "    }\n",
       "</style>\n",
       "<table border=\"1\" class=\"dataframe\">\n",
       "  <thead>\n",
       "    <tr style=\"text-align: right;\">\n",
       "      <th></th>\n",
       "      <th>Subject Number</th>\n",
       "      <th>0</th>\n",
       "      <th>1</th>\n",
       "      <th>2</th>\n",
       "      <th>3</th>\n",
       "      <th>4</th>\n",
       "      <th>5</th>\n",
       "      <th>6</th>\n",
       "      <th>7</th>\n",
       "      <th>8</th>\n",
       "      <th>...</th>\n",
       "      <th>1241</th>\n",
       "      <th>1242</th>\n",
       "      <th>1243</th>\n",
       "      <th>1244</th>\n",
       "      <th>1245</th>\n",
       "      <th>1246</th>\n",
       "      <th>1247</th>\n",
       "      <th>1248</th>\n",
       "      <th>1249</th>\n",
       "      <th>Bin</th>\n",
       "    </tr>\n",
       "  </thead>\n",
       "  <tbody>\n",
       "    <tr>\n",
       "      <th>0</th>\n",
       "      <td>S01</td>\n",
       "      <td>-0.001718</td>\n",
       "      <td>-0.095806</td>\n",
       "      <td>-0.164705</td>\n",
       "      <td>-0.189470</td>\n",
       "      <td>-0.105115</td>\n",
       "      <td>-0.007060</td>\n",
       "      <td>0.106121</td>\n",
       "      <td>0.127848</td>\n",
       "      <td>0.111724</td>\n",
       "      <td>...</td>\n",
       "      <td>0.030358</td>\n",
       "      <td>0.023003</td>\n",
       "      <td>-0.007709</td>\n",
       "      <td>-0.003488</td>\n",
       "      <td>0.014278</td>\n",
       "      <td>-0.017681</td>\n",
       "      <td>-0.020547</td>\n",
       "      <td>-0.001652</td>\n",
       "      <td>-0.030727</td>\n",
       "      <td>0.0</td>\n",
       "    </tr>\n",
       "    <tr>\n",
       "      <th>1</th>\n",
       "      <td>S01</td>\n",
       "      <td>0.016251</td>\n",
       "      <td>-0.008247</td>\n",
       "      <td>0.005012</td>\n",
       "      <td>-0.007177</td>\n",
       "      <td>-0.000700</td>\n",
       "      <td>-0.018108</td>\n",
       "      <td>0.017456</td>\n",
       "      <td>-0.013712</td>\n",
       "      <td>0.010719</td>\n",
       "      <td>...</td>\n",
       "      <td>-0.018446</td>\n",
       "      <td>0.001842</td>\n",
       "      <td>0.005302</td>\n",
       "      <td>0.011047</td>\n",
       "      <td>0.017912</td>\n",
       "      <td>0.021195</td>\n",
       "      <td>-0.001553</td>\n",
       "      <td>0.033582</td>\n",
       "      <td>0.024117</td>\n",
       "      <td>0.0</td>\n",
       "    </tr>\n",
       "    <tr>\n",
       "      <th>2</th>\n",
       "      <td>S01</td>\n",
       "      <td>-0.012153</td>\n",
       "      <td>-0.019460</td>\n",
       "      <td>0.010308</td>\n",
       "      <td>-0.011775</td>\n",
       "      <td>0.009485</td>\n",
       "      <td>0.017778</td>\n",
       "      <td>-0.014232</td>\n",
       "      <td>0.006212</td>\n",
       "      <td>0.010179</td>\n",
       "      <td>...</td>\n",
       "      <td>-0.002355</td>\n",
       "      <td>-0.001435</td>\n",
       "      <td>-0.008413</td>\n",
       "      <td>-0.011103</td>\n",
       "      <td>-0.013496</td>\n",
       "      <td>-0.003475</td>\n",
       "      <td>-0.006173</td>\n",
       "      <td>0.002482</td>\n",
       "      <td>-0.004514</td>\n",
       "      <td>0.0</td>\n",
       "    </tr>\n",
       "    <tr>\n",
       "      <th>3</th>\n",
       "      <td>S01</td>\n",
       "      <td>0.003189</td>\n",
       "      <td>0.009441</td>\n",
       "      <td>0.013109</td>\n",
       "      <td>0.004647</td>\n",
       "      <td>-0.006620</td>\n",
       "      <td>-0.004719</td>\n",
       "      <td>0.002988</td>\n",
       "      <td>-0.023382</td>\n",
       "      <td>0.007880</td>\n",
       "      <td>...</td>\n",
       "      <td>-0.002689</td>\n",
       "      <td>-0.004957</td>\n",
       "      <td>0.009094</td>\n",
       "      <td>0.013103</td>\n",
       "      <td>-0.012610</td>\n",
       "      <td>-0.020514</td>\n",
       "      <td>0.006492</td>\n",
       "      <td>-0.006451</td>\n",
       "      <td>-0.009719</td>\n",
       "      <td>0.0</td>\n",
       "    </tr>\n",
       "    <tr>\n",
       "      <th>4</th>\n",
       "      <td>S01</td>\n",
       "      <td>0.012738</td>\n",
       "      <td>0.012978</td>\n",
       "      <td>-0.013933</td>\n",
       "      <td>0.013002</td>\n",
       "      <td>-0.011752</td>\n",
       "      <td>0.007639</td>\n",
       "      <td>-0.013597</td>\n",
       "      <td>-0.000866</td>\n",
       "      <td>0.000694</td>\n",
       "      <td>...</td>\n",
       "      <td>0.013919</td>\n",
       "      <td>-0.007044</td>\n",
       "      <td>0.031403</td>\n",
       "      <td>0.012673</td>\n",
       "      <td>-0.003761</td>\n",
       "      <td>-0.013153</td>\n",
       "      <td>-0.012249</td>\n",
       "      <td>-0.015965</td>\n",
       "      <td>-0.004866</td>\n",
       "      <td>0.0</td>\n",
       "    </tr>\n",
       "    <tr>\n",
       "      <th>...</th>\n",
       "      <td>...</td>\n",
       "      <td>...</td>\n",
       "      <td>...</td>\n",
       "      <td>...</td>\n",
       "      <td>...</td>\n",
       "      <td>...</td>\n",
       "      <td>...</td>\n",
       "      <td>...</td>\n",
       "      <td>...</td>\n",
       "      <td>...</td>\n",
       "      <td>...</td>\n",
       "      <td>...</td>\n",
       "      <td>...</td>\n",
       "      <td>...</td>\n",
       "      <td>...</td>\n",
       "      <td>...</td>\n",
       "      <td>...</td>\n",
       "      <td>...</td>\n",
       "      <td>...</td>\n",
       "      <td>...</td>\n",
       "      <td>...</td>\n",
       "    </tr>\n",
       "    <tr>\n",
       "      <th>30208</th>\n",
       "      <td>S95</td>\n",
       "      <td>-0.332482</td>\n",
       "      <td>-0.340718</td>\n",
       "      <td>-0.122615</td>\n",
       "      <td>0.085202</td>\n",
       "      <td>0.471829</td>\n",
       "      <td>0.630832</td>\n",
       "      <td>0.878892</td>\n",
       "      <td>0.443409</td>\n",
       "      <td>0.016916</td>\n",
       "      <td>...</td>\n",
       "      <td>-0.286388</td>\n",
       "      <td>0.065137</td>\n",
       "      <td>-0.055429</td>\n",
       "      <td>0.236196</td>\n",
       "      <td>0.063671</td>\n",
       "      <td>0.186460</td>\n",
       "      <td>0.218980</td>\n",
       "      <td>0.200417</td>\n",
       "      <td>0.070140</td>\n",
       "      <td>1.0</td>\n",
       "    </tr>\n",
       "    <tr>\n",
       "      <th>30209</th>\n",
       "      <td>S95</td>\n",
       "      <td>-0.209928</td>\n",
       "      <td>-0.204724</td>\n",
       "      <td>0.033302</td>\n",
       "      <td>-0.076489</td>\n",
       "      <td>0.087503</td>\n",
       "      <td>0.130825</td>\n",
       "      <td>-0.061206</td>\n",
       "      <td>0.190358</td>\n",
       "      <td>0.185017</td>\n",
       "      <td>...</td>\n",
       "      <td>0.884048</td>\n",
       "      <td>0.793466</td>\n",
       "      <td>0.572090</td>\n",
       "      <td>0.089591</td>\n",
       "      <td>-0.089960</td>\n",
       "      <td>-0.028005</td>\n",
       "      <td>-0.161846</td>\n",
       "      <td>0.027143</td>\n",
       "      <td>-0.189498</td>\n",
       "      <td>1.0</td>\n",
       "    </tr>\n",
       "    <tr>\n",
       "      <th>30210</th>\n",
       "      <td>S95</td>\n",
       "      <td>-0.100085</td>\n",
       "      <td>-0.513255</td>\n",
       "      <td>-0.519358</td>\n",
       "      <td>-0.172858</td>\n",
       "      <td>0.384442</td>\n",
       "      <td>0.373873</td>\n",
       "      <td>0.129929</td>\n",
       "      <td>0.052760</td>\n",
       "      <td>-0.153613</td>\n",
       "      <td>...</td>\n",
       "      <td>0.057048</td>\n",
       "      <td>0.086446</td>\n",
       "      <td>0.377366</td>\n",
       "      <td>0.204054</td>\n",
       "      <td>0.256200</td>\n",
       "      <td>0.083140</td>\n",
       "      <td>0.221371</td>\n",
       "      <td>0.191867</td>\n",
       "      <td>-0.575213</td>\n",
       "      <td>1.0</td>\n",
       "    </tr>\n",
       "    <tr>\n",
       "      <th>30211</th>\n",
       "      <td>S95</td>\n",
       "      <td>0.131366</td>\n",
       "      <td>0.106964</td>\n",
       "      <td>0.050252</td>\n",
       "      <td>0.196197</td>\n",
       "      <td>0.027283</td>\n",
       "      <td>0.046262</td>\n",
       "      <td>0.035980</td>\n",
       "      <td>0.093962</td>\n",
       "      <td>0.019785</td>\n",
       "      <td>...</td>\n",
       "      <td>0.168492</td>\n",
       "      <td>-0.126853</td>\n",
       "      <td>-0.022228</td>\n",
       "      <td>0.005178</td>\n",
       "      <td>-0.120576</td>\n",
       "      <td>-0.155777</td>\n",
       "      <td>-0.108943</td>\n",
       "      <td>-0.158428</td>\n",
       "      <td>0.006180</td>\n",
       "      <td>1.0</td>\n",
       "    </tr>\n",
       "    <tr>\n",
       "      <th>30212</th>\n",
       "      <td>S95</td>\n",
       "      <td>0.205708</td>\n",
       "      <td>0.209226</td>\n",
       "      <td>-0.096537</td>\n",
       "      <td>-0.125522</td>\n",
       "      <td>-0.269852</td>\n",
       "      <td>-0.334346</td>\n",
       "      <td>-0.414996</td>\n",
       "      <td>-0.073428</td>\n",
       "      <td>0.111627</td>\n",
       "      <td>...</td>\n",
       "      <td>-0.218360</td>\n",
       "      <td>0.073458</td>\n",
       "      <td>-0.160720</td>\n",
       "      <td>0.088019</td>\n",
       "      <td>-0.029808</td>\n",
       "      <td>-0.082308</td>\n",
       "      <td>-0.119268</td>\n",
       "      <td>0.129305</td>\n",
       "      <td>-0.064128</td>\n",
       "      <td>1.0</td>\n",
       "    </tr>\n",
       "  </tbody>\n",
       "</table>\n",
       "<p>30213 rows × 1252 columns</p>\n",
       "</div>"
      ],
      "text/plain": [
       "      Subject Number         0         1         2         3         4  \\\n",
       "0                S01 -0.001718 -0.095806 -0.164705 -0.189470 -0.105115   \n",
       "1                S01  0.016251 -0.008247  0.005012 -0.007177 -0.000700   \n",
       "2                S01 -0.012153 -0.019460  0.010308 -0.011775  0.009485   \n",
       "3                S01  0.003189  0.009441  0.013109  0.004647 -0.006620   \n",
       "4                S01  0.012738  0.012978 -0.013933  0.013002 -0.011752   \n",
       "...              ...       ...       ...       ...       ...       ...   \n",
       "30208            S95 -0.332482 -0.340718 -0.122615  0.085202  0.471829   \n",
       "30209            S95 -0.209928 -0.204724  0.033302 -0.076489  0.087503   \n",
       "30210            S95 -0.100085 -0.513255 -0.519358 -0.172858  0.384442   \n",
       "30211            S95  0.131366  0.106964  0.050252  0.196197  0.027283   \n",
       "30212            S95  0.205708  0.209226 -0.096537 -0.125522 -0.269852   \n",
       "\n",
       "              5         6         7         8  ...      1241      1242  \\\n",
       "0     -0.007060  0.106121  0.127848  0.111724  ...  0.030358  0.023003   \n",
       "1     -0.018108  0.017456 -0.013712  0.010719  ... -0.018446  0.001842   \n",
       "2      0.017778 -0.014232  0.006212  0.010179  ... -0.002355 -0.001435   \n",
       "3     -0.004719  0.002988 -0.023382  0.007880  ... -0.002689 -0.004957   \n",
       "4      0.007639 -0.013597 -0.000866  0.000694  ...  0.013919 -0.007044   \n",
       "...         ...       ...       ...       ...  ...       ...       ...   \n",
       "30208  0.630832  0.878892  0.443409  0.016916  ... -0.286388  0.065137   \n",
       "30209  0.130825 -0.061206  0.190358  0.185017  ...  0.884048  0.793466   \n",
       "30210  0.373873  0.129929  0.052760 -0.153613  ...  0.057048  0.086446   \n",
       "30211  0.046262  0.035980  0.093962  0.019785  ...  0.168492 -0.126853   \n",
       "30212 -0.334346 -0.414996 -0.073428  0.111627  ... -0.218360  0.073458   \n",
       "\n",
       "           1243      1244      1245      1246      1247      1248      1249  \\\n",
       "0     -0.007709 -0.003488  0.014278 -0.017681 -0.020547 -0.001652 -0.030727   \n",
       "1      0.005302  0.011047  0.017912  0.021195 -0.001553  0.033582  0.024117   \n",
       "2     -0.008413 -0.011103 -0.013496 -0.003475 -0.006173  0.002482 -0.004514   \n",
       "3      0.009094  0.013103 -0.012610 -0.020514  0.006492 -0.006451 -0.009719   \n",
       "4      0.031403  0.012673 -0.003761 -0.013153 -0.012249 -0.015965 -0.004866   \n",
       "...         ...       ...       ...       ...       ...       ...       ...   \n",
       "30208 -0.055429  0.236196  0.063671  0.186460  0.218980  0.200417  0.070140   \n",
       "30209  0.572090  0.089591 -0.089960 -0.028005 -0.161846  0.027143 -0.189498   \n",
       "30210  0.377366  0.204054  0.256200  0.083140  0.221371  0.191867 -0.575213   \n",
       "30211 -0.022228  0.005178 -0.120576 -0.155777 -0.108943 -0.158428  0.006180   \n",
       "30212 -0.160720  0.088019 -0.029808 -0.082308 -0.119268  0.129305 -0.064128   \n",
       "\n",
       "       Bin  \n",
       "0      0.0  \n",
       "1      0.0  \n",
       "2      0.0  \n",
       "3      0.0  \n",
       "4      0.0  \n",
       "...    ...  \n",
       "30208  1.0  \n",
       "30209  1.0  \n",
       "30210  1.0  \n",
       "30211  1.0  \n",
       "30212  1.0  \n",
       "\n",
       "[30213 rows x 1252 columns]"
      ]
     },
     "execution_count": 5,
     "metadata": {},
     "output_type": "execute_result"
    }
   ],
   "source": [
    "finaldf"
   ]
  },
  {
   "cell_type": "code",
   "execution_count": 6,
   "metadata": {},
   "outputs": [
    {
     "name": "stdout",
     "output_type": "stream",
     "text": [
      "INFO:tensorflow:Using MirroredStrategy with devices ('/job:localhost/replica:0/task:0/device:GPU:0', '/job:localhost/replica:0/task:0/device:GPU:1', '/job:localhost/replica:0/task:0/device:GPU:2', '/job:localhost/replica:0/task:0/device:GPU:3')\n",
      "Number of devices: 4\n"
     ]
    },
    {
     "name": "stderr",
     "output_type": "stream",
     "text": [
      "2022-10-05 12:57:13.502853: I tensorflow/core/common_runtime/gpu/gpu_device.cc:1561] Found device 0 with properties: \n",
      "pciBusID: 0000:02:00.0 name: GeForce GTX 1080 Ti computeCapability: 6.1\n",
      "coreClock: 1.582GHz coreCount: 28 deviceMemorySize: 10.92GiB deviceMemoryBandwidth: 451.17GiB/s\n",
      "2022-10-05 12:57:13.504225: I tensorflow/core/common_runtime/gpu/gpu_device.cc:1561] Found device 1 with properties: \n",
      "pciBusID: 0000:03:00.0 name: GeForce GTX 1080 Ti computeCapability: 6.1\n",
      "coreClock: 1.582GHz coreCount: 28 deviceMemorySize: 10.92GiB deviceMemoryBandwidth: 451.17GiB/s\n",
      "2022-10-05 12:57:13.505535: I tensorflow/core/common_runtime/gpu/gpu_device.cc:1561] Found device 2 with properties: \n",
      "pciBusID: 0000:81:00.0 name: GeForce GTX 1080 Ti computeCapability: 6.1\n",
      "coreClock: 1.582GHz coreCount: 28 deviceMemorySize: 10.92GiB deviceMemoryBandwidth: 451.17GiB/s\n",
      "2022-10-05 12:57:13.506808: I tensorflow/core/common_runtime/gpu/gpu_device.cc:1561] Found device 3 with properties: \n",
      "pciBusID: 0000:82:00.0 name: GeForce GTX 1080 Ti computeCapability: 6.1\n",
      "coreClock: 1.582GHz coreCount: 28 deviceMemorySize: 10.92GiB deviceMemoryBandwidth: 451.17GiB/s\n",
      "2022-10-05 12:57:13.506905: I tensorflow/stream_executor/platform/default/dso_loader.cc:44] Successfully opened dynamic library libcudart.so.10.1\n",
      "2022-10-05 12:57:13.506937: I tensorflow/stream_executor/platform/default/dso_loader.cc:44] Successfully opened dynamic library libcublas.so.10\n",
      "2022-10-05 12:57:13.506966: I tensorflow/stream_executor/platform/default/dso_loader.cc:44] Successfully opened dynamic library libcufft.so.10\n",
      "2022-10-05 12:57:13.506995: I tensorflow/stream_executor/platform/default/dso_loader.cc:44] Successfully opened dynamic library libcurand.so.10\n",
      "2022-10-05 12:57:13.507023: I tensorflow/stream_executor/platform/default/dso_loader.cc:44] Successfully opened dynamic library libcusolver.so.10\n",
      "2022-10-05 12:57:13.507052: I tensorflow/stream_executor/platform/default/dso_loader.cc:44] Successfully opened dynamic library libcusparse.so.10\n",
      "2022-10-05 12:57:13.507081: I tensorflow/stream_executor/platform/default/dso_loader.cc:44] Successfully opened dynamic library libcudnn.so.7\n",
      "2022-10-05 12:57:13.513360: I tensorflow/core/common_runtime/gpu/gpu_device.cc:1703] Adding visible gpu devices: 0, 1, 2, 3\n",
      "2022-10-05 12:57:13.515048: I tensorflow/core/common_runtime/gpu/gpu_device.cc:1561] Found device 0 with properties: \n",
      "pciBusID: 0000:02:00.0 name: GeForce GTX 1080 Ti computeCapability: 6.1\n",
      "coreClock: 1.582GHz coreCount: 28 deviceMemorySize: 10.92GiB deviceMemoryBandwidth: 451.17GiB/s\n",
      "2022-10-05 12:57:13.515747: I tensorflow/core/common_runtime/gpu/gpu_device.cc:1561] Found device 1 with properties: \n",
      "pciBusID: 0000:03:00.0 name: GeForce GTX 1080 Ti computeCapability: 6.1\n",
      "coreClock: 1.582GHz coreCount: 28 deviceMemorySize: 10.92GiB deviceMemoryBandwidth: 451.17GiB/s\n",
      "2022-10-05 12:57:13.516435: I tensorflow/core/common_runtime/gpu/gpu_device.cc:1561] Found device 2 with properties: \n",
      "pciBusID: 0000:81:00.0 name: GeForce GTX 1080 Ti computeCapability: 6.1\n",
      "coreClock: 1.582GHz coreCount: 28 deviceMemorySize: 10.92GiB deviceMemoryBandwidth: 451.17GiB/s\n",
      "2022-10-05 12:57:13.517042: I tensorflow/core/common_runtime/gpu/gpu_device.cc:1561] Found device 3 with properties: \n",
      "pciBusID: 0000:82:00.0 name: GeForce GTX 1080 Ti computeCapability: 6.1\n",
      "coreClock: 1.582GHz coreCount: 28 deviceMemorySize: 10.92GiB deviceMemoryBandwidth: 451.17GiB/s\n",
      "2022-10-05 12:57:13.517098: I tensorflow/stream_executor/platform/default/dso_loader.cc:44] Successfully opened dynamic library libcudart.so.10.1\n",
      "2022-10-05 12:57:13.517119: I tensorflow/stream_executor/platform/default/dso_loader.cc:44] Successfully opened dynamic library libcublas.so.10\n",
      "2022-10-05 12:57:13.517135: I tensorflow/stream_executor/platform/default/dso_loader.cc:44] Successfully opened dynamic library libcufft.so.10\n",
      "2022-10-05 12:57:13.517150: I tensorflow/stream_executor/platform/default/dso_loader.cc:44] Successfully opened dynamic library libcurand.so.10\n",
      "2022-10-05 12:57:13.517164: I tensorflow/stream_executor/platform/default/dso_loader.cc:44] Successfully opened dynamic library libcusolver.so.10\n",
      "2022-10-05 12:57:13.517179: I tensorflow/stream_executor/platform/default/dso_loader.cc:44] Successfully opened dynamic library libcusparse.so.10\n",
      "2022-10-05 12:57:13.517194: I tensorflow/stream_executor/platform/default/dso_loader.cc:44] Successfully opened dynamic library libcudnn.so.7\n",
      "2022-10-05 12:57:13.522290: I tensorflow/core/common_runtime/gpu/gpu_device.cc:1703] Adding visible gpu devices: 0, 1, 2, 3\n",
      "2022-10-05 12:57:13.522351: I tensorflow/core/common_runtime/gpu/gpu_device.cc:1102] Device interconnect StreamExecutor with strength 1 edge matrix:\n",
      "2022-10-05 12:57:13.522357: I tensorflow/core/common_runtime/gpu/gpu_device.cc:1108]      0 1 2 3 \n",
      "2022-10-05 12:57:13.522361: I tensorflow/core/common_runtime/gpu/gpu_device.cc:1121] 0:   N Y N N \n",
      "2022-10-05 12:57:13.522364: I tensorflow/core/common_runtime/gpu/gpu_device.cc:1121] 1:   Y N N N \n",
      "2022-10-05 12:57:13.522367: I tensorflow/core/common_runtime/gpu/gpu_device.cc:1121] 2:   N N N Y \n",
      "2022-10-05 12:57:13.522370: I tensorflow/core/common_runtime/gpu/gpu_device.cc:1121] 3:   N N Y N \n",
      "2022-10-05 12:57:13.525596: I tensorflow/core/common_runtime/gpu/gpu_device.cc:1247] Created TensorFlow device (/job:localhost/replica:0/task:0/device:GPU:0 with 10377 MB memory) -> physical GPU (device: 0, name: GeForce GTX 1080 Ti, pci bus id: 0000:02:00.0, compute capability: 6.1)\n",
      "2022-10-05 12:57:13.526216: I tensorflow/core/common_runtime/gpu/gpu_device.cc:1247] Created TensorFlow device (/job:localhost/replica:0/task:0/device:GPU:1 with 10378 MB memory) -> physical GPU (device: 1, name: GeForce GTX 1080 Ti, pci bus id: 0000:03:00.0, compute capability: 6.1)\n",
      "2022-10-05 12:57:13.526912: I tensorflow/core/common_runtime/gpu/gpu_device.cc:1247] Created TensorFlow device (/job:localhost/replica:0/task:0/device:GPU:2 with 10378 MB memory) -> physical GPU (device: 2, name: GeForce GTX 1080 Ti, pci bus id: 0000:81:00.0, compute capability: 6.1)\n",
      "2022-10-05 12:57:13.527586: I tensorflow/core/common_runtime/gpu/gpu_device.cc:1247] Created TensorFlow device (/job:localhost/replica:0/task:0/device:GPU:3 with 10378 MB memory) -> physical GPU (device: 3, name: GeForce GTX 1080 Ti, pci bus id: 0000:82:00.0, compute capability: 6.1)\n"
     ]
    }
   ],
   "source": [
    "\n",
    "BATCH_SIZE = 32\n",
    "GPUS = [\"GPU:0\",\"GPU:1\", \"GPU:2\",\"GPU:3\"]\n",
    "\n",
    "\n",
    "strategy = tf.distribute.MirroredStrategy( GPUS )\n",
    "print('Number of devices: %d' % strategy.num_replicas_in_sync) \n",
    "\n",
    "batch_size = BATCH_SIZE * strategy.num_replicas_in_sync\n"
   ]
  },
  {
   "cell_type": "code",
   "execution_count": 7,
   "metadata": {},
   "outputs": [
    {
     "data": {
      "text/plain": [
       "0.0    16253\n",
       "1.0    13960\n",
       "Name: Bin, dtype: int64"
      ]
     },
     "execution_count": 7,
     "metadata": {},
     "output_type": "execute_result"
    }
   ],
   "source": [
    "finaldf.Bin.value_counts()"
   ]
  },
  {
   "cell_type": "code",
   "execution_count": 8,
   "metadata": {},
   "outputs": [],
   "source": [
    "finaldf_new  = finaldf.drop(columns=['Subject Number'], axis =1)"
   ]
  },
  {
   "cell_type": "code",
   "execution_count": 9,
   "metadata": {},
   "outputs": [
    {
     "data": {
      "text/html": [
       "<div>\n",
       "<style scoped>\n",
       "    .dataframe tbody tr th:only-of-type {\n",
       "        vertical-align: middle;\n",
       "    }\n",
       "\n",
       "    .dataframe tbody tr th {\n",
       "        vertical-align: top;\n",
       "    }\n",
       "\n",
       "    .dataframe thead th {\n",
       "        text-align: right;\n",
       "    }\n",
       "</style>\n",
       "<table border=\"1\" class=\"dataframe\">\n",
       "  <thead>\n",
       "    <tr style=\"text-align: right;\">\n",
       "      <th></th>\n",
       "      <th>0</th>\n",
       "      <th>1</th>\n",
       "      <th>2</th>\n",
       "      <th>3</th>\n",
       "      <th>4</th>\n",
       "      <th>5</th>\n",
       "      <th>6</th>\n",
       "      <th>7</th>\n",
       "      <th>8</th>\n",
       "      <th>9</th>\n",
       "      <th>...</th>\n",
       "      <th>1241</th>\n",
       "      <th>1242</th>\n",
       "      <th>1243</th>\n",
       "      <th>1244</th>\n",
       "      <th>1245</th>\n",
       "      <th>1246</th>\n",
       "      <th>1247</th>\n",
       "      <th>1248</th>\n",
       "      <th>1249</th>\n",
       "      <th>Bin</th>\n",
       "    </tr>\n",
       "  </thead>\n",
       "  <tbody>\n",
       "    <tr>\n",
       "      <th>0</th>\n",
       "      <td>-0.001718</td>\n",
       "      <td>-0.095806</td>\n",
       "      <td>-0.164705</td>\n",
       "      <td>-0.189470</td>\n",
       "      <td>-0.105115</td>\n",
       "      <td>-0.007060</td>\n",
       "      <td>0.106121</td>\n",
       "      <td>0.127848</td>\n",
       "      <td>0.111724</td>\n",
       "      <td>0.061645</td>\n",
       "      <td>...</td>\n",
       "      <td>0.030358</td>\n",
       "      <td>0.023003</td>\n",
       "      <td>-0.007709</td>\n",
       "      <td>-0.003488</td>\n",
       "      <td>0.014278</td>\n",
       "      <td>-0.017681</td>\n",
       "      <td>-0.020547</td>\n",
       "      <td>-0.001652</td>\n",
       "      <td>-0.030727</td>\n",
       "      <td>0.0</td>\n",
       "    </tr>\n",
       "    <tr>\n",
       "      <th>1</th>\n",
       "      <td>0.016251</td>\n",
       "      <td>-0.008247</td>\n",
       "      <td>0.005012</td>\n",
       "      <td>-0.007177</td>\n",
       "      <td>-0.000700</td>\n",
       "      <td>-0.018108</td>\n",
       "      <td>0.017456</td>\n",
       "      <td>-0.013712</td>\n",
       "      <td>0.010719</td>\n",
       "      <td>0.010638</td>\n",
       "      <td>...</td>\n",
       "      <td>-0.018446</td>\n",
       "      <td>0.001842</td>\n",
       "      <td>0.005302</td>\n",
       "      <td>0.011047</td>\n",
       "      <td>0.017912</td>\n",
       "      <td>0.021195</td>\n",
       "      <td>-0.001553</td>\n",
       "      <td>0.033582</td>\n",
       "      <td>0.024117</td>\n",
       "      <td>0.0</td>\n",
       "    </tr>\n",
       "    <tr>\n",
       "      <th>2</th>\n",
       "      <td>-0.012153</td>\n",
       "      <td>-0.019460</td>\n",
       "      <td>0.010308</td>\n",
       "      <td>-0.011775</td>\n",
       "      <td>0.009485</td>\n",
       "      <td>0.017778</td>\n",
       "      <td>-0.014232</td>\n",
       "      <td>0.006212</td>\n",
       "      <td>0.010179</td>\n",
       "      <td>0.000313</td>\n",
       "      <td>...</td>\n",
       "      <td>-0.002355</td>\n",
       "      <td>-0.001435</td>\n",
       "      <td>-0.008413</td>\n",
       "      <td>-0.011103</td>\n",
       "      <td>-0.013496</td>\n",
       "      <td>-0.003475</td>\n",
       "      <td>-0.006173</td>\n",
       "      <td>0.002482</td>\n",
       "      <td>-0.004514</td>\n",
       "      <td>0.0</td>\n",
       "    </tr>\n",
       "    <tr>\n",
       "      <th>3</th>\n",
       "      <td>0.003189</td>\n",
       "      <td>0.009441</td>\n",
       "      <td>0.013109</td>\n",
       "      <td>0.004647</td>\n",
       "      <td>-0.006620</td>\n",
       "      <td>-0.004719</td>\n",
       "      <td>0.002988</td>\n",
       "      <td>-0.023382</td>\n",
       "      <td>0.007880</td>\n",
       "      <td>0.019491</td>\n",
       "      <td>...</td>\n",
       "      <td>-0.002689</td>\n",
       "      <td>-0.004957</td>\n",
       "      <td>0.009094</td>\n",
       "      <td>0.013103</td>\n",
       "      <td>-0.012610</td>\n",
       "      <td>-0.020514</td>\n",
       "      <td>0.006492</td>\n",
       "      <td>-0.006451</td>\n",
       "      <td>-0.009719</td>\n",
       "      <td>0.0</td>\n",
       "    </tr>\n",
       "    <tr>\n",
       "      <th>4</th>\n",
       "      <td>0.012738</td>\n",
       "      <td>0.012978</td>\n",
       "      <td>-0.013933</td>\n",
       "      <td>0.013002</td>\n",
       "      <td>-0.011752</td>\n",
       "      <td>0.007639</td>\n",
       "      <td>-0.013597</td>\n",
       "      <td>-0.000866</td>\n",
       "      <td>0.000694</td>\n",
       "      <td>0.000275</td>\n",
       "      <td>...</td>\n",
       "      <td>0.013919</td>\n",
       "      <td>-0.007044</td>\n",
       "      <td>0.031403</td>\n",
       "      <td>0.012673</td>\n",
       "      <td>-0.003761</td>\n",
       "      <td>-0.013153</td>\n",
       "      <td>-0.012249</td>\n",
       "      <td>-0.015965</td>\n",
       "      <td>-0.004866</td>\n",
       "      <td>0.0</td>\n",
       "    </tr>\n",
       "    <tr>\n",
       "      <th>...</th>\n",
       "      <td>...</td>\n",
       "      <td>...</td>\n",
       "      <td>...</td>\n",
       "      <td>...</td>\n",
       "      <td>...</td>\n",
       "      <td>...</td>\n",
       "      <td>...</td>\n",
       "      <td>...</td>\n",
       "      <td>...</td>\n",
       "      <td>...</td>\n",
       "      <td>...</td>\n",
       "      <td>...</td>\n",
       "      <td>...</td>\n",
       "      <td>...</td>\n",
       "      <td>...</td>\n",
       "      <td>...</td>\n",
       "      <td>...</td>\n",
       "      <td>...</td>\n",
       "      <td>...</td>\n",
       "      <td>...</td>\n",
       "      <td>...</td>\n",
       "    </tr>\n",
       "    <tr>\n",
       "      <th>30208</th>\n",
       "      <td>-0.332482</td>\n",
       "      <td>-0.340718</td>\n",
       "      <td>-0.122615</td>\n",
       "      <td>0.085202</td>\n",
       "      <td>0.471829</td>\n",
       "      <td>0.630832</td>\n",
       "      <td>0.878892</td>\n",
       "      <td>0.443409</td>\n",
       "      <td>0.016916</td>\n",
       "      <td>-0.467942</td>\n",
       "      <td>...</td>\n",
       "      <td>-0.286388</td>\n",
       "      <td>0.065137</td>\n",
       "      <td>-0.055429</td>\n",
       "      <td>0.236196</td>\n",
       "      <td>0.063671</td>\n",
       "      <td>0.186460</td>\n",
       "      <td>0.218980</td>\n",
       "      <td>0.200417</td>\n",
       "      <td>0.070140</td>\n",
       "      <td>1.0</td>\n",
       "    </tr>\n",
       "    <tr>\n",
       "      <th>30209</th>\n",
       "      <td>-0.209928</td>\n",
       "      <td>-0.204724</td>\n",
       "      <td>0.033302</td>\n",
       "      <td>-0.076489</td>\n",
       "      <td>0.087503</td>\n",
       "      <td>0.130825</td>\n",
       "      <td>-0.061206</td>\n",
       "      <td>0.190358</td>\n",
       "      <td>0.185017</td>\n",
       "      <td>0.133373</td>\n",
       "      <td>...</td>\n",
       "      <td>0.884048</td>\n",
       "      <td>0.793466</td>\n",
       "      <td>0.572090</td>\n",
       "      <td>0.089591</td>\n",
       "      <td>-0.089960</td>\n",
       "      <td>-0.028005</td>\n",
       "      <td>-0.161846</td>\n",
       "      <td>0.027143</td>\n",
       "      <td>-0.189498</td>\n",
       "      <td>1.0</td>\n",
       "    </tr>\n",
       "    <tr>\n",
       "      <th>30210</th>\n",
       "      <td>-0.100085</td>\n",
       "      <td>-0.513255</td>\n",
       "      <td>-0.519358</td>\n",
       "      <td>-0.172858</td>\n",
       "      <td>0.384442</td>\n",
       "      <td>0.373873</td>\n",
       "      <td>0.129929</td>\n",
       "      <td>0.052760</td>\n",
       "      <td>-0.153613</td>\n",
       "      <td>0.025636</td>\n",
       "      <td>...</td>\n",
       "      <td>0.057048</td>\n",
       "      <td>0.086446</td>\n",
       "      <td>0.377366</td>\n",
       "      <td>0.204054</td>\n",
       "      <td>0.256200</td>\n",
       "      <td>0.083140</td>\n",
       "      <td>0.221371</td>\n",
       "      <td>0.191867</td>\n",
       "      <td>-0.575213</td>\n",
       "      <td>1.0</td>\n",
       "    </tr>\n",
       "    <tr>\n",
       "      <th>30211</th>\n",
       "      <td>0.131366</td>\n",
       "      <td>0.106964</td>\n",
       "      <td>0.050252</td>\n",
       "      <td>0.196197</td>\n",
       "      <td>0.027283</td>\n",
       "      <td>0.046262</td>\n",
       "      <td>0.035980</td>\n",
       "      <td>0.093962</td>\n",
       "      <td>0.019785</td>\n",
       "      <td>0.028760</td>\n",
       "      <td>...</td>\n",
       "      <td>0.168492</td>\n",
       "      <td>-0.126853</td>\n",
       "      <td>-0.022228</td>\n",
       "      <td>0.005178</td>\n",
       "      <td>-0.120576</td>\n",
       "      <td>-0.155777</td>\n",
       "      <td>-0.108943</td>\n",
       "      <td>-0.158428</td>\n",
       "      <td>0.006180</td>\n",
       "      <td>1.0</td>\n",
       "    </tr>\n",
       "    <tr>\n",
       "      <th>30212</th>\n",
       "      <td>0.205708</td>\n",
       "      <td>0.209226</td>\n",
       "      <td>-0.096537</td>\n",
       "      <td>-0.125522</td>\n",
       "      <td>-0.269852</td>\n",
       "      <td>-0.334346</td>\n",
       "      <td>-0.414996</td>\n",
       "      <td>-0.073428</td>\n",
       "      <td>0.111627</td>\n",
       "      <td>0.309735</td>\n",
       "      <td>...</td>\n",
       "      <td>-0.218360</td>\n",
       "      <td>0.073458</td>\n",
       "      <td>-0.160720</td>\n",
       "      <td>0.088019</td>\n",
       "      <td>-0.029808</td>\n",
       "      <td>-0.082308</td>\n",
       "      <td>-0.119268</td>\n",
       "      <td>0.129305</td>\n",
       "      <td>-0.064128</td>\n",
       "      <td>1.0</td>\n",
       "    </tr>\n",
       "  </tbody>\n",
       "</table>\n",
       "<p>30213 rows × 1251 columns</p>\n",
       "</div>"
      ],
      "text/plain": [
       "              0         1         2         3         4         5         6  \\\n",
       "0     -0.001718 -0.095806 -0.164705 -0.189470 -0.105115 -0.007060  0.106121   \n",
       "1      0.016251 -0.008247  0.005012 -0.007177 -0.000700 -0.018108  0.017456   \n",
       "2     -0.012153 -0.019460  0.010308 -0.011775  0.009485  0.017778 -0.014232   \n",
       "3      0.003189  0.009441  0.013109  0.004647 -0.006620 -0.004719  0.002988   \n",
       "4      0.012738  0.012978 -0.013933  0.013002 -0.011752  0.007639 -0.013597   \n",
       "...         ...       ...       ...       ...       ...       ...       ...   \n",
       "30208 -0.332482 -0.340718 -0.122615  0.085202  0.471829  0.630832  0.878892   \n",
       "30209 -0.209928 -0.204724  0.033302 -0.076489  0.087503  0.130825 -0.061206   \n",
       "30210 -0.100085 -0.513255 -0.519358 -0.172858  0.384442  0.373873  0.129929   \n",
       "30211  0.131366  0.106964  0.050252  0.196197  0.027283  0.046262  0.035980   \n",
       "30212  0.205708  0.209226 -0.096537 -0.125522 -0.269852 -0.334346 -0.414996   \n",
       "\n",
       "              7         8         9  ...      1241      1242      1243  \\\n",
       "0      0.127848  0.111724  0.061645  ...  0.030358  0.023003 -0.007709   \n",
       "1     -0.013712  0.010719  0.010638  ... -0.018446  0.001842  0.005302   \n",
       "2      0.006212  0.010179  0.000313  ... -0.002355 -0.001435 -0.008413   \n",
       "3     -0.023382  0.007880  0.019491  ... -0.002689 -0.004957  0.009094   \n",
       "4     -0.000866  0.000694  0.000275  ...  0.013919 -0.007044  0.031403   \n",
       "...         ...       ...       ...  ...       ...       ...       ...   \n",
       "30208  0.443409  0.016916 -0.467942  ... -0.286388  0.065137 -0.055429   \n",
       "30209  0.190358  0.185017  0.133373  ...  0.884048  0.793466  0.572090   \n",
       "30210  0.052760 -0.153613  0.025636  ...  0.057048  0.086446  0.377366   \n",
       "30211  0.093962  0.019785  0.028760  ...  0.168492 -0.126853 -0.022228   \n",
       "30212 -0.073428  0.111627  0.309735  ... -0.218360  0.073458 -0.160720   \n",
       "\n",
       "           1244      1245      1246      1247      1248      1249  Bin  \n",
       "0     -0.003488  0.014278 -0.017681 -0.020547 -0.001652 -0.030727  0.0  \n",
       "1      0.011047  0.017912  0.021195 -0.001553  0.033582  0.024117  0.0  \n",
       "2     -0.011103 -0.013496 -0.003475 -0.006173  0.002482 -0.004514  0.0  \n",
       "3      0.013103 -0.012610 -0.020514  0.006492 -0.006451 -0.009719  0.0  \n",
       "4      0.012673 -0.003761 -0.013153 -0.012249 -0.015965 -0.004866  0.0  \n",
       "...         ...       ...       ...       ...       ...       ...  ...  \n",
       "30208  0.236196  0.063671  0.186460  0.218980  0.200417  0.070140  1.0  \n",
       "30209  0.089591 -0.089960 -0.028005 -0.161846  0.027143 -0.189498  1.0  \n",
       "30210  0.204054  0.256200  0.083140  0.221371  0.191867 -0.575213  1.0  \n",
       "30211  0.005178 -0.120576 -0.155777 -0.108943 -0.158428  0.006180  1.0  \n",
       "30212  0.088019 -0.029808 -0.082308 -0.119268  0.129305 -0.064128  1.0  \n",
       "\n",
       "[30213 rows x 1251 columns]"
      ]
     },
     "execution_count": 9,
     "metadata": {},
     "output_type": "execute_result"
    }
   ],
   "source": [
    "finaldf_new"
   ]
  },
  {
   "cell_type": "code",
   "execution_count": 10,
   "metadata": {},
   "outputs": [],
   "source": [
    "# finaldf_new.drop(columns=finaldf.columns[0], axis=1, inplace=True)"
   ]
  },
  {
   "cell_type": "code",
   "execution_count": 11,
   "metadata": {},
   "outputs": [],
   "source": [
    "# finaldf_new"
   ]
  },
  {
   "cell_type": "code",
   "execution_count": 12,
   "metadata": {},
   "outputs": [
    {
     "data": {
      "text/html": [
       "<div>\n",
       "<style scoped>\n",
       "    .dataframe tbody tr th:only-of-type {\n",
       "        vertical-align: middle;\n",
       "    }\n",
       "\n",
       "    .dataframe tbody tr th {\n",
       "        vertical-align: top;\n",
       "    }\n",
       "\n",
       "    .dataframe thead th {\n",
       "        text-align: right;\n",
       "    }\n",
       "</style>\n",
       "<table border=\"1\" class=\"dataframe\">\n",
       "  <thead>\n",
       "    <tr style=\"text-align: right;\">\n",
       "      <th></th>\n",
       "      <th>0</th>\n",
       "      <th>1</th>\n",
       "      <th>2</th>\n",
       "      <th>3</th>\n",
       "      <th>4</th>\n",
       "      <th>5</th>\n",
       "      <th>6</th>\n",
       "      <th>7</th>\n",
       "      <th>8</th>\n",
       "      <th>9</th>\n",
       "      <th>...</th>\n",
       "      <th>1241</th>\n",
       "      <th>1242</th>\n",
       "      <th>1243</th>\n",
       "      <th>1244</th>\n",
       "      <th>1245</th>\n",
       "      <th>1246</th>\n",
       "      <th>1247</th>\n",
       "      <th>1248</th>\n",
       "      <th>1249</th>\n",
       "      <th>Bin</th>\n",
       "    </tr>\n",
       "  </thead>\n",
       "  <tbody>\n",
       "    <tr>\n",
       "      <th>27469</th>\n",
       "      <td>-0.041024</td>\n",
       "      <td>-0.013125</td>\n",
       "      <td>0.049922</td>\n",
       "      <td>-0.011931</td>\n",
       "      <td>0.053438</td>\n",
       "      <td>0.028411</td>\n",
       "      <td>0.034311</td>\n",
       "      <td>-0.009464</td>\n",
       "      <td>0.042860</td>\n",
       "      <td>-0.006467</td>\n",
       "      <td>...</td>\n",
       "      <td>0.051114</td>\n",
       "      <td>0.048917</td>\n",
       "      <td>0.009020</td>\n",
       "      <td>0.048289</td>\n",
       "      <td>0.071468</td>\n",
       "      <td>0.004350</td>\n",
       "      <td>0.057227</td>\n",
       "      <td>0.039280</td>\n",
       "      <td>0.035348</td>\n",
       "      <td>1.0</td>\n",
       "    </tr>\n",
       "    <tr>\n",
       "      <th>5909</th>\n",
       "      <td>-0.220509</td>\n",
       "      <td>-0.182258</td>\n",
       "      <td>0.016023</td>\n",
       "      <td>0.248153</td>\n",
       "      <td>0.471533</td>\n",
       "      <td>0.448524</td>\n",
       "      <td>0.254561</td>\n",
       "      <td>-0.054527</td>\n",
       "      <td>-0.269558</td>\n",
       "      <td>-0.286266</td>\n",
       "      <td>...</td>\n",
       "      <td>-0.270803</td>\n",
       "      <td>-0.171342</td>\n",
       "      <td>-0.018458</td>\n",
       "      <td>0.256281</td>\n",
       "      <td>0.429520</td>\n",
       "      <td>0.465940</td>\n",
       "      <td>0.288106</td>\n",
       "      <td>-0.014676</td>\n",
       "      <td>-0.238021</td>\n",
       "      <td>0.0</td>\n",
       "    </tr>\n",
       "    <tr>\n",
       "      <th>19000</th>\n",
       "      <td>0.009480</td>\n",
       "      <td>-0.012620</td>\n",
       "      <td>-0.011669</td>\n",
       "      <td>-0.022293</td>\n",
       "      <td>0.006587</td>\n",
       "      <td>-0.036144</td>\n",
       "      <td>-0.024323</td>\n",
       "      <td>-0.034141</td>\n",
       "      <td>0.012461</td>\n",
       "      <td>0.016105</td>\n",
       "      <td>...</td>\n",
       "      <td>0.043405</td>\n",
       "      <td>0.030073</td>\n",
       "      <td>0.058171</td>\n",
       "      <td>0.034721</td>\n",
       "      <td>0.045703</td>\n",
       "      <td>-0.028214</td>\n",
       "      <td>-0.127191</td>\n",
       "      <td>-0.150897</td>\n",
       "      <td>-0.138830</td>\n",
       "      <td>1.0</td>\n",
       "    </tr>\n",
       "    <tr>\n",
       "      <th>27525</th>\n",
       "      <td>0.020608</td>\n",
       "      <td>0.004776</td>\n",
       "      <td>-0.022134</td>\n",
       "      <td>-0.045532</td>\n",
       "      <td>0.023020</td>\n",
       "      <td>0.036966</td>\n",
       "      <td>0.012297</td>\n",
       "      <td>0.039079</td>\n",
       "      <td>0.034127</td>\n",
       "      <td>0.049028</td>\n",
       "      <td>...</td>\n",
       "      <td>-0.026291</td>\n",
       "      <td>-0.023200</td>\n",
       "      <td>-0.031467</td>\n",
       "      <td>-0.025794</td>\n",
       "      <td>-0.012974</td>\n",
       "      <td>-0.035785</td>\n",
       "      <td>-0.005544</td>\n",
       "      <td>-0.018050</td>\n",
       "      <td>-0.050258</td>\n",
       "      <td>1.0</td>\n",
       "    </tr>\n",
       "    <tr>\n",
       "      <th>22132</th>\n",
       "      <td>0.034689</td>\n",
       "      <td>0.002596</td>\n",
       "      <td>0.007126</td>\n",
       "      <td>0.010651</td>\n",
       "      <td>0.007212</td>\n",
       "      <td>-0.009776</td>\n",
       "      <td>-0.038176</td>\n",
       "      <td>0.025409</td>\n",
       "      <td>-0.006806</td>\n",
       "      <td>-0.013743</td>\n",
       "      <td>...</td>\n",
       "      <td>-0.032890</td>\n",
       "      <td>0.001110</td>\n",
       "      <td>0.000781</td>\n",
       "      <td>-0.017405</td>\n",
       "      <td>-0.042541</td>\n",
       "      <td>-0.036137</td>\n",
       "      <td>0.002497</td>\n",
       "      <td>-0.042646</td>\n",
       "      <td>-0.027276</td>\n",
       "      <td>0.0</td>\n",
       "    </tr>\n",
       "    <tr>\n",
       "      <th>...</th>\n",
       "      <td>...</td>\n",
       "      <td>...</td>\n",
       "      <td>...</td>\n",
       "      <td>...</td>\n",
       "      <td>...</td>\n",
       "      <td>...</td>\n",
       "      <td>...</td>\n",
       "      <td>...</td>\n",
       "      <td>...</td>\n",
       "      <td>...</td>\n",
       "      <td>...</td>\n",
       "      <td>...</td>\n",
       "      <td>...</td>\n",
       "      <td>...</td>\n",
       "      <td>...</td>\n",
       "      <td>...</td>\n",
       "      <td>...</td>\n",
       "      <td>...</td>\n",
       "      <td>...</td>\n",
       "      <td>...</td>\n",
       "      <td>...</td>\n",
       "    </tr>\n",
       "    <tr>\n",
       "      <th>3361</th>\n",
       "      <td>-0.018425</td>\n",
       "      <td>0.002972</td>\n",
       "      <td>0.009358</td>\n",
       "      <td>-0.010217</td>\n",
       "      <td>0.017751</td>\n",
       "      <td>-0.004796</td>\n",
       "      <td>0.006805</td>\n",
       "      <td>0.000639</td>\n",
       "      <td>0.003705</td>\n",
       "      <td>0.007677</td>\n",
       "      <td>...</td>\n",
       "      <td>0.008797</td>\n",
       "      <td>0.019930</td>\n",
       "      <td>-0.009983</td>\n",
       "      <td>-0.017530</td>\n",
       "      <td>-0.004952</td>\n",
       "      <td>-0.007826</td>\n",
       "      <td>0.011717</td>\n",
       "      <td>0.013215</td>\n",
       "      <td>-0.001294</td>\n",
       "      <td>0.0</td>\n",
       "    </tr>\n",
       "    <tr>\n",
       "      <th>17678</th>\n",
       "      <td>0.036423</td>\n",
       "      <td>0.026860</td>\n",
       "      <td>-0.071603</td>\n",
       "      <td>-0.041686</td>\n",
       "      <td>0.051341</td>\n",
       "      <td>-0.059904</td>\n",
       "      <td>-0.080849</td>\n",
       "      <td>0.033650</td>\n",
       "      <td>0.072626</td>\n",
       "      <td>-0.001253</td>\n",
       "      <td>...</td>\n",
       "      <td>0.023780</td>\n",
       "      <td>-0.003464</td>\n",
       "      <td>0.099841</td>\n",
       "      <td>0.227982</td>\n",
       "      <td>0.246207</td>\n",
       "      <td>0.248156</td>\n",
       "      <td>0.111668</td>\n",
       "      <td>-0.012278</td>\n",
       "      <td>-0.295910</td>\n",
       "      <td>0.0</td>\n",
       "    </tr>\n",
       "    <tr>\n",
       "      <th>22947</th>\n",
       "      <td>-0.025462</td>\n",
       "      <td>0.059353</td>\n",
       "      <td>-0.030178</td>\n",
       "      <td>-0.062067</td>\n",
       "      <td>0.029313</td>\n",
       "      <td>-0.011505</td>\n",
       "      <td>0.015281</td>\n",
       "      <td>0.007253</td>\n",
       "      <td>0.052388</td>\n",
       "      <td>0.088842</td>\n",
       "      <td>...</td>\n",
       "      <td>-0.139095</td>\n",
       "      <td>-0.154645</td>\n",
       "      <td>-0.086340</td>\n",
       "      <td>-0.065871</td>\n",
       "      <td>0.033561</td>\n",
       "      <td>-0.039874</td>\n",
       "      <td>0.103643</td>\n",
       "      <td>0.072381</td>\n",
       "      <td>0.087772</td>\n",
       "      <td>0.0</td>\n",
       "    </tr>\n",
       "    <tr>\n",
       "      <th>26941</th>\n",
       "      <td>0.055961</td>\n",
       "      <td>0.064000</td>\n",
       "      <td>-0.028014</td>\n",
       "      <td>0.065102</td>\n",
       "      <td>-0.032407</td>\n",
       "      <td>0.066778</td>\n",
       "      <td>0.039916</td>\n",
       "      <td>-0.061618</td>\n",
       "      <td>0.004314</td>\n",
       "      <td>-0.075639</td>\n",
       "      <td>...</td>\n",
       "      <td>-0.042388</td>\n",
       "      <td>-0.021716</td>\n",
       "      <td>-0.071878</td>\n",
       "      <td>0.108833</td>\n",
       "      <td>0.082641</td>\n",
       "      <td>0.061402</td>\n",
       "      <td>0.041585</td>\n",
       "      <td>0.039459</td>\n",
       "      <td>0.169186</td>\n",
       "      <td>0.0</td>\n",
       "    </tr>\n",
       "    <tr>\n",
       "      <th>16085</th>\n",
       "      <td>-0.004255</td>\n",
       "      <td>0.003027</td>\n",
       "      <td>-0.001499</td>\n",
       "      <td>0.000097</td>\n",
       "      <td>0.035437</td>\n",
       "      <td>-0.002660</td>\n",
       "      <td>0.017750</td>\n",
       "      <td>-0.028965</td>\n",
       "      <td>-0.013730</td>\n",
       "      <td>0.005921</td>\n",
       "      <td>...</td>\n",
       "      <td>-0.053133</td>\n",
       "      <td>-0.036574</td>\n",
       "      <td>0.032574</td>\n",
       "      <td>0.024721</td>\n",
       "      <td>0.001498</td>\n",
       "      <td>0.013479</td>\n",
       "      <td>0.045635</td>\n",
       "      <td>0.011992</td>\n",
       "      <td>-0.029954</td>\n",
       "      <td>0.0</td>\n",
       "    </tr>\n",
       "  </tbody>\n",
       "</table>\n",
       "<p>30213 rows × 1251 columns</p>\n",
       "</div>"
      ],
      "text/plain": [
       "              0         1         2         3         4         5         6  \\\n",
       "27469 -0.041024 -0.013125  0.049922 -0.011931  0.053438  0.028411  0.034311   \n",
       "5909  -0.220509 -0.182258  0.016023  0.248153  0.471533  0.448524  0.254561   \n",
       "19000  0.009480 -0.012620 -0.011669 -0.022293  0.006587 -0.036144 -0.024323   \n",
       "27525  0.020608  0.004776 -0.022134 -0.045532  0.023020  0.036966  0.012297   \n",
       "22132  0.034689  0.002596  0.007126  0.010651  0.007212 -0.009776 -0.038176   \n",
       "...         ...       ...       ...       ...       ...       ...       ...   \n",
       "3361  -0.018425  0.002972  0.009358 -0.010217  0.017751 -0.004796  0.006805   \n",
       "17678  0.036423  0.026860 -0.071603 -0.041686  0.051341 -0.059904 -0.080849   \n",
       "22947 -0.025462  0.059353 -0.030178 -0.062067  0.029313 -0.011505  0.015281   \n",
       "26941  0.055961  0.064000 -0.028014  0.065102 -0.032407  0.066778  0.039916   \n",
       "16085 -0.004255  0.003027 -0.001499  0.000097  0.035437 -0.002660  0.017750   \n",
       "\n",
       "              7         8         9  ...      1241      1242      1243  \\\n",
       "27469 -0.009464  0.042860 -0.006467  ...  0.051114  0.048917  0.009020   \n",
       "5909  -0.054527 -0.269558 -0.286266  ... -0.270803 -0.171342 -0.018458   \n",
       "19000 -0.034141  0.012461  0.016105  ...  0.043405  0.030073  0.058171   \n",
       "27525  0.039079  0.034127  0.049028  ... -0.026291 -0.023200 -0.031467   \n",
       "22132  0.025409 -0.006806 -0.013743  ... -0.032890  0.001110  0.000781   \n",
       "...         ...       ...       ...  ...       ...       ...       ...   \n",
       "3361   0.000639  0.003705  0.007677  ...  0.008797  0.019930 -0.009983   \n",
       "17678  0.033650  0.072626 -0.001253  ...  0.023780 -0.003464  0.099841   \n",
       "22947  0.007253  0.052388  0.088842  ... -0.139095 -0.154645 -0.086340   \n",
       "26941 -0.061618  0.004314 -0.075639  ... -0.042388 -0.021716 -0.071878   \n",
       "16085 -0.028965 -0.013730  0.005921  ... -0.053133 -0.036574  0.032574   \n",
       "\n",
       "           1244      1245      1246      1247      1248      1249  Bin  \n",
       "27469  0.048289  0.071468  0.004350  0.057227  0.039280  0.035348  1.0  \n",
       "5909   0.256281  0.429520  0.465940  0.288106 -0.014676 -0.238021  0.0  \n",
       "19000  0.034721  0.045703 -0.028214 -0.127191 -0.150897 -0.138830  1.0  \n",
       "27525 -0.025794 -0.012974 -0.035785 -0.005544 -0.018050 -0.050258  1.0  \n",
       "22132 -0.017405 -0.042541 -0.036137  0.002497 -0.042646 -0.027276  0.0  \n",
       "...         ...       ...       ...       ...       ...       ...  ...  \n",
       "3361  -0.017530 -0.004952 -0.007826  0.011717  0.013215 -0.001294  0.0  \n",
       "17678  0.227982  0.246207  0.248156  0.111668 -0.012278 -0.295910  0.0  \n",
       "22947 -0.065871  0.033561 -0.039874  0.103643  0.072381  0.087772  0.0  \n",
       "26941  0.108833  0.082641  0.061402  0.041585  0.039459  0.169186  0.0  \n",
       "16085  0.024721  0.001498  0.013479  0.045635  0.011992 -0.029954  0.0  \n",
       "\n",
       "[30213 rows x 1251 columns]"
      ]
     },
     "execution_count": 12,
     "metadata": {},
     "output_type": "execute_result"
    }
   ],
   "source": [
    "finaldf_new.sample(frac=1)"
   ]
  },
  {
   "cell_type": "code",
   "execution_count": 13,
   "metadata": {},
   "outputs": [],
   "source": [
    "X = finaldf_new.iloc[:,:-1].values"
   ]
  },
  {
   "cell_type": "code",
   "execution_count": 14,
   "metadata": {},
   "outputs": [],
   "source": [
    "y = finaldf_new.iloc[:,1250].values"
   ]
  },
  {
   "cell_type": "code",
   "execution_count": 15,
   "metadata": {},
   "outputs": [
    {
     "data": {
      "text/plain": [
       "array([0., 0., 0., ..., 1., 1., 1.])"
      ]
     },
     "execution_count": 15,
     "metadata": {},
     "output_type": "execute_result"
    }
   ],
   "source": [
    "y"
   ]
  },
  {
   "cell_type": "code",
   "execution_count": 16,
   "metadata": {},
   "outputs": [],
   "source": [
    "# X_train_n, X_rem, y_train, y_rem,= train_test_split(X, y, train_size = 0.8, random_state = 0)\n",
    "# X_train, X_rem, y_train, y_rem,= train_test_split(X, y, train_size = 0.8, random_state = 0)\n",
    "# X_train_n, X_test_n, y_train, y_test = train_test_split(X, y, train_size = 0.8, random_state = 0)\n",
    "X_train, X_test, y_train, y_test = train_test_split(X, y, train_size = 0.8, random_state = 0)"
   ]
  },
  {
   "cell_type": "code",
   "execution_count": 17,
   "metadata": {},
   "outputs": [],
   "source": [
    "# X_valid_n, X_test_n, y_valid, y_test = train_test_split(X_rem,y_rem, test_size=0.5, random_state = 0)\n",
    "# X_valid, X_test, y_valid, y_test = train_test_split(X_rem,y_rem, test_size=0.5, random_state = 0)"
   ]
  },
  {
   "cell_type": "code",
   "execution_count": 18,
   "metadata": {},
   "outputs": [
    {
     "name": "stdout",
     "output_type": "stream",
     "text": [
      "(24170, 1250)\n",
      "(24170,)\n",
      "(6043, 1250)\n",
      "(6043,)\n"
     ]
    },
    {
     "data": {
      "text/plain": [
       "(None, None)"
      ]
     },
     "execution_count": 18,
     "metadata": {},
     "output_type": "execute_result"
    }
   ],
   "source": [
    "# print(X_train_n.shape), print(y_train.shape)\n",
    "# # print(X_valid.shape), print(y_valid.shape)\n",
    "# print(X_test_n.shape), print(y_test.shape)\n",
    "print(X_train.shape), print(y_train.shape)\n",
    "print(X_test.shape), print(y_test.shape)"
   ]
  },
  {
   "cell_type": "code",
   "execution_count": 19,
   "metadata": {},
   "outputs": [
    {
     "data": {
      "text/plain": [
       "array([1., 1., 1., ..., 1., 1., 1.])"
      ]
     },
     "execution_count": 19,
     "metadata": {},
     "output_type": "execute_result"
    }
   ],
   "source": [
    "y_test"
   ]
  },
  {
   "cell_type": "code",
   "execution_count": 20,
   "metadata": {},
   "outputs": [],
   "source": [
    "scaler = StandardScaler()\n",
    "X_train_n = scaler.fit_transform(X_train)\n",
    "X_test_n = scaler.transform(X_test)\n",
    "# X_valid_n = scaler.transform(X_valid)"
   ]
  },
  {
   "cell_type": "code",
   "execution_count": 21,
   "metadata": {},
   "outputs": [],
   "source": [
    "X_train_cnn = np.reshape(X_train_n, (X_train_n.shape[0], X_train_n.shape[1],1))\n",
    "X_test_cnn = np.reshape(X_test_n, (X_test_n.shape[0], X_test_n.shape[1],1))\n",
    "# X_valid_cnn = np.reshape(X_valid_n, (X_valid_n.shape[0], X_valid_n.shape[1],1))"
   ]
  },
  {
   "cell_type": "code",
   "execution_count": 22,
   "metadata": {},
   "outputs": [
    {
     "data": {
      "text/plain": [
       "((24170, 1250, 1), (6043, 1250, 1))"
      ]
     },
     "execution_count": 22,
     "metadata": {},
     "output_type": "execute_result"
    }
   ],
   "source": [
    "# X_train_cnn.shape, X_test_cnn.shape, X_valid_cnn.shape \n",
    "X_train_cnn.shape, X_test_cnn.shape"
   ]
  },
  {
   "cell_type": "code",
   "execution_count": 23,
   "metadata": {},
   "outputs": [],
   "source": [
    "# n_timesteps, n_features = X_train_cnn.shape[1], X_train_cnn.shape[2]"
   ]
  },
  {
   "cell_type": "code",
   "execution_count": 24,
   "metadata": {},
   "outputs": [],
   "source": [
    "# n_features"
   ]
  },
  {
   "cell_type": "code",
   "execution_count": 25,
   "metadata": {},
   "outputs": [],
   "source": [
    "# n_timesteps"
   ]
  },
  {
   "cell_type": "code",
   "execution_count": 26,
   "metadata": {},
   "outputs": [],
   "source": [
    "checkpoint_path = \"./checkpoint_path/training_1/cp.ckpt\"\n",
    "checkpoint_dir = os.path.dirname(checkpoint_path)"
   ]
  },
  {
   "cell_type": "code",
   "execution_count": 27,
   "metadata": {},
   "outputs": [],
   "source": [
    "# Create a callback that saves the model's weights\n",
    "cp_callback = tf.keras.callbacks.ModelCheckpoint(filepath=checkpoint_path,\n",
    "                                                 save_weights_only=True,\n",
    "                                                 verbose=1)"
   ]
  },
  {
   "cell_type": "code",
   "execution_count": 28,
   "metadata": {},
   "outputs": [
    {
     "name": "stdout",
     "output_type": "stream",
     "text": [
      "WARNING:tensorflow:`period` argument is deprecated. Please use `save_freq` to specify the frequency in number of batches seen.\n"
     ]
    }
   ],
   "source": [
    "checkpoint = tf.keras.callbacks.ModelCheckpoint('./checkpoint_path/training_1/model{epoch:08d}.h5',save_freq='epoch', period=10) "
   ]
  },
  {
   "cell_type": "code",
   "execution_count": 29,
   "metadata": {},
   "outputs": [],
   "source": [
    "# input_shape = np.shape(X_train_cnn)\n",
    "# input_shape "
   ]
  },
  {
   "cell_type": "code",
   "execution_count": 30,
   "metadata": {},
   "outputs": [],
   "source": [
    "# input_shape=(X_train_n.shape[-1],)\n",
    "# input_shape"
   ]
  },
  {
   "cell_type": "code",
   "execution_count": 31,
   "metadata": {},
   "outputs": [],
   "source": [
    "model = Sequential()\n",
    "model.add(Conv1D(filters=32, kernel_size=3, activation='relu',input_shape = (1250,1)))\n",
    "model.add(Conv1D(filters=16, kernel_size=4, activation='relu',input_shape = (1250,1)))\n",
    "model.add(Conv1D(filters=8, kernel_size=5, activation='relu',input_shape = (1250,1)))\n",
    "model.add(Dropout(0.25))\n",
    "model.add(Flatten())\n",
    "model.add(Dense(1, activation='sigmoid'))\n",
    "\n",
    "#########Best################\n",
    "\n",
    "# model = Sequential()\n",
    "# model.add(Conv1D(filters=16, kernel_size=5,strides=5, activation='relu',input_shape = (1250,1)))\n",
    "# model.add(Conv1D(filters=8, kernel_size=3,strides=3, activation='relu',input_shape = (1250,1)))\n",
    "# model.add(Conv1D(filters=4, kernel_size=5,strides=2, activation='relu',input_shape = (1250,1)))\n",
    "# model.add(Dropout(0.25))\n",
    "# model.add(Flatten())\n",
    "# model.add(Dense(1, activation='sigmoid'))\n",
    "\n",
    "######tf_lite2#####\n",
    "\n",
    "# model = Sequential()\n",
    "# model.add(Conv1D(filters=16, kernel_size=5,strides=5, activation='relu',input_shape = (1250,1)))\n",
    "# model.add(Conv1D(filters=8, kernel_size=3,strides=3, activation='relu',input_shape = (1250,1)))\n",
    "# model.add(Conv1D(filters=4, kernel_size=2,strides=2, activation='relu',input_shape = (1250,1)))\n",
    "# model.add(Dropout(0.25))\n",
    "# model.add(Flatten())\n",
    "# model.add(Dense(1, activation='sigmoid'))\n",
    "\n",
    "\n",
    "# import time\n",
    "# start = time.time()\n",
    "# with strategy.scope():\n",
    "#     model = Sequential()\n",
    "#     # adding the first convolutionial layer with 24 filters and 2 by 1 kernal size, using the rectifier as the activation function\n",
    "#     model.add(Conv2D(24, (16,1),input_shape=(24170, 1250, 1),activation='relu'))\n",
    "#     # adding a maxpooling layer\n",
    "#     model.add(MaxPooling2D(pool_size=(2,1),strides=(2,1),padding='valid'))\n",
    "#     # flattening the output in order to apply the fully connected layer\n",
    "#     model.add(Flatten())\n",
    "#     # adding first fully connected layer with 12 units\n",
    "#     model.add(Dense(12, activation='relu')) \n",
    "#     # adding the dropout layer to avoid overfitting\n",
    "#     model.add(Dropout(0.3))\n",
    "#     # adding softmax layer for the classification\n",
    "#     model.add(Dense(1, activation='sigmoid'))\n",
    "#     # Compiling the model to generate a model\n",
    "\n",
    "#     adam = optimizers.Adam(lr = 0.0001, decay=1e-6)\n",
    "\n",
    "#     model.compile(loss='binary_crossentropy', optimizer='adam', metrics=['accuracy'])\n",
    "\n",
    "# model.fit(X_train_cnn, y_train, epochs=20, batch_size=32, verbose=1)\n",
    "# elapsed = time.time()-start\n",
    "# print (f'Training time: {hms_string(elapsed)}')\n"
   ]
  },
  {
   "cell_type": "code",
   "execution_count": 32,
   "metadata": {},
   "outputs": [],
   "source": [
    "# model = Sequential()\n",
    "# model.add(Conv2D(8, (3, 3), activation='relu', input_shape=(1250,1)))\n",
    "# # model.add(layers.MaxPooling2D((2, 2)))\n",
    "# model.add(Flatten())\n",
    "# model.add(Dense(len(np.unique(y_train))))"
   ]
  },
  {
   "cell_type": "code",
   "execution_count": 33,
   "metadata": {},
   "outputs": [],
   "source": [
    "# model = Sequential()\n",
    "# model.add(Conv1D(filters=128, kernel_size=5, activation='relu',input_shape = (1250,1)))\n",
    "# model.add(MaxPooling1D(pool_size=2))\n",
    "# # model.add(LSTM(32))\n",
    "# model.add(Dropout(0.25))\n",
    "# model.add(Dense(1, activation='sigmoid'))"
   ]
  },
  {
   "cell_type": "code",
   "execution_count": 34,
   "metadata": {},
   "outputs": [
    {
     "name": "stdout",
     "output_type": "stream",
     "text": [
      "Model: \"sequential\"\n",
      "_________________________________________________________________\n",
      "Layer (type)                 Output Shape              Param #   \n",
      "=================================================================\n",
      "conv1d (Conv1D)              (None, 1248, 32)          128       \n",
      "_________________________________________________________________\n",
      "conv1d_1 (Conv1D)            (None, 1245, 16)          2064      \n",
      "_________________________________________________________________\n",
      "conv1d_2 (Conv1D)            (None, 1241, 8)           648       \n",
      "_________________________________________________________________\n",
      "dropout (Dropout)            (None, 1241, 8)           0         \n",
      "_________________________________________________________________\n",
      "flatten (Flatten)            (None, 9928)              0         \n",
      "_________________________________________________________________\n",
      "dense (Dense)                (None, 1)                 9929      \n",
      "=================================================================\n",
      "Total params: 12,769\n",
      "Trainable params: 12,769\n",
      "Non-trainable params: 0\n",
      "_________________________________________________________________\n"
     ]
    }
   ],
   "source": [
    "model.summary()"
   ]
  },
  {
   "cell_type": "code",
   "execution_count": 35,
   "metadata": {},
   "outputs": [],
   "source": [
    "# adam = optimizers.SGD(lr=0.001,decay=1e-6, momentum=0.9, nesterov=True) \n",
    "# adam = optimizers.Adam(lr = 0.0001, decay=1e-6)\n",
    "\n",
    "model.compile(loss='binary_crossentropy', optimizer='adam', metrics=['accuracy'])\n"
   ]
  },
  {
   "cell_type": "code",
   "execution_count": 36,
   "metadata": {},
   "outputs": [
    {
     "name": "stdout",
     "output_type": "stream",
     "text": [
      "Epoch 1/20\n"
     ]
    },
    {
     "name": "stderr",
     "output_type": "stream",
     "text": [
      "2022-10-05 12:57:22.943782: I tensorflow/stream_executor/platform/default/dso_loader.cc:44] Successfully opened dynamic library libcublas.so.10\n",
      "2022-10-05 12:57:23.092724: I tensorflow/stream_executor/platform/default/dso_loader.cc:44] Successfully opened dynamic library libcudnn.so.7\n"
     ]
    },
    {
     "name": "stdout",
     "output_type": "stream",
     "text": [
      "756/756 [==============================] - 3s 4ms/step - loss: 0.4691 - accuracy: 0.7812\n",
      "Epoch 2/20\n",
      "756/756 [==============================] - 3s 4ms/step - loss: 0.3410 - accuracy: 0.8592\n",
      "Epoch 3/20\n",
      "756/756 [==============================] - 3s 4ms/step - loss: 0.2844 - accuracy: 0.8886\n",
      "Epoch 4/20\n",
      "756/756 [==============================] - 3s 4ms/step - loss: 0.2371 - accuracy: 0.9106\n",
      "Epoch 5/20\n",
      "756/756 [==============================] - 3s 4ms/step - loss: 0.2070 - accuracy: 0.9217\n",
      "Epoch 6/20\n",
      "756/756 [==============================] - 3s 4ms/step - loss: 0.1806 - accuracy: 0.9317\n",
      "Epoch 7/20\n",
      "756/756 [==============================] - 3s 4ms/step - loss: 0.1625 - accuracy: 0.9388\n",
      "Epoch 8/20\n",
      "756/756 [==============================] - 3s 4ms/step - loss: 0.1437 - accuracy: 0.9460\n",
      "Epoch 9/20\n",
      "756/756 [==============================] - 3s 4ms/step - loss: 0.1327 - accuracy: 0.9507\n",
      "Epoch 10/20\n",
      "756/756 [==============================] - 3s 4ms/step - loss: 0.1215 - accuracy: 0.9551\n",
      "Epoch 11/20\n",
      "756/756 [==============================] - 3s 4ms/step - loss: 0.1075 - accuracy: 0.9585\n",
      "Epoch 12/20\n",
      "756/756 [==============================] - 3s 4ms/step - loss: 0.0984 - accuracy: 0.9624\n",
      "Epoch 13/20\n",
      "756/756 [==============================] - 3s 4ms/step - loss: 0.0884 - accuracy: 0.9681\n",
      "Epoch 14/20\n",
      "756/756 [==============================] - 3s 4ms/step - loss: 0.0826 - accuracy: 0.9694\n",
      "Epoch 15/20\n",
      "756/756 [==============================] - 3s 4ms/step - loss: 0.0810 - accuracy: 0.9705\n",
      "Epoch 16/20\n",
      "756/756 [==============================] - 3s 4ms/step - loss: 0.0751 - accuracy: 0.9725\n",
      "Epoch 17/20\n",
      "756/756 [==============================] - 3s 4ms/step - loss: 0.0668 - accuracy: 0.9760\n",
      "Epoch 18/20\n",
      "756/756 [==============================] - 3s 4ms/step - loss: 0.0641 - accuracy: 0.9770\n",
      "Epoch 19/20\n",
      "756/756 [==============================] - 3s 4ms/step - loss: 0.0594 - accuracy: 0.9784\n",
      "Epoch 20/20\n",
      "756/756 [==============================] - 3s 4ms/step - loss: 0.0584 - accuracy: 0.9781\n"
     ]
    },
    {
     "data": {
      "text/plain": [
       "<tensorflow.python.keras.callbacks.History at 0x7fd30452daf0>"
      ]
     },
     "execution_count": 36,
     "metadata": {},
     "output_type": "execute_result"
    }
   ],
   "source": [
    "# model.fit(X_train_cnn, y_train, validation_data = (X_valid_cnn, y_valid),epochs=epochs, batch_size=batch_size, verbose=verbose)\n",
    "model.fit(X_train_cnn, y_train, epochs=20, batch_size=32, verbose=1)"
   ]
  },
  {
   "cell_type": "code",
   "execution_count": 233,
   "metadata": {},
   "outputs": [],
   "source": [
    "\n",
    "# tf.saved_model.save(model, \"/data/space1/BooleanLab/TinyML/saved-model_5\" )\n"
   ]
  },
  {
   "cell_type": "code",
   "execution_count": 234,
   "metadata": {},
   "outputs": [],
   "source": [
    "# pickle.dump(model, open('./checkpoint_path/training_1/best_model_2.pkl', 'wb'))"
   ]
  },
  {
   "cell_type": "code",
   "execution_count": 235,
   "metadata": {},
   "outputs": [],
   "source": [
    "# model.save(\"./checkpoint_path/training_1/best_model_2.h5\")"
   ]
  },
  {
   "cell_type": "code",
   "execution_count": 37,
   "metadata": {},
   "outputs": [],
   "source": [
    "\n",
    "y_pred = model.predict(X_test_cnn)"
   ]
  },
  {
   "cell_type": "code",
   "execution_count": 38,
   "metadata": {},
   "outputs": [
    {
     "data": {
      "text/plain": [
       "array([[0.8440431 ],\n",
       "       [0.8025839 ],\n",
       "       [0.9999839 ],\n",
       "       ...,\n",
       "       [1.        ],\n",
       "       [1.        ],\n",
       "       [0.99999547]], dtype=float32)"
      ]
     },
     "execution_count": 38,
     "metadata": {},
     "output_type": "execute_result"
    }
   ],
   "source": [
    "y_pred"
   ]
  },
  {
   "cell_type": "code",
   "execution_count": 39,
   "metadata": {},
   "outputs": [
    {
     "name": "stdout",
     "output_type": "stream",
     "text": [
      "WARNING:tensorflow:From /tmp/ipykernel_4661/2207643554.py:1: Sequential.predict_classes (from tensorflow.python.keras.engine.sequential) is deprecated and will be removed after 2021-01-01.\n",
      "Instructions for updating:\n",
      "Please use instead:* `np.argmax(model.predict(x), axis=-1)`,   if your model does multi-class classification   (e.g. if it uses a `softmax` last-layer activation).* `(model.predict(x) > 0.5).astype(\"int32\")`,   if your model does binary classification   (e.g. if it uses a `sigmoid` last-layer activation).\n"
     ]
    }
   ],
   "source": [
    "y_pred_class = model.predict_classes(X_test_cnn)"
   ]
  },
  {
   "cell_type": "code",
   "execution_count": 40,
   "metadata": {},
   "outputs": [
    {
     "data": {
      "text/plain": [
       "array([[1],\n",
       "       [1],\n",
       "       [1],\n",
       "       ...,\n",
       "       [1],\n",
       "       [1],\n",
       "       [1]], dtype=int32)"
      ]
     },
     "execution_count": 40,
     "metadata": {},
     "output_type": "execute_result"
    }
   ],
   "source": [
    "y_pred_class"
   ]
  },
  {
   "cell_type": "code",
   "execution_count": 41,
   "metadata": {},
   "outputs": [],
   "source": [
    "conf_matrix = confusion_matrix(y_true=y_test, y_pred=y_pred_class)"
   ]
  },
  {
   "cell_type": "code",
   "execution_count": 42,
   "metadata": {},
   "outputs": [
    {
     "data": {
      "image/png": "[encoded data removed]",
      "text/plain": [
       "<Figure size 360x360 with 1 Axes>"
      ]
     },
     "metadata": {
      "needs_background": "light"
     },
     "output_type": "display_data"
    }
   ],
   "source": [
    "fig, ax = plt.subplots(figsize=(5, 5))\n",
    "ax.matshow(conf_matrix, cmap=plt.cm.Oranges, alpha=0.3)\n",
    "for i in range(conf_matrix.shape[0]):\n",
    "    for j in range(conf_matrix.shape[1]):\n",
    "        ax.text(x=j, y=i,s=conf_matrix[i, j], va='center', ha='center', size='xx-large')\n",
    " \n",
    "plt.xlabel('Predictions', fontsize=18)\n",
    "plt.ylabel('Actuals', fontsize=18)\n",
    "plt.title('Confusion Matrix', fontsize=18)\n",
    "plt.show()"
   ]
  },
  {
   "cell_type": "code",
   "execution_count": 43,
   "metadata": {},
   "outputs": [
    {
     "data": {
      "text/plain": [
       "0.9496810772501771"
      ]
     },
     "execution_count": 43,
     "metadata": {},
     "output_type": "execute_result"
    }
   ],
   "source": [
    "p = precision_score(y_test, y_pred_class)\n",
    "p"
   ]
  },
  {
   "cell_type": "code",
   "execution_count": 44,
   "metadata": {},
   "outputs": [
    {
     "name": "stdout",
     "output_type": "stream",
     "text": [
      "Precision: 0.950\n"
     ]
    }
   ],
   "source": [
    "\t\n",
    "print('Precision: %.3f' % precision_score(y_test, y_pred_class))"
   ]
  },
  {
   "cell_type": "code",
   "execution_count": null,
   "metadata": {},
   "outputs": [],
   "source": []
  },
  {
   "cell_type": "code",
   "execution_count": 45,
   "metadata": {},
   "outputs": [
    {
     "name": "stdout",
     "output_type": "stream",
     "text": [
      "Recall: 0.934\n"
     ]
    }
   ],
   "source": [
    "\t\n",
    "print('Recall: %.3f' % recall_score(y_test, y_pred_class))"
   ]
  },
  {
   "cell_type": "code",
   "execution_count": 46,
   "metadata": {},
   "outputs": [
    {
     "data": {
      "text/plain": [
       "0.9341233879400488"
      ]
     },
     "execution_count": 46,
     "metadata": {},
     "output_type": "execute_result"
    }
   ],
   "source": [
    "r = recall_score(y_test, y_pred_class)\n",
    "r"
   ]
  },
  {
   "cell_type": "code",
   "execution_count": 47,
   "metadata": {},
   "outputs": [
    {
     "name": "stdout",
     "output_type": "stream",
     "text": [
      "Accuracy: 0.945\n"
     ]
    }
   ],
   "source": [
    "print('Accuracy: %.3f' % accuracy_score(y_test, y_pred_class))"
   ]
  },
  {
   "cell_type": "code",
   "execution_count": 48,
   "metadata": {},
   "outputs": [
    {
     "name": "stdout",
     "output_type": "stream",
     "text": [
      "F1 Score: 0.942\n"
     ]
    }
   ],
   "source": [
    "\t\n",
    "print('F1 Score: %.3f' % f1_score(y_test, y_pred_class))"
   ]
  },
  {
   "cell_type": "code",
   "execution_count": 49,
   "metadata": {},
   "outputs": [
    {
     "data": {
      "text/plain": [
       "array([[3032,  142],\n",
       "       [ 189, 2680]])"
      ]
     },
     "execution_count": 49,
     "metadata": {},
     "output_type": "execute_result"
    }
   ],
   "source": [
    "from sklearn.metrics import confusion_matrix\n",
    "confusion_matrix(y_test,y_pred_class)"
   ]
  },
  {
   "cell_type": "code",
   "execution_count": 50,
   "metadata": {},
   "outputs": [
    {
     "data": {
      "text/plain": [
       "0.945225881184842"
      ]
     },
     "execution_count": 50,
     "metadata": {},
     "output_type": "execute_result"
    }
   ],
   "source": [
    "from sklearn.metrics import accuracy_score\n",
    "accuracy_score(y_test,y_pred_class)"
   ]
  },
  {
   "cell_type": "code",
   "execution_count": 51,
   "metadata": {},
   "outputs": [
    {
     "name": "stdout",
     "output_type": "stream",
     "text": [
      "              precision    recall  f1-score   support\n",
      "\n",
      "         0.0       0.94      0.96      0.95      3174\n",
      "         1.0       0.95      0.93      0.94      2869\n",
      "\n",
      "    accuracy                           0.95      6043\n",
      "   macro avg       0.95      0.94      0.95      6043\n",
      "weighted avg       0.95      0.95      0.95      6043\n",
      "\n"
     ]
    }
   ],
   "source": [
    "from sklearn.metrics import classification_report\n",
    "print(classification_report(y_test,y_pred_class))"
   ]
  },
  {
   "cell_type": "code",
   "execution_count": 52,
   "metadata": {},
   "outputs": [
    {
     "data": {
      "text/plain": [
       "array([0.95244079, 0.93719401])"
      ]
     },
     "execution_count": 52,
     "metadata": {},
     "output_type": "execute_result"
    }
   ],
   "source": [
    "fbeta_score(y_test, y_pred_class, average=None, beta=2)"
   ]
  },
  {
   "cell_type": "code",
   "execution_count": 53,
   "metadata": {},
   "outputs": [],
   "source": [
    "beta = 2"
   ]
  },
  {
   "cell_type": "code",
   "execution_count": 54,
   "metadata": {},
   "outputs": [],
   "source": [
    "f_beta = (1+beta**2) * (p * r) / ((beta**2)*p + r)"
   ]
  },
  {
   "cell_type": "code",
   "execution_count": 55,
   "metadata": {},
   "outputs": [
    {
     "data": {
      "text/plain": [
       "0.9371940131486923"
      ]
     },
     "execution_count": 55,
     "metadata": {},
     "output_type": "execute_result"
    }
   ],
   "source": [
    "f_beta"
   ]
  },
  {
   "cell_type": "code",
   "execution_count": 56,
   "metadata": {},
   "outputs": [],
   "source": [
    "prune_low_magnitude = tfmot.sparsity.keras.prune_low_magnitude"
   ]
  },
  {
   "cell_type": "code",
   "execution_count": 57,
   "metadata": {},
   "outputs": [],
   "source": [
    "# X_train_cnn.shape[0]"
   ]
  },
  {
   "cell_type": "code",
   "execution_count": 59,
   "metadata": {},
   "outputs": [],
   "source": [
    "num_train_data = X_train_cnn.shape[0] \n",
    "end_step = np.ceil(num_train_data / 32).astype(np.int32) * 20"
   ]
  },
  {
   "cell_type": "code",
   "execution_count": 60,
   "metadata": {},
   "outputs": [],
   "source": [
    "pruning_params = {\n",
    "      'pruning_schedule': tfmot.sparsity.keras.PolynomialDecay(initial_sparsity=0.50,\n",
    "                                                               final_sparsity=0.80,\n",
    "                                                               begin_step=0,\n",
    "                                                               end_step=end_step)\n",
    "}"
   ]
  },
  {
   "cell_type": "code",
   "execution_count": 61,
   "metadata": {},
   "outputs": [
    {
     "name": "stdout",
     "output_type": "stream",
     "text": [
      "WARNING:tensorflow:From /home/gputest/.conda/envs/tf_amitash/lib/python3.8/site-packages/tensorflow_model_optimization/python/core/sparsity/keras/pruning_wrapper.py:201: Layer.add_variable (from tensorflow.python.keras.engine.base_layer) is deprecated and will be removed in a future version.\n",
      "Instructions for updating:\n",
      "Please use `layer.add_weight` method instead.\n"
     ]
    }
   ],
   "source": [
    "model_for_pruning = prune_low_magnitude(model, **pruning_params)"
   ]
  },
  {
   "cell_type": "code",
   "execution_count": 62,
   "metadata": {},
   "outputs": [
    {
     "name": "stdout",
     "output_type": "stream",
     "text": [
      "Model: \"sequential\"\n",
      "_________________________________________________________________\n",
      "Layer (type)                 Output Shape              Param #   \n",
      "=================================================================\n",
      "prune_low_magnitude_conv1d ( (None, 1248, 32)          226       \n",
      "_________________________________________________________________\n",
      "prune_low_magnitude_conv1d_1 (None, 1245, 16)          4114      \n",
      "_________________________________________________________________\n",
      "prune_low_magnitude_conv1d_2 (None, 1241, 8)           1290      \n",
      "_________________________________________________________________\n",
      "prune_low_magnitude_dropout  (None, 1241, 8)           1         \n",
      "_________________________________________________________________\n",
      "prune_low_magnitude_flatten  (None, 9928)              1         \n",
      "_________________________________________________________________\n",
      "prune_low_magnitude_dense (P (None, 1)                 19859     \n",
      "=================================================================\n",
      "Total params: 25,491\n",
      "Trainable params: 12,769\n",
      "Non-trainable params: 12,722\n",
      "_________________________________________________________________\n"
     ]
    }
   ],
   "source": [
    "\n",
    "model_for_pruning.compile(optimizer='adam',\n",
    "              loss=tf.keras.losses.BinaryCrossentropy(from_logits=True),\n",
    "              metrics=['accuracy'])\n",
    "\n",
    "model_for_pruning.summary()"
   ]
  },
  {
   "cell_type": "code",
   "execution_count": 63,
   "metadata": {},
   "outputs": [
    {
     "name": "stderr",
     "output_type": "stream",
     "text": [
      "2022-10-05 12:59:18.634168: I tensorflow/core/profiler/lib/profiler_session.cc:159] Profiler session started.\n",
      "2022-10-05 12:59:18.634275: I tensorflow/core/profiler/internal/gpu/cupti_tracer.cc:1363] Profiler found 4 GPUs\n",
      "2022-10-05 12:59:18.637232: I tensorflow/stream_executor/platform/default/dso_loader.cc:44] Successfully opened dynamic library libcupti.so.10.1\n",
      "2022-10-05 12:59:18.737862: E tensorflow/core/profiler/internal/gpu/cupti_tracer.cc:1408] function cupti_interface_->Subscribe( &subscriber_, (CUpti_CallbackFunc)ApiCallback, this)failed with error CUPTI_ERROR_INSUFFICIENT_PRIVILEGES\n",
      "2022-10-05 12:59:18.739881: E tensorflow/core/profiler/internal/gpu/cupti_tracer.cc:1447] function cupti_interface_->ActivityRegisterCallbacks( AllocCuptiActivityBuffer, FreeCuptiActivityBuffer)failed with error CUPTI_ERROR_INSUFFICIENT_PRIVILEGES\n",
      "2022-10-05 12:59:18.740831: E tensorflow/core/profiler/internal/gpu/cupti_tracer.cc:1430] function cupti_interface_->EnableCallback( 0 , subscriber_, CUPTI_CB_DOMAIN_DRIVER_API, cbid)failed with error CUPTI_ERROR_INVALID_PARAMETER\n",
      "2022-10-05 12:59:18.983885: W tensorflow/python/util/util.cc:329] Sets are not currently considered sequences, but this may change in the future, so consider avoiding using them.\n"
     ]
    },
    {
     "name": "stdout",
     "output_type": "stream",
     "text": [
      "Epoch 1/20\n",
      " 27/756 [>.............................] - ETA: 4s - loss: 0.5497 - accuracy: 0.9757"
     ]
    },
    {
     "name": "stderr",
     "output_type": "stream",
     "text": [
      "2022-10-05 12:59:20.812116: I tensorflow/core/profiler/lib/profiler_session.cc:159] Profiler session started.\n",
      "2022-10-05 12:59:20.812246: E tensorflow/core/profiler/internal/gpu/cupti_tracer.cc:1408] function cupti_interface_->Subscribe( &subscriber_, (CUpti_CallbackFunc)ApiCallback, this)failed with error CUPTI_ERROR_NOT_INITIALIZED\n",
      "2022-10-05 12:59:20.813533: E tensorflow/core/profiler/internal/gpu/cupti_tracer.cc:1447] function cupti_interface_->ActivityRegisterCallbacks( AllocCuptiActivityBuffer, FreeCuptiActivityBuffer)failed with error CUPTI_ERROR_NOT_INITIALIZED\n",
      "2022-10-05 12:59:20.821960: E tensorflow/core/profiler/internal/gpu/cupti_tracer.cc:1430] function cupti_interface_->EnableCallback( 0 , subscriber_, CUPTI_CB_DOMAIN_DRIVER_API, cbid)failed with error CUPTI_ERROR_INVALID_PARAMETER\n",
      "2022-10-05 12:59:20.822335: I tensorflow/core/profiler/internal/gpu/device_tracer.cc:216]  GpuTracer has collected 0 callback api events and 0 activity events.\n",
      "2022-10-05 12:59:20.826480: I tensorflow/core/profiler/rpc/client/save_profile.cc:168] Creating directory: /tmp/tmpjptq_cy7/train/plugins/profile/2022_10_05_12_59_20\n",
      "2022-10-05 12:59:20.828235: I tensorflow/core/profiler/rpc/client/save_profile.cc:174] Dumped gzipped tool data for trace.json.gz to /tmp/tmpjptq_cy7/train/plugins/profile/2022_10_05_12_59_20/gene-gpu.trace.json.gz\n",
      "2022-10-05 12:59:20.828830: I tensorflow/core/profiler/utils/event_span.cc:288] Generation of step-events took 0 ms\n",
      "\n",
      "2022-10-05 12:59:20.829560: I tensorflow/python/profiler/internal/profiler_wrapper.cc:87] Creating directory: /tmp/tmpjptq_cy7/train/plugins/profile/2022_10_05_12_59_20Dumped tool data for overview_page.pb to /tmp/tmpjptq_cy7/train/plugins/profile/2022_10_05_12_59_20/gene-gpu.overview_page.pb\n",
      "Dumped tool data for input_pipeline.pb to /tmp/tmpjptq_cy7/train/plugins/profile/2022_10_05_12_59_20/gene-gpu.input_pipeline.pb\n",
      "Dumped tool data for tensorflow_stats.pb to /tmp/tmpjptq_cy7/train/plugins/profile/2022_10_05_12_59_20/gene-gpu.tensorflow_stats.pb\n",
      "Dumped tool data for kernel_stats.pb to /tmp/tmpjptq_cy7/train/plugins/profile/2022_10_05_12_59_20/gene-gpu.kernel_stats.pb\n",
      "\n"
     ]
    },
    {
     "name": "stdout",
     "output_type": "stream",
     "text": [
      "756/756 [==============================] - 5s 6ms/step - loss: 0.5589 - accuracy: 0.9178\n",
      "Epoch 2/20\n",
      "756/756 [==============================] - 5s 6ms/step - loss: 0.5442 - accuracy: 0.9508\n",
      "Epoch 3/20\n",
      "756/756 [==============================] - 5s 6ms/step - loss: 0.5417 - accuracy: 0.9570\n",
      "Epoch 4/20\n",
      "756/756 [==============================] - 5s 6ms/step - loss: 0.5426 - accuracy: 0.9558\n",
      "Epoch 5/20\n",
      "756/756 [==============================] - 5s 6ms/step - loss: 0.5440 - accuracy: 0.9515\n",
      "Epoch 6/20\n",
      "756/756 [==============================] - 5s 6ms/step - loss: 0.5441 - accuracy: 0.9516\n",
      "Epoch 7/20\n",
      "756/756 [==============================] - 5s 6ms/step - loss: 0.5444 - accuracy: 0.9519\n",
      "Epoch 8/20\n",
      "756/756 [==============================] - 5s 6ms/step - loss: 0.5446 - accuracy: 0.9515\n",
      "Epoch 9/20\n",
      "756/756 [==============================] - 5s 6ms/step - loss: 0.5506 - accuracy: 0.9357\n",
      "Epoch 10/20\n",
      "756/756 [==============================] - 5s 6ms/step - loss: 0.5472 - accuracy: 0.9439\n",
      "Epoch 11/20\n",
      "756/756 [==============================] - 5s 6ms/step - loss: 0.5480 - accuracy: 0.9415\n",
      "Epoch 12/20\n",
      "756/756 [==============================] - 5s 6ms/step - loss: 0.5480 - accuracy: 0.9431\n",
      "Epoch 13/20\n",
      "756/756 [==============================] - 5s 6ms/step - loss: 0.5463 - accuracy: 0.9466\n",
      "Epoch 14/20\n",
      "756/756 [==============================] - 5s 6ms/step - loss: 0.5494 - accuracy: 0.9406\n",
      "Epoch 15/20\n",
      "756/756 [==============================] - 5s 6ms/step - loss: 0.5472 - accuracy: 0.9437\n",
      "Epoch 16/20\n",
      "756/756 [==============================] - 5s 6ms/step - loss: 0.5461 - accuracy: 0.9458\n",
      "Epoch 17/20\n",
      "756/756 [==============================] - 5s 6ms/step - loss: 0.5473 - accuracy: 0.9420\n",
      "Epoch 18/20\n",
      "756/756 [==============================] - 5s 7ms/step - loss: 0.5451 - accuracy: 0.9482\n",
      "Epoch 19/20\n",
      "756/756 [==============================] - 5s 6ms/step - loss: 0.5450 - accuracy: 0.9473\n",
      "Epoch 20/20\n",
      "756/756 [==============================] - 5s 6ms/step - loss: 0.5436 - accuracy: 0.9513\n"
     ]
    },
    {
     "data": {
      "text/plain": [
       "<tensorflow.python.keras.callbacks.History at 0x7fd3046c9340>"
      ]
     },
     "execution_count": 63,
     "metadata": {},
     "output_type": "execute_result"
    }
   ],
   "source": [
    "logdir = tempfile.mkdtemp()\n",
    "\n",
    "callbacks = [\n",
    "  tfmot.sparsity.keras.UpdatePruningStep(),\n",
    "  tfmot.sparsity.keras.PruningSummaries(log_dir=logdir),\n",
    "]\n",
    "\n",
    "model_for_pruning.fit(X_train_cnn, y_train, epochs=20, batch_size=32, verbose=1, callbacks=callbacks)\n",
    "\n"
   ]
  },
  {
   "cell_type": "code",
   "execution_count": 64,
   "metadata": {},
   "outputs": [],
   "source": [
    "y_pred = model_for_pruning.predict(X_test_cnn)"
   ]
  },
  {
   "cell_type": "code",
   "execution_count": 65,
   "metadata": {},
   "outputs": [
    {
     "data": {
      "text/plain": [
       "array([[0.97988623],\n",
       "       [0.54000074],\n",
       "       [0.9999932 ],\n",
       "       ...,\n",
       "       [1.        ],\n",
       "       [1.        ],\n",
       "       [0.98719275]], dtype=float32)"
      ]
     },
     "execution_count": 65,
     "metadata": {},
     "output_type": "execute_result"
    }
   ],
   "source": [
    "y_pred"
   ]
  },
  {
   "cell_type": "code",
   "execution_count": 66,
   "metadata": {},
   "outputs": [],
   "source": [
    "y_pred_class = model_for_pruning.predict_classes(X_test_cnn)"
   ]
  },
  {
   "cell_type": "code",
   "execution_count": 67,
   "metadata": {},
   "outputs": [
    {
     "data": {
      "text/plain": [
       "array([[1],\n",
       "       [1],\n",
       "       [1],\n",
       "       ...,\n",
       "       [1],\n",
       "       [1],\n",
       "       [1]], dtype=int32)"
      ]
     },
     "execution_count": 67,
     "metadata": {},
     "output_type": "execute_result"
    }
   ],
   "source": [
    "y_pred_class"
   ]
  },
  {
   "cell_type": "code",
   "execution_count": 68,
   "metadata": {},
   "outputs": [],
   "source": [
    "conf_matrix = confusion_matrix(y_true=y_test, y_pred=y_pred_class)"
   ]
  },
  {
   "cell_type": "code",
   "execution_count": 69,
   "metadata": {},
   "outputs": [
    {
     "data": {
      "image/png": "[encoded data removed]",
      "text/plain": [
       "<Figure size 360x360 with 1 Axes>"
      ]
     },
     "metadata": {
      "needs_background": "light"
     },
     "output_type": "display_data"
    }
   ],
   "source": [
    "fig, ax = plt.subplots(figsize=(5, 5))\n",
    "ax.matshow(conf_matrix, cmap=plt.cm.Oranges, alpha=0.3)\n",
    "for i in range(conf_matrix.shape[0]):\n",
    "    for j in range(conf_matrix.shape[1]):\n",
    "        ax.text(x=j, y=i,s=conf_matrix[i, j], va='center', ha='center', size='xx-large')\n",
    " \n",
    "plt.xlabel('Predictions', fontsize=18)\n",
    "plt.ylabel('Actuals', fontsize=18)\n",
    "plt.title('Confusion Matrix', fontsize=18)\n",
    "plt.show()"
   ]
  },
  {
   "cell_type": "code",
   "execution_count": 70,
   "metadata": {},
   "outputs": [
    {
     "data": {
      "text/plain": [
       "0.9606697819314641"
      ]
     },
     "execution_count": 70,
     "metadata": {},
     "output_type": "execute_result"
    }
   ],
   "source": [
    "p = precision_score(y_test, y_pred_class)\n",
    "p"
   ]
  },
  {
   "cell_type": "code",
   "execution_count": 80,
   "metadata": {},
   "outputs": [
    {
     "name": "stdout",
     "output_type": "stream",
     "text": [
      "Precision: 0.961\n"
     ]
    }
   ],
   "source": [
    "\t\n",
    "print('Precision: %.3f' % precision_score(y_test, y_pred_class))"
   ]
  },
  {
   "cell_type": "code",
   "execution_count": 81,
   "metadata": {},
   "outputs": [
    {
     "name": "stdout",
     "output_type": "stream",
     "text": [
      "Recall: 0.860\n"
     ]
    }
   ],
   "source": [
    "print('Recall: %.3f' % recall_score(y_test, y_pred_class))"
   ]
  },
  {
   "cell_type": "code",
   "execution_count": 82,
   "metadata": {},
   "outputs": [
    {
     "data": {
      "text/plain": [
       "0.8598814918089926"
      ]
     },
     "execution_count": 82,
     "metadata": {},
     "output_type": "execute_result"
    }
   ],
   "source": [
    "r = recall_score(y_test, y_pred_class)\n",
    "r"
   ]
  },
  {
   "cell_type": "code",
   "execution_count": 83,
   "metadata": {},
   "outputs": [
    {
     "name": "stdout",
     "output_type": "stream",
     "text": [
      "Accuracy: 0.917\n"
     ]
    }
   ],
   "source": [
    "print('Accuracy: %.3f' % accuracy_score(y_test, y_pred_class))"
   ]
  },
  {
   "cell_type": "code",
   "execution_count": 84,
   "metadata": {},
   "outputs": [
    {
     "name": "stdout",
     "output_type": "stream",
     "text": [
      "F1 Score: 0.907\n"
     ]
    }
   ],
   "source": [
    "print('F1 Score: %.3f' % f1_score(y_test, y_pred_class))"
   ]
  },
  {
   "cell_type": "code",
   "execution_count": 85,
   "metadata": {},
   "outputs": [
    {
     "data": {
      "text/plain": [
       "array([[3073,  101],\n",
       "       [ 402, 2467]])"
      ]
     },
     "execution_count": 85,
     "metadata": {},
     "output_type": "execute_result"
    }
   ],
   "source": [
    "from sklearn.metrics import confusion_matrix\n",
    "confusion_matrix(y_test,y_pred_class)"
   ]
  },
  {
   "cell_type": "code",
   "execution_count": 86,
   "metadata": {},
   "outputs": [
    {
     "data": {
      "text/plain": [
       "0.9167631970875393"
      ]
     },
     "execution_count": 86,
     "metadata": {},
     "output_type": "execute_result"
    }
   ],
   "source": [
    "from sklearn.metrics import accuracy_score\n",
    "accuracy_score(y_test,y_pred_class)"
   ]
  },
  {
   "cell_type": "code",
   "execution_count": 87,
   "metadata": {},
   "outputs": [
    {
     "name": "stdout",
     "output_type": "stream",
     "text": [
      "              precision    recall  f1-score   support\n",
      "\n",
      "         0.0       0.88      0.97      0.92      3174\n",
      "         1.0       0.96      0.86      0.91      2869\n",
      "\n",
      "    accuracy                           0.92      6043\n",
      "   macro avg       0.92      0.91      0.92      6043\n",
      "weighted avg       0.92      0.92      0.92      6043\n",
      "\n"
     ]
    }
   ],
   "source": [
    "from sklearn.metrics import classification_report\n",
    "print(classification_report(y_test,y_pred_class))"
   ]
  },
  {
   "cell_type": "code",
   "execution_count": 88,
   "metadata": {},
   "outputs": [
    {
     "data": {
      "text/plain": [
       "array([0.95015769, 0.87831102])"
      ]
     },
     "execution_count": 88,
     "metadata": {},
     "output_type": "execute_result"
    }
   ],
   "source": [
    "fbeta_score(y_test, y_pred_class, average=None, beta=2)"
   ]
  },
  {
   "cell_type": "code",
   "execution_count": 89,
   "metadata": {},
   "outputs": [],
   "source": [
    "# tf.saved_model.save(model_for_pruning, \"/data/space1/BooleanLab/TinyML/saved-model_prune\" )"
   ]
  },
  {
   "cell_type": "code",
   "execution_count": 90,
   "metadata": {},
   "outputs": [],
   "source": [
    "model_for_export = tfmot.sparsity.keras.strip_pruning(model)\n",
    "\n",
    "# _, pruned_keras_file = tempfile.mkstemp('.h5')\n",
    "# _, pruned_keras_file = \"/data/space1/BooleanLab/TinyML/test_prune.h5\"\n",
    "# tf.keras.models.save_model(model_for_export, pruned_keras_file, include_optimizer=False)\n",
    "# tf.keras.models.save_model(model_for_export, \"/data/space1/BooleanLab/TinyML/test_prune\", include_optimizer=False)\n",
    "# print('Saved pruned Keras model to:', pruned_keras_file)"
   ]
  },
  {
   "cell_type": "code",
   "execution_count": 91,
   "metadata": {},
   "outputs": [
    {
     "name": "stderr",
     "output_type": "stream",
     "text": [
      "2022-10-05 13:04:18.709131: I tensorflow/core/grappler/devices.cc:55] Number of eligible GPUs (core count >= 8, compute capability >= 0.0): 4\n",
      "2022-10-05 13:04:18.709321: I tensorflow/core/grappler/clusters/single_machine.cc:356] Starting new session\n",
      "2022-10-05 13:04:18.712353: I tensorflow/core/common_runtime/gpu/gpu_device.cc:1561] Found device 0 with properties: \n",
      "pciBusID: 0000:02:00.0 name: GeForce GTX 1080 Ti computeCapability: 6.1\n",
      "coreClock: 1.582GHz coreCount: 28 deviceMemorySize: 10.92GiB deviceMemoryBandwidth: 451.17GiB/s\n",
      "2022-10-05 13:04:18.713436: I tensorflow/core/common_runtime/gpu/gpu_device.cc:1561] Found device 1 with properties: \n",
      "pciBusID: 0000:03:00.0 name: GeForce GTX 1080 Ti computeCapability: 6.1\n",
      "coreClock: 1.582GHz coreCount: 28 deviceMemorySize: 10.92GiB deviceMemoryBandwidth: 451.17GiB/s\n",
      "2022-10-05 13:04:18.714467: I tensorflow/core/common_runtime/gpu/gpu_device.cc:1561] Found device 2 with properties: \n",
      "pciBusID: 0000:81:00.0 name: GeForce GTX 1080 Ti computeCapability: 6.1\n",
      "coreClock: 1.582GHz coreCount: 28 deviceMemorySize: 10.92GiB deviceMemoryBandwidth: 451.17GiB/s\n",
      "2022-10-05 13:04:18.715440: I tensorflow/core/common_runtime/gpu/gpu_device.cc:1561] Found device 3 with properties: \n",
      "pciBusID: 0000:82:00.0 name: GeForce GTX 1080 Ti computeCapability: 6.1\n",
      "coreClock: 1.582GHz coreCount: 28 deviceMemorySize: 10.92GiB deviceMemoryBandwidth: 451.17GiB/s\n",
      "2022-10-05 13:04:18.715549: I tensorflow/stream_executor/platform/default/dso_loader.cc:44] Successfully opened dynamic library libcudart.so.10.1\n",
      "2022-10-05 13:04:18.715583: I tensorflow/stream_executor/platform/default/dso_loader.cc:44] Successfully opened dynamic library libcublas.so.10\n",
      "2022-10-05 13:04:18.715619: I tensorflow/stream_executor/platform/default/dso_loader.cc:44] Successfully opened dynamic library libcufft.so.10\n",
      "2022-10-05 13:04:18.715644: I tensorflow/stream_executor/platform/default/dso_loader.cc:44] Successfully opened dynamic library libcurand.so.10\n",
      "2022-10-05 13:04:18.715668: I tensorflow/stream_executor/platform/default/dso_loader.cc:44] Successfully opened dynamic library libcusolver.so.10\n",
      "2022-10-05 13:04:18.715691: I tensorflow/stream_executor/platform/default/dso_loader.cc:44] Successfully opened dynamic library libcusparse.so.10\n",
      "2022-10-05 13:04:18.715714: I tensorflow/stream_executor/platform/default/dso_loader.cc:44] Successfully opened dynamic library libcudnn.so.7\n",
      "2022-10-05 13:04:18.722133: I tensorflow/core/common_runtime/gpu/gpu_device.cc:1703] Adding visible gpu devices: 0, 1, 2, 3\n",
      "2022-10-05 13:04:18.722243: I tensorflow/core/common_runtime/gpu/gpu_device.cc:1102] Device interconnect StreamExecutor with strength 1 edge matrix:\n",
      "2022-10-05 13:04:18.722251: I tensorflow/core/common_runtime/gpu/gpu_device.cc:1108]      0 1 2 3 \n",
      "2022-10-05 13:04:18.722256: I tensorflow/core/common_runtime/gpu/gpu_device.cc:1121] 0:   N Y N N \n",
      "2022-10-05 13:04:18.722259: I tensorflow/core/common_runtime/gpu/gpu_device.cc:1121] 1:   Y N N N \n",
      "2022-10-05 13:04:18.722262: I tensorflow/core/common_runtime/gpu/gpu_device.cc:1121] 2:   N N N Y \n",
      "2022-10-05 13:04:18.722265: I tensorflow/core/common_runtime/gpu/gpu_device.cc:1121] 3:   N N Y N \n",
      "2022-10-05 13:04:18.726341: I tensorflow/core/common_runtime/gpu/gpu_device.cc:1247] Created TensorFlow device (/job:localhost/replica:0/task:0/device:GPU:0 with 10377 MB memory) -> physical GPU (device: 0, name: GeForce GTX 1080 Ti, pci bus id: 0000:02:00.0, compute capability: 6.1)\n",
      "2022-10-05 13:04:18.727374: I tensorflow/core/common_runtime/gpu/gpu_device.cc:1247] Created TensorFlow device (/job:localhost/replica:0/task:0/device:GPU:1 with 10378 MB memory) -> physical GPU (device: 1, name: GeForce GTX 1080 Ti, pci bus id: 0000:03:00.0, compute capability: 6.1)\n",
      "2022-10-05 13:04:18.728500: I tensorflow/core/common_runtime/gpu/gpu_device.cc:1247] Created TensorFlow device (/job:localhost/replica:0/task:0/device:GPU:2 with 10378 MB memory) -> physical GPU (device: 2, name: GeForce GTX 1080 Ti, pci bus id: 0000:81:00.0, compute capability: 6.1)\n",
      "2022-10-05 13:04:18.729762: I tensorflow/core/common_runtime/gpu/gpu_device.cc:1247] Created TensorFlow device (/job:localhost/replica:0/task:0/device:GPU:3 with 10378 MB memory) -> physical GPU (device: 3, name: GeForce GTX 1080 Ti, pci bus id: 0000:82:00.0, compute capability: 6.1)\n",
      "2022-10-05 13:04:18.737315: I tensorflow/core/grappler/optimizers/meta_optimizer.cc:797] Optimization results for grappler item: graph_to_optimize\n",
      "2022-10-05 13:04:18.737349: I tensorflow/core/grappler/optimizers/meta_optimizer.cc:799]   function_optimizer: function_optimizer did nothing. time = 0.003ms.\n",
      "2022-10-05 13:04:18.737359: I tensorflow/core/grappler/optimizers/meta_optimizer.cc:799]   function_optimizer: function_optimizer did nothing. time = 0.016ms.\n",
      "2022-10-05 13:04:18.818655: I tensorflow/core/grappler/devices.cc:55] Number of eligible GPUs (core count >= 8, compute capability >= 0.0): 4\n",
      "2022-10-05 13:04:18.818746: I tensorflow/core/grappler/clusters/single_machine.cc:356] Starting new session\n",
      "2022-10-05 13:04:18.819652: I tensorflow/core/common_runtime/gpu/gpu_device.cc:1561] Found device 0 with properties: \n",
      "pciBusID: 0000:02:00.0 name: GeForce GTX 1080 Ti computeCapability: 6.1\n",
      "coreClock: 1.582GHz coreCount: 28 deviceMemorySize: 10.92GiB deviceMemoryBandwidth: 451.17GiB/s\n",
      "2022-10-05 13:04:18.822503: I tensorflow/core/common_runtime/gpu/gpu_device.cc:1561] Found device 1 with properties: \n",
      "pciBusID: 0000:03:00.0 name: GeForce GTX 1080 Ti computeCapability: 6.1\n",
      "coreClock: 1.582GHz coreCount: 28 deviceMemorySize: 10.92GiB deviceMemoryBandwidth: 451.17GiB/s\n",
      "2022-10-05 13:04:18.823535: I tensorflow/core/common_runtime/gpu/gpu_device.cc:1561] Found device 2 with properties: \n",
      "pciBusID: 0000:81:00.0 name: GeForce GTX 1080 Ti computeCapability: 6.1\n",
      "coreClock: 1.582GHz coreCount: 28 deviceMemorySize: 10.92GiB deviceMemoryBandwidth: 451.17GiB/s\n",
      "2022-10-05 13:04:18.824531: I tensorflow/core/common_runtime/gpu/gpu_device.cc:1561] Found device 3 with properties: \n",
      "pciBusID: 0000:82:00.0 name: GeForce GTX 1080 Ti computeCapability: 6.1\n",
      "coreClock: 1.582GHz coreCount: 28 deviceMemorySize: 10.92GiB deviceMemoryBandwidth: 451.17GiB/s\n",
      "2022-10-05 13:04:18.824592: I tensorflow/stream_executor/platform/default/dso_loader.cc:44] Successfully opened dynamic library libcudart.so.10.1\n",
      "2022-10-05 13:04:18.824610: I tensorflow/stream_executor/platform/default/dso_loader.cc:44] Successfully opened dynamic library libcublas.so.10\n",
      "2022-10-05 13:04:18.824626: I tensorflow/stream_executor/platform/default/dso_loader.cc:44] Successfully opened dynamic library libcufft.so.10\n",
      "2022-10-05 13:04:18.824642: I tensorflow/stream_executor/platform/default/dso_loader.cc:44] Successfully opened dynamic library libcurand.so.10\n",
      "2022-10-05 13:04:18.824657: I tensorflow/stream_executor/platform/default/dso_loader.cc:44] Successfully opened dynamic library libcusolver.so.10\n",
      "2022-10-05 13:04:18.824673: I tensorflow/stream_executor/platform/default/dso_loader.cc:44] Successfully opened dynamic library libcusparse.so.10\n",
      "2022-10-05 13:04:18.824689: I tensorflow/stream_executor/platform/default/dso_loader.cc:44] Successfully opened dynamic library libcudnn.so.7\n",
      "2022-10-05 13:04:18.831133: I tensorflow/core/common_runtime/gpu/gpu_device.cc:1703] Adding visible gpu devices: 0, 1, 2, 3\n",
      "2022-10-05 13:04:18.831181: I tensorflow/core/common_runtime/gpu/gpu_device.cc:1102] Device interconnect StreamExecutor with strength 1 edge matrix:\n",
      "2022-10-05 13:04:18.831186: I tensorflow/core/common_runtime/gpu/gpu_device.cc:1108]      0 1 2 3 \n",
      "2022-10-05 13:04:18.831190: I tensorflow/core/common_runtime/gpu/gpu_device.cc:1121] 0:   N Y N N \n",
      "2022-10-05 13:04:18.831193: I tensorflow/core/common_runtime/gpu/gpu_device.cc:1121] 1:   Y N N N \n",
      "2022-10-05 13:04:18.831196: I tensorflow/core/common_runtime/gpu/gpu_device.cc:1121] 2:   N N N Y \n",
      "2022-10-05 13:04:18.831199: I tensorflow/core/common_runtime/gpu/gpu_device.cc:1121] 3:   N N Y N \n",
      "2022-10-05 13:04:18.834731: I tensorflow/core/common_runtime/gpu/gpu_device.cc:1247] Created TensorFlow device (/job:localhost/replica:0/task:0/device:GPU:0 with 10377 MB memory) -> physical GPU (device: 0, name: GeForce GTX 1080 Ti, pci bus id: 0000:02:00.0, compute capability: 6.1)\n",
      "2022-10-05 13:04:18.835727: I tensorflow/core/common_runtime/gpu/gpu_device.cc:1247] Created TensorFlow device (/job:localhost/replica:0/task:0/device:GPU:1 with 10378 MB memory) -> physical GPU (device: 1, name: GeForce GTX 1080 Ti, pci bus id: 0000:03:00.0, compute capability: 6.1)\n",
      "2022-10-05 13:04:18.836741: I tensorflow/core/common_runtime/gpu/gpu_device.cc:1247] Created TensorFlow device (/job:localhost/replica:0/task:0/device:GPU:2 with 10378 MB memory) -> physical GPU (device: 2, name: GeForce GTX 1080 Ti, pci bus id: 0000:81:00.0, compute capability: 6.1)\n",
      "2022-10-05 13:04:18.837747: I tensorflow/core/common_runtime/gpu/gpu_device.cc:1247] Created TensorFlow device (/job:localhost/replica:0/task:0/device:GPU:3 with 10378 MB memory) -> physical GPU (device: 3, name: GeForce GTX 1080 Ti, pci bus id: 0000:82:00.0, compute capability: 6.1)\n",
      "2022-10-05 13:04:18.845876: I tensorflow/core/grappler/optimizers/meta_optimizer.cc:797] Optimization results for grappler item: graph_to_optimize\n",
      "2022-10-05 13:04:18.845891: I tensorflow/core/grappler/optimizers/meta_optimizer.cc:799]   constant_folding: Graph size after: 34 nodes (-14), 33 edges (-14), time = 1.827ms.\n",
      "2022-10-05 13:04:18.845895: I tensorflow/core/grappler/optimizers/meta_optimizer.cc:799]   constant_folding: Graph size after: 34 nodes (0), 33 edges (0), time = 0.55ms.\n"
     ]
    },
    {
     "name": "stdout",
     "output_type": "stream",
     "text": [
      "Saved pruned TFLite model to: /tmp/tmpw0kgjcyf.tflite\n"
     ]
    }
   ],
   "source": [
    "converter = tf.lite.TFLiteConverter.from_keras_model(model)\n",
    "pruned_tflite_model = converter.convert()\n",
    "\n",
    "_, pruned_tflite_file = tempfile.mkstemp('.tflite')\n",
    "\n",
    "with open(pruned_tflite_file, 'wb') as f:\n",
    "  f.write(pruned_tflite_model)\n",
    "\n",
    "print('Saved pruned TFLite model to:', pruned_tflite_file)"
   ]
  },
  {
   "cell_type": "code",
   "execution_count": 92,
   "metadata": {},
   "outputs": [],
   "source": [
    "def get_gzipped_model_size(file):\n",
    "  # Returns size of gzipped model, in bytes.\n",
    "  import os\n",
    "  import zipfile\n",
    "\n",
    "  _, zipped_file = tempfile.mkstemp('.zip')\n",
    "  with zipfile.ZipFile(zipped_file, 'w', compression=zipfile.ZIP_DEFLATED) as f:\n",
    "    f.write(file)\n",
    "\n",
    "  return os.path.getsize(zipped_file)"
   ]
  },
  {
   "cell_type": "code",
   "execution_count": 93,
   "metadata": {},
   "outputs": [
    {
     "name": "stdout",
     "output_type": "stream",
     "text": [
      "Size of gzipped pruned TFlite model: 17180.00 bytes\n"
     ]
    }
   ],
   "source": [
    "# print(\"Size of gzipped baseline Keras model: %.2f bytes\" % (get_gzipped_model_size(keras_file)))\n",
    "# print(\"Size of gzipped pruned Keras model: %.2f bytes\" % (get_gzipped_model_size(pruned_keras_file)))\n",
    "print(\"Size of gzipped pruned TFlite model: %.2f bytes\" % (get_gzipped_model_size(pruned_tflite_file)))"
   ]
  },
  {
   "cell_type": "code",
   "execution_count": 95,
   "metadata": {},
   "outputs": [
    {
     "name": "stderr",
     "output_type": "stream",
     "text": [
      "2022-10-05 13:05:41.682306: I tensorflow/core/grappler/devices.cc:55] Number of eligible GPUs (core count >= 8, compute capability >= 0.0): 4\n",
      "2022-10-05 13:05:41.682448: I tensorflow/core/grappler/clusters/single_machine.cc:356] Starting new session\n",
      "2022-10-05 13:05:41.683627: I tensorflow/core/common_runtime/gpu/gpu_device.cc:1561] Found device 0 with properties: \n",
      "pciBusID: 0000:02:00.0 name: GeForce GTX 1080 Ti computeCapability: 6.1\n",
      "coreClock: 1.582GHz coreCount: 28 deviceMemorySize: 10.92GiB deviceMemoryBandwidth: 451.17GiB/s\n",
      "2022-10-05 13:05:41.684642: I tensorflow/core/common_runtime/gpu/gpu_device.cc:1561] Found device 1 with properties: \n",
      "pciBusID: 0000:03:00.0 name: GeForce GTX 1080 Ti computeCapability: 6.1\n",
      "coreClock: 1.582GHz coreCount: 28 deviceMemorySize: 10.92GiB deviceMemoryBandwidth: 451.17GiB/s\n",
      "2022-10-05 13:05:41.685615: I tensorflow/core/common_runtime/gpu/gpu_device.cc:1561] Found device 2 with properties: \n",
      "pciBusID: 0000:81:00.0 name: GeForce GTX 1080 Ti computeCapability: 6.1\n",
      "coreClock: 1.582GHz coreCount: 28 deviceMemorySize: 10.92GiB deviceMemoryBandwidth: 451.17GiB/s\n",
      "2022-10-05 13:05:41.686581: I tensorflow/core/common_runtime/gpu/gpu_device.cc:1561] Found device 3 with properties: \n",
      "pciBusID: 0000:82:00.0 name: GeForce GTX 1080 Ti computeCapability: 6.1\n",
      "coreClock: 1.582GHz coreCount: 28 deviceMemorySize: 10.92GiB deviceMemoryBandwidth: 451.17GiB/s\n",
      "2022-10-05 13:05:41.686648: I tensorflow/stream_executor/platform/default/dso_loader.cc:44] Successfully opened dynamic library libcudart.so.10.1\n",
      "2022-10-05 13:05:41.686673: I tensorflow/stream_executor/platform/default/dso_loader.cc:44] Successfully opened dynamic library libcublas.so.10\n",
      "2022-10-05 13:05:41.686694: I tensorflow/stream_executor/platform/default/dso_loader.cc:44] Successfully opened dynamic library libcufft.so.10\n",
      "2022-10-05 13:05:41.686714: I tensorflow/stream_executor/platform/default/dso_loader.cc:44] Successfully opened dynamic library libcurand.so.10\n",
      "2022-10-05 13:05:41.686733: I tensorflow/stream_executor/platform/default/dso_loader.cc:44] Successfully opened dynamic library libcusolver.so.10\n",
      "2022-10-05 13:05:41.686753: I tensorflow/stream_executor/platform/default/dso_loader.cc:44] Successfully opened dynamic library libcusparse.so.10\n",
      "2022-10-05 13:05:41.686772: I tensorflow/stream_executor/platform/default/dso_loader.cc:44] Successfully opened dynamic library libcudnn.so.7\n",
      "2022-10-05 13:05:41.693414: I tensorflow/core/common_runtime/gpu/gpu_device.cc:1703] Adding visible gpu devices: 0, 1, 2, 3\n",
      "2022-10-05 13:05:41.693485: I tensorflow/core/common_runtime/gpu/gpu_device.cc:1102] Device interconnect StreamExecutor with strength 1 edge matrix:\n",
      "2022-10-05 13:05:41.693492: I tensorflow/core/common_runtime/gpu/gpu_device.cc:1108]      0 1 2 3 \n",
      "2022-10-05 13:05:41.693496: I tensorflow/core/common_runtime/gpu/gpu_device.cc:1121] 0:   N Y N N \n",
      "2022-10-05 13:05:41.693499: I tensorflow/core/common_runtime/gpu/gpu_device.cc:1121] 1:   Y N N N \n",
      "2022-10-05 13:05:41.693503: I tensorflow/core/common_runtime/gpu/gpu_device.cc:1121] 2:   N N N Y \n",
      "2022-10-05 13:05:41.693505: I tensorflow/core/common_runtime/gpu/gpu_device.cc:1121] 3:   N N Y N \n",
      "2022-10-05 13:05:41.697409: I tensorflow/core/common_runtime/gpu/gpu_device.cc:1247] Created TensorFlow device (/job:localhost/replica:0/task:0/device:GPU:0 with 10377 MB memory) -> physical GPU (device: 0, name: GeForce GTX 1080 Ti, pci bus id: 0000:02:00.0, compute capability: 6.1)\n",
      "2022-10-05 13:05:41.698352: I tensorflow/core/common_runtime/gpu/gpu_device.cc:1247] Created TensorFlow device (/job:localhost/replica:0/task:0/device:GPU:1 with 10378 MB memory) -> physical GPU (device: 1, name: GeForce GTX 1080 Ti, pci bus id: 0000:03:00.0, compute capability: 6.1)\n",
      "2022-10-05 13:05:41.699365: I tensorflow/core/common_runtime/gpu/gpu_device.cc:1247] Created TensorFlow device (/job:localhost/replica:0/task:0/device:GPU:2 with 10378 MB memory) -> physical GPU (device: 2, name: GeForce GTX 1080 Ti, pci bus id: 0000:81:00.0, compute capability: 6.1)\n",
      "2022-10-05 13:05:41.700299: I tensorflow/core/common_runtime/gpu/gpu_device.cc:1247] Created TensorFlow device (/job:localhost/replica:0/task:0/device:GPU:3 with 10378 MB memory) -> physical GPU (device: 3, name: GeForce GTX 1080 Ti, pci bus id: 0000:82:00.0, compute capability: 6.1)\n",
      "2022-10-05 13:05:41.703590: I tensorflow/core/grappler/optimizers/meta_optimizer.cc:797] Optimization results for grappler item: graph_to_optimize\n",
      "2022-10-05 13:05:41.703605: I tensorflow/core/grappler/optimizers/meta_optimizer.cc:799]   function_optimizer: function_optimizer did nothing. time = 0.002ms.\n",
      "2022-10-05 13:05:41.703609: I tensorflow/core/grappler/optimizers/meta_optimizer.cc:799]   function_optimizer: function_optimizer did nothing. time = 0ms.\n",
      "2022-10-05 13:05:41.744571: I tensorflow/core/grappler/devices.cc:55] Number of eligible GPUs (core count >= 8, compute capability >= 0.0): 4\n",
      "2022-10-05 13:05:41.744631: I tensorflow/core/grappler/clusters/single_machine.cc:356] Starting new session\n",
      "2022-10-05 13:05:41.745506: I tensorflow/core/common_runtime/gpu/gpu_device.cc:1561] Found device 0 with properties: \n",
      "pciBusID: 0000:02:00.0 name: GeForce GTX 1080 Ti computeCapability: 6.1\n",
      "coreClock: 1.582GHz coreCount: 28 deviceMemorySize: 10.92GiB deviceMemoryBandwidth: 451.17GiB/s\n",
      "2022-10-05 13:05:41.746495: I tensorflow/core/common_runtime/gpu/gpu_device.cc:1561] Found device 1 with properties: \n",
      "pciBusID: 0000:03:00.0 name: GeForce GTX 1080 Ti computeCapability: 6.1\n",
      "coreClock: 1.582GHz coreCount: 28 deviceMemorySize: 10.92GiB deviceMemoryBandwidth: 451.17GiB/s\n",
      "2022-10-05 13:05:41.747484: I tensorflow/core/common_runtime/gpu/gpu_device.cc:1561] Found device 2 with properties: \n",
      "pciBusID: 0000:81:00.0 name: GeForce GTX 1080 Ti computeCapability: 6.1\n",
      "coreClock: 1.582GHz coreCount: 28 deviceMemorySize: 10.92GiB deviceMemoryBandwidth: 451.17GiB/s\n",
      "2022-10-05 13:05:41.748477: I tensorflow/core/common_runtime/gpu/gpu_device.cc:1561] Found device 3 with properties: \n",
      "pciBusID: 0000:82:00.0 name: GeForce GTX 1080 Ti computeCapability: 6.1\n",
      "coreClock: 1.582GHz coreCount: 28 deviceMemorySize: 10.92GiB deviceMemoryBandwidth: 451.17GiB/s\n",
      "2022-10-05 13:05:41.748513: I tensorflow/stream_executor/platform/default/dso_loader.cc:44] Successfully opened dynamic library libcudart.so.10.1\n",
      "2022-10-05 13:05:41.748531: I tensorflow/stream_executor/platform/default/dso_loader.cc:44] Successfully opened dynamic library libcublas.so.10\n",
      "2022-10-05 13:05:41.748547: I tensorflow/stream_executor/platform/default/dso_loader.cc:44] Successfully opened dynamic library libcufft.so.10\n",
      "2022-10-05 13:05:41.748562: I tensorflow/stream_executor/platform/default/dso_loader.cc:44] Successfully opened dynamic library libcurand.so.10\n",
      "2022-10-05 13:05:41.748577: I tensorflow/stream_executor/platform/default/dso_loader.cc:44] Successfully opened dynamic library libcusolver.so.10\n",
      "2022-10-05 13:05:41.748592: I tensorflow/stream_executor/platform/default/dso_loader.cc:44] Successfully opened dynamic library libcusparse.so.10\n",
      "2022-10-05 13:05:41.748607: I tensorflow/stream_executor/platform/default/dso_loader.cc:44] Successfully opened dynamic library libcudnn.so.7\n",
      "2022-10-05 13:05:41.755004: I tensorflow/core/common_runtime/gpu/gpu_device.cc:1703] Adding visible gpu devices: 0, 1, 2, 3\n",
      "2022-10-05 13:05:41.755042: I tensorflow/core/common_runtime/gpu/gpu_device.cc:1102] Device interconnect StreamExecutor with strength 1 edge matrix:\n",
      "2022-10-05 13:05:41.755048: I tensorflow/core/common_runtime/gpu/gpu_device.cc:1108]      0 1 2 3 \n",
      "2022-10-05 13:05:41.755052: I tensorflow/core/common_runtime/gpu/gpu_device.cc:1121] 0:   N Y N N \n",
      "2022-10-05 13:05:41.755055: I tensorflow/core/common_runtime/gpu/gpu_device.cc:1121] 1:   Y N N N \n",
      "2022-10-05 13:05:41.755058: I tensorflow/core/common_runtime/gpu/gpu_device.cc:1121] 2:   N N N Y \n",
      "2022-10-05 13:05:41.755060: I tensorflow/core/common_runtime/gpu/gpu_device.cc:1121] 3:   N N Y N \n",
      "2022-10-05 13:05:41.758774: I tensorflow/core/common_runtime/gpu/gpu_device.cc:1247] Created TensorFlow device (/job:localhost/replica:0/task:0/device:GPU:0 with 10377 MB memory) -> physical GPU (device: 0, name: GeForce GTX 1080 Ti, pci bus id: 0000:02:00.0, compute capability: 6.1)\n",
      "2022-10-05 13:05:41.759762: I tensorflow/core/common_runtime/gpu/gpu_device.cc:1247] Created TensorFlow device (/job:localhost/replica:0/task:0/device:GPU:1 with 10378 MB memory) -> physical GPU (device: 1, name: GeForce GTX 1080 Ti, pci bus id: 0000:03:00.0, compute capability: 6.1)\n",
      "2022-10-05 13:05:41.760743: I tensorflow/core/common_runtime/gpu/gpu_device.cc:1247] Created TensorFlow device (/job:localhost/replica:0/task:0/device:GPU:2 with 10378 MB memory) -> physical GPU (device: 2, name: GeForce GTX 1080 Ti, pci bus id: 0000:81:00.0, compute capability: 6.1)\n",
      "2022-10-05 13:05:41.761734: I tensorflow/core/common_runtime/gpu/gpu_device.cc:1247] Created TensorFlow device (/job:localhost/replica:0/task:0/device:GPU:3 with 10378 MB memory) -> physical GPU (device: 3, name: GeForce GTX 1080 Ti, pci bus id: 0000:82:00.0, compute capability: 6.1)\n",
      "2022-10-05 13:05:41.767085: I tensorflow/core/grappler/optimizers/meta_optimizer.cc:797] Optimization results for grappler item: graph_to_optimize\n",
      "2022-10-05 13:05:41.767100: I tensorflow/core/grappler/optimizers/meta_optimizer.cc:799]   constant_folding: Graph size after: 34 nodes (-14), 33 edges (-14), time = 1.672ms.\n",
      "2022-10-05 13:05:41.767104: I tensorflow/core/grappler/optimizers/meta_optimizer.cc:799]   constant_folding: Graph size after: 34 nodes (0), 33 edges (0), time = 0.529ms.\n"
     ]
    },
    {
     "name": "stdout",
     "output_type": "stream",
     "text": [
      "Size of gzipped pruned and quantized TFlite model: 144.00 bytes\n"
     ]
    }
   ],
   "source": [
    "converter = tf.lite.TFLiteConverter.from_keras_model(model)\n",
    "converter.optimizations = [tf.lite.Optimize.OPTIMIZE_FOR_SIZE]\n",
    "quantized_and_pruned_tflite_model = converter.convert()\n",
    "\n",
    "_, quantized_and_pruned_tflite_file = tempfile.mkstemp('.tflite')\n",
    "\n",
    "# with open(\"/data/space1/BooleanLab/TinyML/final2.tflite\", 'wb') as f:\n",
    "#   f.write(quantized_and_pruned_tflite_model)\n",
    "\n",
    "# print('Saved quantized and pruned TFLite model to:', quantized_and_pruned_tflite_file)\n",
    "\n",
    "# # print(\"Size of gzipped baseline Keras model: %.2f bytes\" % (get_gzipped_model_size(keras_file)))\n",
    "print(\"Size of gzipped pruned and quantized TFlite model: %.2f bytes\" % (get_gzipped_model_size(quantized_and_pruned_tflite_file)))"
   ]
  },
  {
   "cell_type": "code",
   "execution_count": null,
   "metadata": {},
   "outputs": [],
   "source": []
  }
 ],
 "metadata": {
  "kernelspec": {
   "display_name": "Python 3.8.13 ('tf_amitash')",
   "language": "python",
   "name": "python3"
  },
  "language_info": {
   "codemirror_mode": {
    "name": "ipython",
    "version": 3
   },
   "file_extension": ".py",
   "mimetype": "text/x-python",
   "name": "python",
   "nbconvert_exporter": "python",
   "pygments_lexer": "ipython3",
   "version": "3.8.13"
  },
  "orig_nbformat": 4,
  "vscode": {
   "interpreter": {
    "hash": "bd416bf6c5a6ea162befb13fc556bf41f1790754173e04a5a57317908e94683e"
   }
  }
 },
 "nbformat": 4,
 "nbformat_minor": 2
}
